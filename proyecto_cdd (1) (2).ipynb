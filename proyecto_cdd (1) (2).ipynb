{
 "cells": [
  {
   "cell_type": "markdown",
   "metadata": {
    "id": "TNU1qptD_fAW"
   },
   "source": [
    "# Preprocesamiento\n",
    "Leemos los csv, limpiamos datos y hacemos melt de las columnas de meses\n",
    "\n",
    "\n",
    "\n",
    "---\n",
    "\n",
    "*Checar última sección (TODO) para pendientes*"
   ]
  },
  {
   "cell_type": "code",
   "execution_count": null,
   "metadata": {},
   "outputs": [],
   "source": []
  },
  {
   "cell_type": "code",
   "execution_count": null,
   "metadata": {},
   "outputs": [],
   "source": []
  },
  {
   "cell_type": "code",
   "execution_count": 37,
   "metadata": {
    "id": "P-ZG0HYiQLNy"
   },
   "outputs": [],
   "source": [
    "# Importa Pandas y Numpy\n",
    "import pandas as pd\n",
    "import numpy as np"
   ]
  },
  {
   "cell_type": "markdown",
   "metadata": {
    "id": "yoJ_B2SkOlVJ"
   },
   "source": [
    "## Datos generales, del año 2015 a enero 2022\n",
    "En esta sección se devuelve un dataframe con todos los datos de delitos por estado y con el melt hecho\n",
    "\n",
    "**TODO: fata quitar o rellenar los datos vacios**"
   ]
  },
  {
   "cell_type": "code",
   "execution_count": 38,
   "metadata": {
    "id": "sTKgOwoKb6T4"
   },
   "outputs": [],
   "source": [
    "path = 'https://raw.githubusercontent.com/MauTorres0215397/Pruebas/main/incidencias16_feb22.csv'\n",
    "df = pd.read_csv(path)"
   ]
  },
  {
   "cell_type": "code",
   "execution_count": 39,
   "metadata": {
    "colab": {
     "base_uri": "https://localhost:8080/"
    },
    "id": "q33M4XiL9Bf6",
    "outputId": "268f9f74-158b-4dd6-b390-09268c6688a2"
   },
   "outputs": [
    {
     "name": "stdout",
     "output_type": "stream",
     "text": [
      "<class 'pandas.core.frame.DataFrame'>\n",
      "RangeIndex: 25088 entries, 0 to 25087\n",
      "Data columns (total 19 columns):\n",
      " #   Column                  Non-Null Count  Dtype  \n",
      "---  ------                  --------------  -----  \n",
      " 0   Ano                     25088 non-null  int64  \n",
      " 1   Clave_Ent               25088 non-null  int64  \n",
      " 2   Entidad                 25088 non-null  object \n",
      " 3   Bien juridico afectado  25088 non-null  object \n",
      " 4   Tipo de delito          25088 non-null  object \n",
      " 5   Subtipo de delito       25088 non-null  object \n",
      " 6   Modalidad               25088 non-null  object \n",
      " 7   Enero                   25088 non-null  int64  \n",
      " 8   Febrero                 25088 non-null  int64  \n",
      " 9   Marzo                   21952 non-null  float64\n",
      " 10  Abril                   21952 non-null  float64\n",
      " 11  Mayo                    21952 non-null  float64\n",
      " 12  Junio                   21952 non-null  float64\n",
      " 13  Julio                   21952 non-null  float64\n",
      " 14  Agosto                  21952 non-null  float64\n",
      " 15  Septiembre              21952 non-null  float64\n",
      " 16  Octubre                 21952 non-null  float64\n",
      " 17  Noviembre               21952 non-null  float64\n",
      " 18  Diciembre               21952 non-null  float64\n",
      "dtypes: float64(10), int64(4), object(5)\n",
      "memory usage: 3.6+ MB\n"
     ]
    }
   ],
   "source": [
    "df.info()"
   ]
  },
  {
   "cell_type": "code",
   "execution_count": 40,
   "metadata": {
    "colab": {
     "base_uri": "https://localhost:8080/",
     "height": 0
    },
    "id": "aWXwv5wMcC-o",
    "outputId": "92f6e3d2-bdae-4495-d31a-2e10ca11f02b"
   },
   "outputs": [
    {
     "data": {
      "text/html": [
       "<div>\n",
       "<style scoped>\n",
       "    .dataframe tbody tr th:only-of-type {\n",
       "        vertical-align: middle;\n",
       "    }\n",
       "\n",
       "    .dataframe tbody tr th {\n",
       "        vertical-align: top;\n",
       "    }\n",
       "\n",
       "    .dataframe thead th {\n",
       "        text-align: right;\n",
       "    }\n",
       "</style>\n",
       "<table border=\"1\" class=\"dataframe\">\n",
       "  <thead>\n",
       "    <tr style=\"text-align: right;\">\n",
       "      <th></th>\n",
       "      <th>Ano</th>\n",
       "      <th>Clave_Ent</th>\n",
       "      <th>Entidad</th>\n",
       "      <th>Bien juridico afectado</th>\n",
       "      <th>Tipo de delito</th>\n",
       "      <th>Subtipo de delito</th>\n",
       "      <th>Modalidad</th>\n",
       "      <th>Enero</th>\n",
       "      <th>Febrero</th>\n",
       "      <th>Marzo</th>\n",
       "      <th>Abril</th>\n",
       "      <th>Mayo</th>\n",
       "      <th>Junio</th>\n",
       "      <th>Julio</th>\n",
       "      <th>Agosto</th>\n",
       "      <th>Septiembre</th>\n",
       "      <th>Octubre</th>\n",
       "      <th>Noviembre</th>\n",
       "      <th>Diciembre</th>\n",
       "    </tr>\n",
       "  </thead>\n",
       "  <tbody>\n",
       "    <tr>\n",
       "      <th>0</th>\n",
       "      <td>2015</td>\n",
       "      <td>1</td>\n",
       "      <td>Aguascalientes</td>\n",
       "      <td>La vida y la Integridad corporal</td>\n",
       "      <td>Homicidio</td>\n",
       "      <td>Homicidio doloso</td>\n",
       "      <td>Con arma de fuego</td>\n",
       "      <td>3</td>\n",
       "      <td>0</td>\n",
       "      <td>2.0</td>\n",
       "      <td>1.0</td>\n",
       "      <td>1.0</td>\n",
       "      <td>1.0</td>\n",
       "      <td>2.0</td>\n",
       "      <td>1.0</td>\n",
       "      <td>2.0</td>\n",
       "      <td>2.0</td>\n",
       "      <td>2.0</td>\n",
       "      <td>1.0</td>\n",
       "    </tr>\n",
       "    <tr>\n",
       "      <th>1</th>\n",
       "      <td>2015</td>\n",
       "      <td>1</td>\n",
       "      <td>Aguascalientes</td>\n",
       "      <td>La vida y la Integridad corporal</td>\n",
       "      <td>Homicidio</td>\n",
       "      <td>Homicidio doloso</td>\n",
       "      <td>Con arma blanca</td>\n",
       "      <td>1</td>\n",
       "      <td>1</td>\n",
       "      <td>0.0</td>\n",
       "      <td>0.0</td>\n",
       "      <td>0.0</td>\n",
       "      <td>1.0</td>\n",
       "      <td>0.0</td>\n",
       "      <td>1.0</td>\n",
       "      <td>0.0</td>\n",
       "      <td>0.0</td>\n",
       "      <td>0.0</td>\n",
       "      <td>1.0</td>\n",
       "    </tr>\n",
       "    <tr>\n",
       "      <th>2</th>\n",
       "      <td>2015</td>\n",
       "      <td>1</td>\n",
       "      <td>Aguascalientes</td>\n",
       "      <td>La vida y la Integridad corporal</td>\n",
       "      <td>Homicidio</td>\n",
       "      <td>Homicidio doloso</td>\n",
       "      <td>Con otro elemento</td>\n",
       "      <td>0</td>\n",
       "      <td>0</td>\n",
       "      <td>2.0</td>\n",
       "      <td>2.0</td>\n",
       "      <td>3.0</td>\n",
       "      <td>2.0</td>\n",
       "      <td>0.0</td>\n",
       "      <td>1.0</td>\n",
       "      <td>2.0</td>\n",
       "      <td>0.0</td>\n",
       "      <td>0.0</td>\n",
       "      <td>0.0</td>\n",
       "    </tr>\n",
       "  </tbody>\n",
       "</table>\n",
       "</div>"
      ],
      "text/plain": [
       "    Ano  Clave_Ent         Entidad            Bien juridico afectado  \\\n",
       "0  2015          1  Aguascalientes  La vida y la Integridad corporal   \n",
       "1  2015          1  Aguascalientes  La vida y la Integridad corporal   \n",
       "2  2015          1  Aguascalientes  La vida y la Integridad corporal   \n",
       "\n",
       "  Tipo de delito Subtipo de delito          Modalidad  Enero  Febrero  Marzo  \\\n",
       "0      Homicidio  Homicidio doloso  Con arma de fuego      3        0    2.0   \n",
       "1      Homicidio  Homicidio doloso    Con arma blanca      1        1    0.0   \n",
       "2      Homicidio  Homicidio doloso  Con otro elemento      0        0    2.0   \n",
       "\n",
       "   Abril  Mayo  Junio  Julio  Agosto  Septiembre  Octubre  Noviembre  \\\n",
       "0    1.0   1.0    1.0    2.0     1.0         2.0      2.0        2.0   \n",
       "1    0.0   0.0    1.0    0.0     1.0         0.0      0.0        0.0   \n",
       "2    2.0   3.0    2.0    0.0     1.0         2.0      0.0        0.0   \n",
       "\n",
       "   Diciembre  \n",
       "0        1.0  \n",
       "1        1.0  \n",
       "2        0.0  "
      ]
     },
     "execution_count": 40,
     "metadata": {},
     "output_type": "execute_result"
    }
   ],
   "source": [
    "df.head(3)"
   ]
  },
  {
   "cell_type": "code",
   "execution_count": 41,
   "metadata": {
    "colab": {
     "base_uri": "https://localhost:8080/"
    },
    "id": "JzC1ws7xevtV",
    "outputId": "3200dead-35dd-424d-90d2-cb2039d4088f"
   },
   "outputs": [
    {
     "name": "stdout",
     "output_type": "stream",
     "text": [
      "<class 'pandas.core.frame.DataFrame'>\n",
      "RangeIndex: 25088 entries, 0 to 25087\n",
      "Data columns (total 19 columns):\n",
      " #   Column                  Non-Null Count  Dtype  \n",
      "---  ------                  --------------  -----  \n",
      " 0   Anno                    25088 non-null  int64  \n",
      " 1   Clave_Ent               25088 non-null  int64  \n",
      " 2   Entidad                 25088 non-null  object \n",
      " 3   Bien_juridico_afectado  25088 non-null  object \n",
      " 4   Delito                  25088 non-null  object \n",
      " 5   Subtipo_delito          25088 non-null  object \n",
      " 6   Modalidad               25088 non-null  object \n",
      " 7   Enero                   25088 non-null  int64  \n",
      " 8   Febrero                 25088 non-null  int64  \n",
      " 9   Marzo                   21952 non-null  float64\n",
      " 10  Abril                   21952 non-null  float64\n",
      " 11  Mayo                    21952 non-null  float64\n",
      " 12  Junio                   21952 non-null  float64\n",
      " 13  Julio                   21952 non-null  float64\n",
      " 14  Agosto                  21952 non-null  float64\n",
      " 15  Septiembre              21952 non-null  float64\n",
      " 16  Octubre                 21952 non-null  float64\n",
      " 17  Noviembre               21952 non-null  float64\n",
      " 18  Diciembre               21952 non-null  float64\n",
      "dtypes: float64(10), int64(4), object(5)\n",
      "memory usage: 3.6+ MB\n"
     ]
    }
   ],
   "source": [
    "df.columns = ['Anno', \n",
    "              'Clave_Ent', \n",
    "              'Entidad', \n",
    "              'Bien_juridico_afectado', \n",
    "              'Delito', \n",
    "              'Subtipo_delito', \n",
    "              'Modalidad', \n",
    "              'Enero', 'Febrero', 'Marzo', 'Abril', 'Mayo', 'Junio', 'Julio', 'Agosto', 'Septiembre', 'Octubre', 'Noviembre', 'Diciembre']\n",
    "df = df.astype({\"Entidad\": str, \"Bien_juridico_afectado\": str, \"Delito\": str , \"Subtipo_delito\": str, \"Modalidad\": str}, errors='ignore')\n",
    "# Imprime información de dataframe df\n",
    "df.info()"
   ]
  },
  {
   "cell_type": "code",
   "execution_count": 42,
   "metadata": {
    "colab": {
     "base_uri": "https://localhost:8080/"
    },
    "id": "j2Jq7uFpi5Bb",
    "outputId": "fbb984d2-c6f7-44ce-b791-4b630fa174b3"
   },
   "outputs": [
    {
     "name": "stdout",
     "output_type": "stream",
     "text": [
      "<class 'pandas.core.frame.DataFrame'>\n",
      "RangeIndex: 301056 entries, 0 to 301055\n",
      "Data columns (total 9 columns):\n",
      " #   Column                  Non-Null Count   Dtype  \n",
      "---  ------                  --------------   -----  \n",
      " 0   Anno                    301056 non-null  int64  \n",
      " 1   Clave_Ent               301056 non-null  int64  \n",
      " 2   Entidad                 301056 non-null  object \n",
      " 3   Bien_juridico_afectado  301056 non-null  object \n",
      " 4   Delito                  301056 non-null  object \n",
      " 5   Subtipo_delito          301056 non-null  object \n",
      " 6   Modalidad               301056 non-null  object \n",
      " 7   Mes                     301056 non-null  object \n",
      " 8   Num_Incidencias         269696 non-null  float64\n",
      "dtypes: float64(1), int64(2), object(6)\n",
      "memory usage: 20.7+ MB\n"
     ]
    }
   ],
   "source": [
    "df = pd.melt(df, id_vars=['Anno', \n",
    "                          'Clave_Ent', \n",
    "                          'Entidad', \n",
    "                          'Bien_juridico_afectado', \n",
    "                          'Delito',\n",
    "                          'Subtipo_delito',\n",
    "                          'Modalidad'], \n",
    "              value_vars=['Enero', 'Febrero', 'Marzo', 'Abril', 'Mayo', 'Junio', 'Julio', 'Agosto', 'Septiembre', 'Octubre', 'Noviembre', 'Diciembre'])\n",
    "df.rename(columns = {'variable':'Mes', 'value':'Num_Incidencias'}, inplace = True)\n",
    "# Imprime información de dataframe df\n",
    "df.info()"
   ]
  },
  {
   "cell_type": "code",
   "execution_count": 43,
   "metadata": {
    "colab": {
     "base_uri": "https://localhost:8080/",
     "height": 0
    },
    "id": "XBlVKoZyNUP5",
    "outputId": "67270d6a-a602-4146-840c-6f8be8d71b8e"
   },
   "outputs": [
    {
     "data": {
      "text/html": [
       "<div>\n",
       "<style scoped>\n",
       "    .dataframe tbody tr th:only-of-type {\n",
       "        vertical-align: middle;\n",
       "    }\n",
       "\n",
       "    .dataframe tbody tr th {\n",
       "        vertical-align: top;\n",
       "    }\n",
       "\n",
       "    .dataframe thead th {\n",
       "        text-align: right;\n",
       "    }\n",
       "</style>\n",
       "<table border=\"1\" class=\"dataframe\">\n",
       "  <thead>\n",
       "    <tr style=\"text-align: right;\">\n",
       "      <th></th>\n",
       "      <th>Anno</th>\n",
       "      <th>Clave_Ent</th>\n",
       "      <th>Entidad</th>\n",
       "      <th>Bien_juridico_afectado</th>\n",
       "      <th>Delito</th>\n",
       "      <th>Subtipo_delito</th>\n",
       "      <th>Modalidad</th>\n",
       "      <th>Mes</th>\n",
       "      <th>Num_Incidencias</th>\n",
       "    </tr>\n",
       "  </thead>\n",
       "  <tbody>\n",
       "    <tr>\n",
       "      <th>0</th>\n",
       "      <td>2015</td>\n",
       "      <td>1</td>\n",
       "      <td>Aguascalientes</td>\n",
       "      <td>La vida y la Integridad corporal</td>\n",
       "      <td>Homicidio</td>\n",
       "      <td>Homicidio doloso</td>\n",
       "      <td>Con arma de fuego</td>\n",
       "      <td>Enero</td>\n",
       "      <td>3.0</td>\n",
       "    </tr>\n",
       "    <tr>\n",
       "      <th>1</th>\n",
       "      <td>2015</td>\n",
       "      <td>1</td>\n",
       "      <td>Aguascalientes</td>\n",
       "      <td>La vida y la Integridad corporal</td>\n",
       "      <td>Homicidio</td>\n",
       "      <td>Homicidio doloso</td>\n",
       "      <td>Con arma blanca</td>\n",
       "      <td>Enero</td>\n",
       "      <td>1.0</td>\n",
       "    </tr>\n",
       "    <tr>\n",
       "      <th>2</th>\n",
       "      <td>2015</td>\n",
       "      <td>1</td>\n",
       "      <td>Aguascalientes</td>\n",
       "      <td>La vida y la Integridad corporal</td>\n",
       "      <td>Homicidio</td>\n",
       "      <td>Homicidio doloso</td>\n",
       "      <td>Con otro elemento</td>\n",
       "      <td>Enero</td>\n",
       "      <td>0.0</td>\n",
       "    </tr>\n",
       "    <tr>\n",
       "      <th>3</th>\n",
       "      <td>2015</td>\n",
       "      <td>1</td>\n",
       "      <td>Aguascalientes</td>\n",
       "      <td>La vida y la Integridad corporal</td>\n",
       "      <td>Homicidio</td>\n",
       "      <td>Homicidio doloso</td>\n",
       "      <td>No especificado</td>\n",
       "      <td>Enero</td>\n",
       "      <td>2.0</td>\n",
       "    </tr>\n",
       "    <tr>\n",
       "      <th>4</th>\n",
       "      <td>2015</td>\n",
       "      <td>1</td>\n",
       "      <td>Aguascalientes</td>\n",
       "      <td>La vida y la Integridad corporal</td>\n",
       "      <td>Homicidio</td>\n",
       "      <td>Homicidio culposo</td>\n",
       "      <td>Con arma de fuego</td>\n",
       "      <td>Enero</td>\n",
       "      <td>0.0</td>\n",
       "    </tr>\n",
       "  </tbody>\n",
       "</table>\n",
       "</div>"
      ],
      "text/plain": [
       "   Anno  Clave_Ent         Entidad            Bien_juridico_afectado  \\\n",
       "0  2015          1  Aguascalientes  La vida y la Integridad corporal   \n",
       "1  2015          1  Aguascalientes  La vida y la Integridad corporal   \n",
       "2  2015          1  Aguascalientes  La vida y la Integridad corporal   \n",
       "3  2015          1  Aguascalientes  La vida y la Integridad corporal   \n",
       "4  2015          1  Aguascalientes  La vida y la Integridad corporal   \n",
       "\n",
       "      Delito     Subtipo_delito          Modalidad    Mes  Num_Incidencias  \n",
       "0  Homicidio   Homicidio doloso  Con arma de fuego  Enero              3.0  \n",
       "1  Homicidio   Homicidio doloso    Con arma blanca  Enero              1.0  \n",
       "2  Homicidio   Homicidio doloso  Con otro elemento  Enero              0.0  \n",
       "3  Homicidio   Homicidio doloso    No especificado  Enero              2.0  \n",
       "4  Homicidio  Homicidio culposo  Con arma de fuego  Enero              0.0  "
      ]
     },
     "execution_count": 43,
     "metadata": {},
     "output_type": "execute_result"
    }
   ],
   "source": [
    "df.head(5)"
   ]
  },
  {
   "cell_type": "code",
   "execution_count": 44,
   "metadata": {
    "colab": {
     "base_uri": "https://localhost:8080/"
    },
    "id": "KhkTmfeamx9m",
    "outputId": "24126f9f-5adf-46ce-c28c-15d13fcfba1c"
   },
   "outputs": [
    {
     "name": "stdout",
     "output_type": "stream",
     "text": [
      "<class 'pandas.core.frame.DataFrame'>\n",
      "RangeIndex: 301056 entries, 0 to 301055\n",
      "Data columns (total 9 columns):\n",
      " #   Column                  Non-Null Count   Dtype  \n",
      "---  ------                  --------------   -----  \n",
      " 0   Anno                    301056 non-null  int64  \n",
      " 1   Clave_Ent               301056 non-null  int64  \n",
      " 2   Entidad                 301056 non-null  object \n",
      " 3   Bien_juridico_afectado  301056 non-null  object \n",
      " 4   Delito                  301056 non-null  object \n",
      " 5   Subtipo_delito          301056 non-null  object \n",
      " 6   Modalidad               301056 non-null  object \n",
      " 7   Mes                     301056 non-null  object \n",
      " 8   Num_Incidencias         269696 non-null  float64\n",
      "dtypes: float64(1), int64(2), object(6)\n",
      "memory usage: 20.7+ MB\n"
     ]
    }
   ],
   "source": [
    "df.ffill(axis=None, inplace=False, limit=None, downcast=None)\n",
    "df.fillna(0)\n",
    "df.info()"
   ]
  },
  {
   "cell_type": "markdown",
   "metadata": {
    "id": "1x5L4uQUOrRS"
   },
   "source": [
    "## Coordenadas\n",
    "En esta sección se devuelve un dataframe con las coordenadas, población total \n"
   ]
  },
  {
   "cell_type": "code",
   "execution_count": 45,
   "metadata": {
    "colab": {
     "base_uri": "https://localhost:8080/",
     "height": 0
    },
    "id": "0FrRc29bOfuK",
    "outputId": "d2a914a7-53d7-4d3b-b9d3-27dc97c4ce7b"
   },
   "outputs": [
    {
     "data": {
      "text/html": [
       "<div>\n",
       "<style scoped>\n",
       "    .dataframe tbody tr th:only-of-type {\n",
       "        vertical-align: middle;\n",
       "    }\n",
       "\n",
       "    .dataframe tbody tr th {\n",
       "        vertical-align: top;\n",
       "    }\n",
       "\n",
       "    .dataframe thead th {\n",
       "        text-align: right;\n",
       "    }\n",
       "</style>\n",
       "<table border=\"1\" class=\"dataframe\">\n",
       "  <thead>\n",
       "    <tr style=\"text-align: right;\">\n",
       "      <th></th>\n",
       "      <th>city</th>\n",
       "      <th>lat</th>\n",
       "      <th>lng</th>\n",
       "      <th>country</th>\n",
       "      <th>iso2</th>\n",
       "      <th>admin_name</th>\n",
       "      <th>capital</th>\n",
       "      <th>population</th>\n",
       "      <th>population_proper</th>\n",
       "    </tr>\n",
       "  </thead>\n",
       "  <tbody>\n",
       "    <tr>\n",
       "      <th>0</th>\n",
       "      <td>Mexico City</td>\n",
       "      <td>19.4333</td>\n",
       "      <td>-99.1333</td>\n",
       "      <td>Mexico</td>\n",
       "      <td>MX</td>\n",
       "      <td>Ciudad de Mexico</td>\n",
       "      <td>primary</td>\n",
       "      <td>20996000</td>\n",
       "      <td>8918653.0</td>\n",
       "    </tr>\n",
       "    <tr>\n",
       "      <th>1</th>\n",
       "      <td>Guadalajara</td>\n",
       "      <td>20.6767</td>\n",
       "      <td>-103.3475</td>\n",
       "      <td>Mexico</td>\n",
       "      <td>MX</td>\n",
       "      <td>Jalisco</td>\n",
       "      <td>admin</td>\n",
       "      <td>5253000</td>\n",
       "      <td>1460148.0</td>\n",
       "    </tr>\n",
       "    <tr>\n",
       "      <th>2</th>\n",
       "      <td>Monterrey</td>\n",
       "      <td>25.6667</td>\n",
       "      <td>-100.3000</td>\n",
       "      <td>Mexico</td>\n",
       "      <td>MX</td>\n",
       "      <td>Nuevo Leon</td>\n",
       "      <td>admin</td>\n",
       "      <td>4295000</td>\n",
       "      <td>1109171.0</td>\n",
       "    </tr>\n",
       "  </tbody>\n",
       "</table>\n",
       "</div>"
      ],
      "text/plain": [
       "          city      lat       lng country iso2        admin_name  capital  \\\n",
       "0  Mexico City  19.4333  -99.1333  Mexico   MX  Ciudad de Mexico  primary   \n",
       "1  Guadalajara  20.6767 -103.3475  Mexico   MX           Jalisco    admin   \n",
       "2    Monterrey  25.6667 -100.3000  Mexico   MX        Nuevo Leon    admin   \n",
       "\n",
       "  population  population_proper  \n",
       "0   20996000          8918653.0  \n",
       "1    5253000          1460148.0  \n",
       "2    4295000          1109171.0  "
      ]
     },
     "execution_count": 45,
     "metadata": {},
     "output_type": "execute_result"
    }
   ],
   "source": [
    "path = 'https://raw.githubusercontent.com/MauTorres0215397/Datos/main/mx_coords.csv'\n",
    "df_coords = pd.read_csv(path)\n",
    "df_coords.head(3)"
   ]
  },
  {
   "cell_type": "markdown",
   "metadata": {
    "id": "IazShBFXPBXQ"
   },
   "source": [
    "Debemos obtener todos los registros con 'admin' o 'primary' en la columna de capital, al final deberían ser 32 registros"
   ]
  },
  {
   "cell_type": "code",
   "execution_count": 46,
   "metadata": {
    "colab": {
     "base_uri": "https://localhost:8080/",
     "height": 0
    },
    "id": "MZXfqHecPLss",
    "outputId": "7c418908-1713-4d33-ec26-2430eb84c5b0"
   },
   "outputs": [
    {
     "data": {
      "text/html": [
       "<div>\n",
       "<style scoped>\n",
       "    .dataframe tbody tr th:only-of-type {\n",
       "        vertical-align: middle;\n",
       "    }\n",
       "\n",
       "    .dataframe tbody tr th {\n",
       "        vertical-align: top;\n",
       "    }\n",
       "\n",
       "    .dataframe thead th {\n",
       "        text-align: right;\n",
       "    }\n",
       "</style>\n",
       "<table border=\"1\" class=\"dataframe\">\n",
       "  <thead>\n",
       "    <tr style=\"text-align: right;\">\n",
       "      <th></th>\n",
       "      <th>index</th>\n",
       "      <th>city</th>\n",
       "      <th>lat</th>\n",
       "      <th>lng</th>\n",
       "      <th>country</th>\n",
       "      <th>iso2</th>\n",
       "      <th>admin_name</th>\n",
       "      <th>capital</th>\n",
       "      <th>population</th>\n",
       "      <th>population_proper</th>\n",
       "    </tr>\n",
       "  </thead>\n",
       "  <tbody>\n",
       "    <tr>\n",
       "      <th>28</th>\n",
       "      <td>121</td>\n",
       "      <td>Zacatecas</td>\n",
       "      <td>22.7736</td>\n",
       "      <td>-102.5736</td>\n",
       "      <td>Mexico</td>\n",
       "      <td>MX</td>\n",
       "      <td>Zacatecas</td>\n",
       "      <td>admin</td>\n",
       "      <td>138152</td>\n",
       "      <td>138152.0</td>\n",
       "    </tr>\n",
       "    <tr>\n",
       "      <th>29</th>\n",
       "      <td>123</td>\n",
       "      <td>Colima</td>\n",
       "      <td>19.2433</td>\n",
       "      <td>-103.7247</td>\n",
       "      <td>Mexico</td>\n",
       "      <td>MX</td>\n",
       "      <td>Colima</td>\n",
       "      <td>admin</td>\n",
       "      <td>137383</td>\n",
       "      <td>137383.0</td>\n",
       "    </tr>\n",
       "    <tr>\n",
       "      <th>30</th>\n",
       "      <td>584</td>\n",
       "      <td>Tlaxcala</td>\n",
       "      <td>19.3191</td>\n",
       "      <td>-98.1998</td>\n",
       "      <td>Mexico</td>\n",
       "      <td>MX</td>\n",
       "      <td>Tlaxcala</td>\n",
       "      <td>admin</td>\n",
       "      <td>14692</td>\n",
       "      <td>14692.0</td>\n",
       "    </tr>\n",
       "  </tbody>\n",
       "</table>\n",
       "</div>"
      ],
      "text/plain": [
       "    index       city      lat       lng country iso2 admin_name capital  \\\n",
       "28    121  Zacatecas  22.7736 -102.5736  Mexico   MX  Zacatecas   admin   \n",
       "29    123     Colima  19.2433 -103.7247  Mexico   MX     Colima   admin   \n",
       "30    584   Tlaxcala  19.3191  -98.1998  Mexico   MX   Tlaxcala   admin   \n",
       "\n",
       "   population  population_proper  \n",
       "28     138152           138152.0  \n",
       "29     137383           137383.0  \n",
       "30      14692            14692.0  "
      ]
     },
     "execution_count": 46,
     "metadata": {},
     "output_type": "execute_result"
    }
   ],
   "source": [
    "df_coords[df_coords.capital == 'admin'].reset_index().tail(3)"
   ]
  },
  {
   "cell_type": "markdown",
   "metadata": {
    "id": "Hp2IuP1qQWg7"
   },
   "source": [
    "Falta CDMX porque tiene 'primary' en la columna capital"
   ]
  },
  {
   "cell_type": "code",
   "execution_count": 47,
   "metadata": {
    "colab": {
     "base_uri": "https://localhost:8080/",
     "height": 0
    },
    "id": "xiLJOYP4T1Iu",
    "outputId": "14e1b6be-ea25-41d2-9429-320e32630177"
   },
   "outputs": [
    {
     "data": {
      "text/html": [
       "<div>\n",
       "<style scoped>\n",
       "    .dataframe tbody tr th:only-of-type {\n",
       "        vertical-align: middle;\n",
       "    }\n",
       "\n",
       "    .dataframe tbody tr th {\n",
       "        vertical-align: top;\n",
       "    }\n",
       "\n",
       "    .dataframe thead th {\n",
       "        text-align: right;\n",
       "    }\n",
       "</style>\n",
       "<table border=\"1\" class=\"dataframe\">\n",
       "  <thead>\n",
       "    <tr style=\"text-align: right;\">\n",
       "      <th></th>\n",
       "      <th>city</th>\n",
       "      <th>lat</th>\n",
       "      <th>lng</th>\n",
       "      <th>country</th>\n",
       "      <th>iso2</th>\n",
       "      <th>admin_name</th>\n",
       "      <th>capital</th>\n",
       "      <th>population</th>\n",
       "      <th>population_proper</th>\n",
       "    </tr>\n",
       "  </thead>\n",
       "  <tbody>\n",
       "    <tr>\n",
       "      <th>0</th>\n",
       "      <td>Mexico City</td>\n",
       "      <td>19.4333</td>\n",
       "      <td>-99.1333</td>\n",
       "      <td>Mexico</td>\n",
       "      <td>MX</td>\n",
       "      <td>Ciudad de Mexico</td>\n",
       "      <td>primary</td>\n",
       "      <td>20996000</td>\n",
       "      <td>8918653.0</td>\n",
       "    </tr>\n",
       "  </tbody>\n",
       "</table>\n",
       "</div>"
      ],
      "text/plain": [
       "          city      lat      lng country iso2        admin_name  capital  \\\n",
       "0  Mexico City  19.4333 -99.1333  Mexico   MX  Ciudad de Mexico  primary   \n",
       "\n",
       "  population  population_proper  \n",
       "0   20996000          8918653.0  "
      ]
     },
     "execution_count": 47,
     "metadata": {},
     "output_type": "execute_result"
    }
   ],
   "source": [
    "df_coords[df_coords.capital == 'primary']"
   ]
  },
  {
   "cell_type": "code",
   "execution_count": 48,
   "metadata": {
    "colab": {
     "base_uri": "https://localhost:8080/",
     "height": 0
    },
    "id": "k4TdXLzQTT_I",
    "outputId": "271e46c2-21f4-48f5-c90e-5cc49691f619"
   },
   "outputs": [
    {
     "data": {
      "text/html": [
       "<div>\n",
       "<style scoped>\n",
       "    .dataframe tbody tr th:only-of-type {\n",
       "        vertical-align: middle;\n",
       "    }\n",
       "\n",
       "    .dataframe tbody tr th {\n",
       "        vertical-align: top;\n",
       "    }\n",
       "\n",
       "    .dataframe thead th {\n",
       "        text-align: right;\n",
       "    }\n",
       "</style>\n",
       "<table border=\"1\" class=\"dataframe\">\n",
       "  <thead>\n",
       "    <tr style=\"text-align: right;\">\n",
       "      <th></th>\n",
       "      <th>city</th>\n",
       "      <th>lat</th>\n",
       "      <th>lng</th>\n",
       "      <th>admin_name</th>\n",
       "      <th>population</th>\n",
       "      <th>population_proper</th>\n",
       "    </tr>\n",
       "  </thead>\n",
       "  <tbody>\n",
       "    <tr>\n",
       "      <th>29</th>\n",
       "      <td>Colima</td>\n",
       "      <td>19.2433</td>\n",
       "      <td>-103.7247</td>\n",
       "      <td>Colima</td>\n",
       "      <td>137383</td>\n",
       "      <td>137383.0</td>\n",
       "    </tr>\n",
       "    <tr>\n",
       "      <th>30</th>\n",
       "      <td>Tlaxcala</td>\n",
       "      <td>19.3191</td>\n",
       "      <td>-98.1998</td>\n",
       "      <td>Tlaxcala</td>\n",
       "      <td>14692</td>\n",
       "      <td>14692.0</td>\n",
       "    </tr>\n",
       "    <tr>\n",
       "      <th>31</th>\n",
       "      <td>Mexico City</td>\n",
       "      <td>19.4333</td>\n",
       "      <td>-99.1333</td>\n",
       "      <td>Ciudad de Mexico</td>\n",
       "      <td>20996000</td>\n",
       "      <td>8918653.0</td>\n",
       "    </tr>\n",
       "  </tbody>\n",
       "</table>\n",
       "</div>"
      ],
      "text/plain": [
       "           city      lat       lng        admin_name population  \\\n",
       "29       Colima  19.2433 -103.7247            Colima     137383   \n",
       "30     Tlaxcala  19.3191  -98.1998          Tlaxcala      14692   \n",
       "31  Mexico City  19.4333  -99.1333  Ciudad de Mexico   20996000   \n",
       "\n",
       "    population_proper  \n",
       "29           137383.0  \n",
       "30            14692.0  \n",
       "31          8918653.0  "
      ]
     },
     "execution_count": 48,
     "metadata": {},
     "output_type": "execute_result"
    }
   ],
   "source": [
    "frames = [df_coords[df_coords.capital == 'admin'], df_coords[df_coords.capital == 'primary']]\n",
    "df_C = pd.concat(frames).reset_index().drop(columns=['index', 'country', 'capital', 'iso2'])\n",
    "df_C.tail(3)"
   ]
  },
  {
   "cell_type": "code",
   "execution_count": 49,
   "metadata": {
    "colab": {
     "base_uri": "https://localhost:8080/"
    },
    "id": "wpuwd5AlVB4u",
    "outputId": "f63d75d9-dde8-4859-bf7d-90cf5a541387"
   },
   "outputs": [
    {
     "name": "stdout",
     "output_type": "stream",
     "text": [
      "<class 'pandas.core.frame.DataFrame'>\n",
      "RangeIndex: 32 entries, 0 to 31\n",
      "Data columns (total 6 columns):\n",
      " #   Column             Non-Null Count  Dtype  \n",
      "---  ------             --------------  -----  \n",
      " 0   city               32 non-null     object \n",
      " 1   lat                32 non-null     float64\n",
      " 2   lng                32 non-null     float64\n",
      " 3   admin_name         32 non-null     object \n",
      " 4   population         32 non-null     object \n",
      " 5   population_proper  32 non-null     float64\n",
      "dtypes: float64(3), object(3)\n",
      "memory usage: 1.6+ KB\n"
     ]
    }
   ],
   "source": [
    "df_C.info()"
   ]
  },
  {
   "cell_type": "markdown",
   "metadata": {
    "id": "C1kThG0YV_RU"
   },
   "source": [
    "## Unir Principal con Coordenadas\n",
    "En esta sección se une el dataframe de delitos con el de coordenadas, devuelve el dataframe con todos los datos"
   ]
  },
  {
   "cell_type": "code",
   "execution_count": 50,
   "metadata": {
    "colab": {
     "base_uri": "https://localhost:8080/"
    },
    "id": "Ys2JyiSnWFmF",
    "outputId": "343d4460-e3f9-4d7e-ab8b-be8e7b4b512d"
   },
   "outputs": [
    {
     "data": {
      "text/plain": [
       "array(['Aguascalientes', 'Baja California', 'Baja California Sur',\n",
       "       'Campeche', 'Coahuila de Zaragoza', 'Colima', 'Chiapas',\n",
       "       'Chihuahua', 'Ciudad de Mexico', 'Durango', 'Guanajuato',\n",
       "       'Guerrero', 'Hidalgo', 'Jalisco', 'Mexico', 'Michoacan de Ocampo',\n",
       "       'Morelos', 'Nayarit', 'Nuevo Leon', 'Oaxaca', 'Puebla',\n",
       "       'Queretaro', 'Quintana Roo', 'San Luis Potosi', 'Sinaloa',\n",
       "       'Sonora', 'Tabasco', 'Tamaulipas', 'Tlaxcala',\n",
       "       'Veracruz de Ignacio de la Llave', 'Yucatan', 'Zacatecas'],\n",
       "      dtype=object)"
      ]
     },
     "execution_count": 50,
     "metadata": {},
     "output_type": "execute_result"
    }
   ],
   "source": [
    "df['Entidad'].unique()"
   ]
  },
  {
   "cell_type": "code",
   "execution_count": 51,
   "metadata": {
    "colab": {
     "base_uri": "https://localhost:8080/"
    },
    "id": "0tTcg1d8WHhq",
    "outputId": "15fd19b8-ba35-4958-f579-d392b9cef5ac"
   },
   "outputs": [
    {
     "data": {
      "text/plain": [
       "array(['Jalisco', 'Nuevo Leon', 'Puebla', 'Baja California',\n",
       "       'Aguascalientes', 'Yucatan', 'Chihuahua', 'San Luis Potosi',\n",
       "       'Mexico', 'Sonora', 'Coahuila de Zaragoza', 'Queretaro', 'Sinaloa',\n",
       "       'Michoacan de Ocampo', 'Durango', 'Tabasco', 'Chiapas',\n",
       "       'Veracruz de Ignacio de la Llave', 'Morelos', 'Nayarit',\n",
       "       'Tamaulipas', 'Oaxaca', 'Hidalgo', 'Baja California Sur',\n",
       "       'Campeche', 'Guerrero', 'Guanajuato', 'Quintana Roo', 'Zacatecas',\n",
       "       'Colima', 'Tlaxcala', 'Ciudad de Mexico'], dtype=object)"
      ]
     },
     "execution_count": 51,
     "metadata": {},
     "output_type": "execute_result"
    }
   ],
   "source": [
    "df_C['admin_name'].unique()"
   ]
  },
  {
   "cell_type": "code",
   "execution_count": 52,
   "metadata": {
    "colab": {
     "base_uri": "https://localhost:8080/"
    },
    "id": "-gTG38umd6HI",
    "outputId": "ce31247f-4f8b-4877-b2d5-676b804b6adb"
   },
   "outputs": [
    {
     "data": {
      "text/plain": [
       "Index(['Anno', 'Clave_Ent', 'Entidad', 'Bien_juridico_afectado', 'Delito',\n",
       "       'Subtipo_delito', 'Modalidad', 'Mes', 'Num_Incidencias', 'city', 'lat',\n",
       "       'lng', 'population', 'population_proper'],\n",
       "      dtype='object')"
      ]
     },
     "execution_count": 52,
     "metadata": {},
     "output_type": "execute_result"
    }
   ],
   "source": [
    "df = df.join(df_C.set_index('admin_name'), on='Entidad')\n",
    "df.columns"
   ]
  },
  {
   "cell_type": "code",
   "execution_count": 53,
   "metadata": {
    "colab": {
     "base_uri": "https://localhost:8080/",
     "height": 0
    },
    "id": "44r1X31OBL1c",
    "outputId": "09fa7937-a994-4a74-86f1-012ed9d4ea45"
   },
   "outputs": [
    {
     "data": {
      "text/html": [
       "<div>\n",
       "<style scoped>\n",
       "    .dataframe tbody tr th:only-of-type {\n",
       "        vertical-align: middle;\n",
       "    }\n",
       "\n",
       "    .dataframe tbody tr th {\n",
       "        vertical-align: top;\n",
       "    }\n",
       "\n",
       "    .dataframe thead th {\n",
       "        text-align: right;\n",
       "    }\n",
       "</style>\n",
       "<table border=\"1\" class=\"dataframe\">\n",
       "  <thead>\n",
       "    <tr style=\"text-align: right;\">\n",
       "      <th></th>\n",
       "      <th>Anno</th>\n",
       "      <th>Clave_Ent</th>\n",
       "      <th>Entidad</th>\n",
       "      <th>Bien_juridico_afectado</th>\n",
       "      <th>Delito</th>\n",
       "      <th>Subtipo_delito</th>\n",
       "      <th>Modalidad</th>\n",
       "      <th>Mes</th>\n",
       "      <th>Num_Incidencias</th>\n",
       "      <th>lat</th>\n",
       "      <th>lng</th>\n",
       "      <th>population</th>\n",
       "      <th>population_proper</th>\n",
       "    </tr>\n",
       "  </thead>\n",
       "  <tbody>\n",
       "    <tr>\n",
       "      <th>0</th>\n",
       "      <td>2015</td>\n",
       "      <td>1</td>\n",
       "      <td>Aguascalientes</td>\n",
       "      <td>La vida y la Integridad corporal</td>\n",
       "      <td>Homicidio</td>\n",
       "      <td>Homicidio doloso</td>\n",
       "      <td>Con arma de fuego</td>\n",
       "      <td>Enero</td>\n",
       "      <td>3.0</td>\n",
       "      <td>21.876</td>\n",
       "      <td>-102.296</td>\n",
       "      <td>934424</td>\n",
       "      <td>934424.0</td>\n",
       "    </tr>\n",
       "    <tr>\n",
       "      <th>1</th>\n",
       "      <td>2015</td>\n",
       "      <td>1</td>\n",
       "      <td>Aguascalientes</td>\n",
       "      <td>La vida y la Integridad corporal</td>\n",
       "      <td>Homicidio</td>\n",
       "      <td>Homicidio doloso</td>\n",
       "      <td>Con arma blanca</td>\n",
       "      <td>Enero</td>\n",
       "      <td>1.0</td>\n",
       "      <td>21.876</td>\n",
       "      <td>-102.296</td>\n",
       "      <td>934424</td>\n",
       "      <td>934424.0</td>\n",
       "    </tr>\n",
       "    <tr>\n",
       "      <th>2</th>\n",
       "      <td>2015</td>\n",
       "      <td>1</td>\n",
       "      <td>Aguascalientes</td>\n",
       "      <td>La vida y la Integridad corporal</td>\n",
       "      <td>Homicidio</td>\n",
       "      <td>Homicidio doloso</td>\n",
       "      <td>Con otro elemento</td>\n",
       "      <td>Enero</td>\n",
       "      <td>0.0</td>\n",
       "      <td>21.876</td>\n",
       "      <td>-102.296</td>\n",
       "      <td>934424</td>\n",
       "      <td>934424.0</td>\n",
       "    </tr>\n",
       "  </tbody>\n",
       "</table>\n",
       "</div>"
      ],
      "text/plain": [
       "   Anno  Clave_Ent         Entidad            Bien_juridico_afectado  \\\n",
       "0  2015          1  Aguascalientes  La vida y la Integridad corporal   \n",
       "1  2015          1  Aguascalientes  La vida y la Integridad corporal   \n",
       "2  2015          1  Aguascalientes  La vida y la Integridad corporal   \n",
       "\n",
       "      Delito    Subtipo_delito          Modalidad    Mes  Num_Incidencias  \\\n",
       "0  Homicidio  Homicidio doloso  Con arma de fuego  Enero              3.0   \n",
       "1  Homicidio  Homicidio doloso    Con arma blanca  Enero              1.0   \n",
       "2  Homicidio  Homicidio doloso  Con otro elemento  Enero              0.0   \n",
       "\n",
       "      lat      lng population  population_proper  \n",
       "0  21.876 -102.296     934424           934424.0  \n",
       "1  21.876 -102.296     934424           934424.0  \n",
       "2  21.876 -102.296     934424           934424.0  "
      ]
     },
     "execution_count": 53,
     "metadata": {},
     "output_type": "execute_result"
    }
   ],
   "source": [
    "df = df.drop(columns=['city'])\n",
    "df.head(3)"
   ]
  },
  {
   "cell_type": "markdown",
   "metadata": {
    "id": "wckS79U9UaDx"
   },
   "source": [
    "## Creación del set de datos"
   ]
  },
  {
   "cell_type": "code",
   "execution_count": 54,
   "metadata": {
    "colab": {
     "base_uri": "https://localhost:8080/",
     "height": 0
    },
    "id": "DVZ_ajAFU1T1",
    "outputId": "f673f609-fd67-4814-d7cb-2a00932e8110"
   },
   "outputs": [
    {
     "data": {
      "text/html": [
       "<div>\n",
       "<style scoped>\n",
       "    .dataframe tbody tr th:only-of-type {\n",
       "        vertical-align: middle;\n",
       "    }\n",
       "\n",
       "    .dataframe tbody tr th {\n",
       "        vertical-align: top;\n",
       "    }\n",
       "\n",
       "    .dataframe thead th {\n",
       "        text-align: right;\n",
       "    }\n",
       "</style>\n",
       "<table border=\"1\" class=\"dataframe\">\n",
       "  <thead>\n",
       "    <tr style=\"text-align: right;\">\n",
       "      <th></th>\n",
       "      <th>Anno</th>\n",
       "      <th>Clave_Ent</th>\n",
       "      <th>Entidad</th>\n",
       "      <th>Bien_juridico_afectado</th>\n",
       "      <th>Delito</th>\n",
       "      <th>Subtipo_delito</th>\n",
       "      <th>Modalidad</th>\n",
       "      <th>Mes</th>\n",
       "      <th>Num_Incidencias</th>\n",
       "      <th>lat</th>\n",
       "      <th>lng</th>\n",
       "      <th>population</th>\n",
       "      <th>population_proper</th>\n",
       "    </tr>\n",
       "  </thead>\n",
       "  <tbody>\n",
       "    <tr>\n",
       "      <th>9408</th>\n",
       "      <td>2018</td>\n",
       "      <td>1</td>\n",
       "      <td>Aguascalientes</td>\n",
       "      <td>La vida y la Integridad corporal</td>\n",
       "      <td>Homicidio</td>\n",
       "      <td>Homicidio doloso</td>\n",
       "      <td>Con arma de fuego</td>\n",
       "      <td>Enero</td>\n",
       "      <td>5.0</td>\n",
       "      <td>21.876</td>\n",
       "      <td>-102.296</td>\n",
       "      <td>934424</td>\n",
       "      <td>934424.0</td>\n",
       "    </tr>\n",
       "    <tr>\n",
       "      <th>9409</th>\n",
       "      <td>2018</td>\n",
       "      <td>1</td>\n",
       "      <td>Aguascalientes</td>\n",
       "      <td>La vida y la Integridad corporal</td>\n",
       "      <td>Homicidio</td>\n",
       "      <td>Homicidio doloso</td>\n",
       "      <td>Con arma blanca</td>\n",
       "      <td>Enero</td>\n",
       "      <td>1.0</td>\n",
       "      <td>21.876</td>\n",
       "      <td>-102.296</td>\n",
       "      <td>934424</td>\n",
       "      <td>934424.0</td>\n",
       "    </tr>\n",
       "    <tr>\n",
       "      <th>9410</th>\n",
       "      <td>2018</td>\n",
       "      <td>1</td>\n",
       "      <td>Aguascalientes</td>\n",
       "      <td>La vida y la Integridad corporal</td>\n",
       "      <td>Homicidio</td>\n",
       "      <td>Homicidio doloso</td>\n",
       "      <td>Con otro elemento</td>\n",
       "      <td>Enero</td>\n",
       "      <td>3.0</td>\n",
       "      <td>21.876</td>\n",
       "      <td>-102.296</td>\n",
       "      <td>934424</td>\n",
       "      <td>934424.0</td>\n",
       "    </tr>\n",
       "  </tbody>\n",
       "</table>\n",
       "</div>"
      ],
      "text/plain": [
       "      Anno  Clave_Ent         Entidad            Bien_juridico_afectado  \\\n",
       "9408  2018          1  Aguascalientes  La vida y la Integridad corporal   \n",
       "9409  2018          1  Aguascalientes  La vida y la Integridad corporal   \n",
       "9410  2018          1  Aguascalientes  La vida y la Integridad corporal   \n",
       "\n",
       "         Delito    Subtipo_delito          Modalidad    Mes  Num_Incidencias  \\\n",
       "9408  Homicidio  Homicidio doloso  Con arma de fuego  Enero              5.0   \n",
       "9409  Homicidio  Homicidio doloso    Con arma blanca  Enero              1.0   \n",
       "9410  Homicidio  Homicidio doloso  Con otro elemento  Enero              3.0   \n",
       "\n",
       "         lat      lng population  population_proper  \n",
       "9408  21.876 -102.296     934424           934424.0  \n",
       "9409  21.876 -102.296     934424           934424.0  \n",
       "9410  21.876 -102.296     934424           934424.0  "
      ]
     },
     "execution_count": 54,
     "metadata": {},
     "output_type": "execute_result"
    }
   ],
   "source": [
    "df_2018 = df[df.Anno == 2018]\n",
    "df_2018.head(3)"
   ]
  },
  {
   "cell_type": "markdown",
   "metadata": {
    "id": "HnzFTbSBStM5"
   },
   "source": [
    "## Inflación\n"
   ]
  },
  {
   "cell_type": "code",
   "execution_count": 55,
   "metadata": {
    "colab": {
     "base_uri": "https://localhost:8080/",
     "height": 0
    },
    "id": "etI6ibuvSsXr",
    "outputId": "972c00c3-f3e7-4bb3-fde4-fd8a36e0ad09"
   },
   "outputs": [
    {
     "data": {
      "text/html": [
       "<div>\n",
       "<style scoped>\n",
       "    .dataframe tbody tr th:only-of-type {\n",
       "        vertical-align: middle;\n",
       "    }\n",
       "\n",
       "    .dataframe tbody tr th {\n",
       "        vertical-align: top;\n",
       "    }\n",
       "\n",
       "    .dataframe thead th {\n",
       "        text-align: right;\n",
       "    }\n",
       "</style>\n",
       "<table border=\"1\" class=\"dataframe\">\n",
       "  <thead>\n",
       "    <tr style=\"text-align: right;\">\n",
       "      <th></th>\n",
       "      <th>Mes</th>\n",
       "      <th>Fecha</th>\n",
       "      <th>Inflacion</th>\n",
       "    </tr>\n",
       "  </thead>\n",
       "  <tbody>\n",
       "    <tr>\n",
       "      <th>0</th>\n",
       "      <td>Enero</td>\n",
       "      <td>2017</td>\n",
       "      <td>1.70</td>\n",
       "    </tr>\n",
       "    <tr>\n",
       "      <th>1</th>\n",
       "      <td>Febrero</td>\n",
       "      <td>2017</td>\n",
       "      <td>0.58</td>\n",
       "    </tr>\n",
       "    <tr>\n",
       "      <th>2</th>\n",
       "      <td>Marzo</td>\n",
       "      <td>2017</td>\n",
       "      <td>0.61</td>\n",
       "    </tr>\n",
       "  </tbody>\n",
       "</table>\n",
       "</div>"
      ],
      "text/plain": [
       "       Mes  Fecha  Inflacion\n",
       "0    Enero   2017       1.70\n",
       "1  Febrero   2017       0.58\n",
       "2    Marzo   2017       0.61"
      ]
     },
     "execution_count": 55,
     "metadata": {},
     "output_type": "execute_result"
    }
   ],
   "source": [
    "path = 'https://raw.githubusercontent.com/MauTorres0215397/Datos/main/inflacion.csv'\n",
    "df_inflacion = pd.read_csv(path)\n",
    "df_inflacion.head(3)"
   ]
  },
  {
   "cell_type": "code",
   "execution_count": 56,
   "metadata": {
    "id": "GnCB6N2tVIek"
   },
   "outputs": [],
   "source": [
    "df_inflacion2018 = df_inflacion[df_inflacion.Fecha == 2018]"
   ]
  },
  {
   "cell_type": "code",
   "execution_count": 57,
   "metadata": {
    "colab": {
     "base_uri": "https://localhost:8080/",
     "height": 0
    },
    "id": "-p8JJ19YUc4V",
    "outputId": "4b80bfdd-9e4f-4f8f-d540-9bdef4c22fb2"
   },
   "outputs": [
    {
     "data": {
      "text/html": [
       "<div>\n",
       "<style scoped>\n",
       "    .dataframe tbody tr th:only-of-type {\n",
       "        vertical-align: middle;\n",
       "    }\n",
       "\n",
       "    .dataframe tbody tr th {\n",
       "        vertical-align: top;\n",
       "    }\n",
       "\n",
       "    .dataframe thead th {\n",
       "        text-align: right;\n",
       "    }\n",
       "</style>\n",
       "<table border=\"1\" class=\"dataframe\">\n",
       "  <thead>\n",
       "    <tr style=\"text-align: right;\">\n",
       "      <th></th>\n",
       "      <th>Anno</th>\n",
       "      <th>Clave_Ent</th>\n",
       "      <th>Entidad</th>\n",
       "      <th>Bien_juridico_afectado</th>\n",
       "      <th>Delito</th>\n",
       "      <th>Subtipo_delito</th>\n",
       "      <th>Modalidad</th>\n",
       "      <th>Mes</th>\n",
       "      <th>Num_Incidencias</th>\n",
       "      <th>lat</th>\n",
       "      <th>lng</th>\n",
       "      <th>population</th>\n",
       "      <th>population_proper</th>\n",
       "      <th>Fecha</th>\n",
       "      <th>Inflacion</th>\n",
       "    </tr>\n",
       "  </thead>\n",
       "  <tbody>\n",
       "    <tr>\n",
       "      <th>9408</th>\n",
       "      <td>2018</td>\n",
       "      <td>1</td>\n",
       "      <td>Aguascalientes</td>\n",
       "      <td>La vida y la Integridad corporal</td>\n",
       "      <td>Homicidio</td>\n",
       "      <td>Homicidio doloso</td>\n",
       "      <td>Con arma de fuego</td>\n",
       "      <td>Enero</td>\n",
       "      <td>5.0</td>\n",
       "      <td>21.876</td>\n",
       "      <td>-102.296</td>\n",
       "      <td>934424</td>\n",
       "      <td>934424.0</td>\n",
       "      <td>2018.0</td>\n",
       "      <td>0.53</td>\n",
       "    </tr>\n",
       "    <tr>\n",
       "      <th>9409</th>\n",
       "      <td>2018</td>\n",
       "      <td>1</td>\n",
       "      <td>Aguascalientes</td>\n",
       "      <td>La vida y la Integridad corporal</td>\n",
       "      <td>Homicidio</td>\n",
       "      <td>Homicidio doloso</td>\n",
       "      <td>Con arma blanca</td>\n",
       "      <td>Enero</td>\n",
       "      <td>1.0</td>\n",
       "      <td>21.876</td>\n",
       "      <td>-102.296</td>\n",
       "      <td>934424</td>\n",
       "      <td>934424.0</td>\n",
       "      <td>2018.0</td>\n",
       "      <td>0.53</td>\n",
       "    </tr>\n",
       "    <tr>\n",
       "      <th>9410</th>\n",
       "      <td>2018</td>\n",
       "      <td>1</td>\n",
       "      <td>Aguascalientes</td>\n",
       "      <td>La vida y la Integridad corporal</td>\n",
       "      <td>Homicidio</td>\n",
       "      <td>Homicidio doloso</td>\n",
       "      <td>Con otro elemento</td>\n",
       "      <td>Enero</td>\n",
       "      <td>3.0</td>\n",
       "      <td>21.876</td>\n",
       "      <td>-102.296</td>\n",
       "      <td>934424</td>\n",
       "      <td>934424.0</td>\n",
       "      <td>2018.0</td>\n",
       "      <td>0.53</td>\n",
       "    </tr>\n",
       "  </tbody>\n",
       "</table>\n",
       "</div>"
      ],
      "text/plain": [
       "      Anno  Clave_Ent         Entidad            Bien_juridico_afectado  \\\n",
       "9408  2018          1  Aguascalientes  La vida y la Integridad corporal   \n",
       "9409  2018          1  Aguascalientes  La vida y la Integridad corporal   \n",
       "9410  2018          1  Aguascalientes  La vida y la Integridad corporal   \n",
       "\n",
       "         Delito    Subtipo_delito          Modalidad    Mes  Num_Incidencias  \\\n",
       "9408  Homicidio  Homicidio doloso  Con arma de fuego  Enero              5.0   \n",
       "9409  Homicidio  Homicidio doloso    Con arma blanca  Enero              1.0   \n",
       "9410  Homicidio  Homicidio doloso  Con otro elemento  Enero              3.0   \n",
       "\n",
       "         lat      lng population  population_proper   Fecha  Inflacion  \n",
       "9408  21.876 -102.296     934424           934424.0  2018.0       0.53  \n",
       "9409  21.876 -102.296     934424           934424.0  2018.0       0.53  \n",
       "9410  21.876 -102.296     934424           934424.0  2018.0       0.53  "
      ]
     },
     "execution_count": 57,
     "metadata": {},
     "output_type": "execute_result"
    }
   ],
   "source": [
    "df_2018 = df_2018.join(df_inflacion2018.set_index('Mes'), on='Mes')\n",
    "df_2018.head(3)"
   ]
  },
  {
   "cell_type": "code",
   "execution_count": 58,
   "metadata": {
    "colab": {
     "base_uri": "https://localhost:8080/",
     "height": 0
    },
    "id": "DLaLdk3DVkSK",
    "outputId": "38d2d850-2310-4cf0-900a-3f995c13d5b0"
   },
   "outputs": [
    {
     "data": {
      "text/html": [
       "<div>\n",
       "<style scoped>\n",
       "    .dataframe tbody tr th:only-of-type {\n",
       "        vertical-align: middle;\n",
       "    }\n",
       "\n",
       "    .dataframe tbody tr th {\n",
       "        vertical-align: top;\n",
       "    }\n",
       "\n",
       "    .dataframe thead th {\n",
       "        text-align: right;\n",
       "    }\n",
       "</style>\n",
       "<table border=\"1\" class=\"dataframe\">\n",
       "  <thead>\n",
       "    <tr style=\"text-align: right;\">\n",
       "      <th></th>\n",
       "      <th>Anno</th>\n",
       "      <th>Clave_Ent</th>\n",
       "      <th>Entidad</th>\n",
       "      <th>Bien_juridico_afectado</th>\n",
       "      <th>Delito</th>\n",
       "      <th>Subtipo_delito</th>\n",
       "      <th>Modalidad</th>\n",
       "      <th>Mes</th>\n",
       "      <th>Num_Incidencias</th>\n",
       "      <th>lat</th>\n",
       "      <th>lng</th>\n",
       "      <th>population</th>\n",
       "      <th>Inflacion</th>\n",
       "    </tr>\n",
       "  </thead>\n",
       "  <tbody>\n",
       "    <tr>\n",
       "      <th>9408</th>\n",
       "      <td>2018</td>\n",
       "      <td>1</td>\n",
       "      <td>Aguascalientes</td>\n",
       "      <td>La vida y la Integridad corporal</td>\n",
       "      <td>Homicidio</td>\n",
       "      <td>Homicidio doloso</td>\n",
       "      <td>Con arma de fuego</td>\n",
       "      <td>Enero</td>\n",
       "      <td>5.0</td>\n",
       "      <td>21.876</td>\n",
       "      <td>-102.296</td>\n",
       "      <td>934424</td>\n",
       "      <td>0.53</td>\n",
       "    </tr>\n",
       "    <tr>\n",
       "      <th>9409</th>\n",
       "      <td>2018</td>\n",
       "      <td>1</td>\n",
       "      <td>Aguascalientes</td>\n",
       "      <td>La vida y la Integridad corporal</td>\n",
       "      <td>Homicidio</td>\n",
       "      <td>Homicidio doloso</td>\n",
       "      <td>Con arma blanca</td>\n",
       "      <td>Enero</td>\n",
       "      <td>1.0</td>\n",
       "      <td>21.876</td>\n",
       "      <td>-102.296</td>\n",
       "      <td>934424</td>\n",
       "      <td>0.53</td>\n",
       "    </tr>\n",
       "    <tr>\n",
       "      <th>9410</th>\n",
       "      <td>2018</td>\n",
       "      <td>1</td>\n",
       "      <td>Aguascalientes</td>\n",
       "      <td>La vida y la Integridad corporal</td>\n",
       "      <td>Homicidio</td>\n",
       "      <td>Homicidio doloso</td>\n",
       "      <td>Con otro elemento</td>\n",
       "      <td>Enero</td>\n",
       "      <td>3.0</td>\n",
       "      <td>21.876</td>\n",
       "      <td>-102.296</td>\n",
       "      <td>934424</td>\n",
       "      <td>0.53</td>\n",
       "    </tr>\n",
       "  </tbody>\n",
       "</table>\n",
       "</div>"
      ],
      "text/plain": [
       "      Anno  Clave_Ent         Entidad            Bien_juridico_afectado  \\\n",
       "9408  2018          1  Aguascalientes  La vida y la Integridad corporal   \n",
       "9409  2018          1  Aguascalientes  La vida y la Integridad corporal   \n",
       "9410  2018          1  Aguascalientes  La vida y la Integridad corporal   \n",
       "\n",
       "         Delito    Subtipo_delito          Modalidad    Mes  Num_Incidencias  \\\n",
       "9408  Homicidio  Homicidio doloso  Con arma de fuego  Enero              5.0   \n",
       "9409  Homicidio  Homicidio doloso    Con arma blanca  Enero              1.0   \n",
       "9410  Homicidio  Homicidio doloso  Con otro elemento  Enero              3.0   \n",
       "\n",
       "         lat      lng population  Inflacion  \n",
       "9408  21.876 -102.296     934424       0.53  \n",
       "9409  21.876 -102.296     934424       0.53  \n",
       "9410  21.876 -102.296     934424       0.53  "
      ]
     },
     "execution_count": 58,
     "metadata": {},
     "output_type": "execute_result"
    }
   ],
   "source": [
    "df_2018 = df_2018.drop(columns=['Fecha', 'population_proper'])\n",
    "df_2018.head(3)"
   ]
  },
  {
   "cell_type": "markdown",
   "metadata": {
    "id": "6H4oPatzV-wi"
   },
   "source": [
    "## Desocupación"
   ]
  },
  {
   "cell_type": "code",
   "execution_count": 59,
   "metadata": {
    "colab": {
     "base_uri": "https://localhost:8080/",
     "height": 0
    },
    "id": "prvrbyq9V9zU",
    "outputId": "f12e042b-fe3a-4b68-ab7b-3b266ec10cd9"
   },
   "outputs": [
    {
     "data": {
      "text/html": [
       "<div>\n",
       "<style scoped>\n",
       "    .dataframe tbody tr th:only-of-type {\n",
       "        vertical-align: middle;\n",
       "    }\n",
       "\n",
       "    .dataframe tbody tr th {\n",
       "        vertical-align: top;\n",
       "    }\n",
       "\n",
       "    .dataframe thead th {\n",
       "        text-align: right;\n",
       "    }\n",
       "</style>\n",
       "<table border=\"1\" class=\"dataframe\">\n",
       "  <thead>\n",
       "    <tr style=\"text-align: right;\">\n",
       "      <th></th>\n",
       "      <th>Periodo</th>\n",
       "      <th>Aguascalientes</th>\n",
       "      <th>Baja California</th>\n",
       "      <th>Baja California Sur</th>\n",
       "      <th>Campeche</th>\n",
       "      <th>Coahuila de Zaragoza</th>\n",
       "      <th>Colima</th>\n",
       "      <th>Chiapas</th>\n",
       "      <th>Chihuahua</th>\n",
       "      <th>Distrito Federal</th>\n",
       "      <th>...</th>\n",
       "      <th>Quintana Roo</th>\n",
       "      <th>San Luis Potosi</th>\n",
       "      <th>Sinaloa</th>\n",
       "      <th>Sonora</th>\n",
       "      <th>Tabasco</th>\n",
       "      <th>Tamaulipas</th>\n",
       "      <th>Tlaxcala</th>\n",
       "      <th>Veracruz de Ignacio de la Llave</th>\n",
       "      <th>Yucatan</th>\n",
       "      <th>Zacatecas</th>\n",
       "    </tr>\n",
       "  </thead>\n",
       "  <tbody>\n",
       "    <tr>\n",
       "      <th>0</th>\n",
       "      <td>2018_1</td>\n",
       "      <td>3.69</td>\n",
       "      <td>2.12</td>\n",
       "      <td>3.73</td>\n",
       "      <td>2.63</td>\n",
       "      <td>4.06</td>\n",
       "      <td>3.38</td>\n",
       "      <td>1.99</td>\n",
       "      <td>3.89</td>\n",
       "      <td>3.66</td>\n",
       "      <td>...</td>\n",
       "      <td>2.64</td>\n",
       "      <td>2.88</td>\n",
       "      <td>2.47</td>\n",
       "      <td>3.26</td>\n",
       "      <td>7.59</td>\n",
       "      <td>3.94</td>\n",
       "      <td>3.72</td>\n",
       "      <td>2.80</td>\n",
       "      <td>2.03</td>\n",
       "      <td>3.61</td>\n",
       "    </tr>\n",
       "    <tr>\n",
       "      <th>1</th>\n",
       "      <td>2018_2</td>\n",
       "      <td>3.32</td>\n",
       "      <td>2.68</td>\n",
       "      <td>3.42</td>\n",
       "      <td>3.32</td>\n",
       "      <td>4.09</td>\n",
       "      <td>2.65</td>\n",
       "      <td>2.86</td>\n",
       "      <td>3.41</td>\n",
       "      <td>5.14</td>\n",
       "      <td>...</td>\n",
       "      <td>2.60</td>\n",
       "      <td>2.43</td>\n",
       "      <td>3.77</td>\n",
       "      <td>3.64</td>\n",
       "      <td>6.37</td>\n",
       "      <td>3.82</td>\n",
       "      <td>3.27</td>\n",
       "      <td>3.23</td>\n",
       "      <td>1.54</td>\n",
       "      <td>2.58</td>\n",
       "    </tr>\n",
       "    <tr>\n",
       "      <th>2</th>\n",
       "      <td>2018_3</td>\n",
       "      <td>3.63</td>\n",
       "      <td>3.02</td>\n",
       "      <td>4.12</td>\n",
       "      <td>3.64</td>\n",
       "      <td>4.78</td>\n",
       "      <td>3.26</td>\n",
       "      <td>2.83</td>\n",
       "      <td>3.09</td>\n",
       "      <td>4.56</td>\n",
       "      <td>...</td>\n",
       "      <td>2.65</td>\n",
       "      <td>2.57</td>\n",
       "      <td>3.38</td>\n",
       "      <td>4.23</td>\n",
       "      <td>7.13</td>\n",
       "      <td>3.84</td>\n",
       "      <td>3.79</td>\n",
       "      <td>3.30</td>\n",
       "      <td>2.10</td>\n",
       "      <td>3.07</td>\n",
       "    </tr>\n",
       "  </tbody>\n",
       "</table>\n",
       "<p>3 rows × 33 columns</p>\n",
       "</div>"
      ],
      "text/plain": [
       "  Periodo  Aguascalientes  Baja California  Baja California Sur  Campeche  \\\n",
       "0  2018_1            3.69             2.12                 3.73      2.63   \n",
       "1  2018_2            3.32             2.68                 3.42      3.32   \n",
       "2  2018_3            3.63             3.02                 4.12      3.64   \n",
       "\n",
       "   Coahuila de Zaragoza  Colima  Chiapas  Chihuahua  Distrito Federal  ...  \\\n",
       "0                  4.06    3.38     1.99       3.89              3.66  ...   \n",
       "1                  4.09    2.65     2.86       3.41              5.14  ...   \n",
       "2                  4.78    3.26     2.83       3.09              4.56  ...   \n",
       "\n",
       "   Quintana Roo  San Luis Potosi  Sinaloa  Sonora  Tabasco  Tamaulipas  \\\n",
       "0          2.64             2.88     2.47    3.26     7.59        3.94   \n",
       "1          2.60             2.43     3.77    3.64     6.37        3.82   \n",
       "2          2.65             2.57     3.38    4.23     7.13        3.84   \n",
       "\n",
       "   Tlaxcala  Veracruz de Ignacio de la Llave  Yucatan  Zacatecas  \n",
       "0      3.72                             2.80     2.03       3.61  \n",
       "1      3.27                             3.23     1.54       2.58  \n",
       "2      3.79                             3.30     2.10       3.07  \n",
       "\n",
       "[3 rows x 33 columns]"
      ]
     },
     "execution_count": 59,
     "metadata": {},
     "output_type": "execute_result"
    }
   ],
   "source": [
    "path = 'https://raw.githubusercontent.com/MauTorres0215397/Datos/main/desocupacion_trimestral.csv'\n",
    "df_desocupacion = pd.read_csv(path)\n",
    "df_desocupacion.head(3)"
   ]
  },
  {
   "cell_type": "code",
   "execution_count": 60,
   "metadata": {
    "colab": {
     "base_uri": "https://localhost:8080/"
    },
    "id": "COeKIzUcWSZ0",
    "outputId": "12273536-0c0b-4475-eecd-8c7a66d91033"
   },
   "outputs": [
    {
     "name": "stdout",
     "output_type": "stream",
     "text": [
      "<class 'pandas.core.frame.DataFrame'>\n",
      "RangeIndex: 256 entries, 0 to 255\n",
      "Data columns (total 3 columns):\n",
      " #   Column        Non-Null Count  Dtype  \n",
      "---  ------        --------------  -----  \n",
      " 0   Periodo       256 non-null    object \n",
      " 1   Estado        256 non-null    object \n",
      " 2   Desocupacion  256 non-null    float64\n",
      "dtypes: float64(1), object(2)\n",
      "memory usage: 6.1+ KB\n"
     ]
    }
   ],
   "source": [
    "df_desocupacion = pd.melt(df_desocupacion, id_vars=['Periodo'],\n",
    "                          value_vars=['Aguascalientes', 'Baja California', 'Baja California Sur',\n",
    "                          'Campeche', 'Coahuila de Zaragoza', 'Colima', 'Chiapas',\n",
    "                          'Chihuahua', 'Distrito Federal', 'Durango', 'Guanajuato',\n",
    "                          'Guerrero', 'Hidalgo', 'Jalisco', 'Mexico', 'Michoacan de Ocampo',\n",
    "                          'Morelos', 'Nayarit', 'Nuevo Leon', 'Oaxaca', 'Puebla',\n",
    "                          'Queretaro', 'Quintana Roo', 'San Luis Potosi', 'Sinaloa',\n",
    "                          'Sonora', 'Tabasco', 'Tamaulipas', 'Tlaxcala',\n",
    "                          'Veracruz de Ignacio de la Llave', 'Yucatan', 'Zacatecas'])\n",
    "df_desocupacion.rename(columns = {'variable':'Estado', 'value':'Desocupacion'}, inplace = True)\n",
    "# Imprime información de dataframe df\n",
    "df_desocupacion.info()"
   ]
  },
  {
   "cell_type": "code",
   "execution_count": 61,
   "metadata": {
    "colab": {
     "base_uri": "https://localhost:8080/",
     "height": 0
    },
    "id": "tOzNHJQPW_ZQ",
    "outputId": "861f4b5c-2082-491e-ff6d-d67f51943bbc"
   },
   "outputs": [
    {
     "data": {
      "text/html": [
       "<div>\n",
       "<style scoped>\n",
       "    .dataframe tbody tr th:only-of-type {\n",
       "        vertical-align: middle;\n",
       "    }\n",
       "\n",
       "    .dataframe tbody tr th {\n",
       "        vertical-align: top;\n",
       "    }\n",
       "\n",
       "    .dataframe thead th {\n",
       "        text-align: right;\n",
       "    }\n",
       "</style>\n",
       "<table border=\"1\" class=\"dataframe\">\n",
       "  <thead>\n",
       "    <tr style=\"text-align: right;\">\n",
       "      <th></th>\n",
       "      <th>Periodo</th>\n",
       "      <th>Estado</th>\n",
       "      <th>Desocupacion</th>\n",
       "    </tr>\n",
       "  </thead>\n",
       "  <tbody>\n",
       "    <tr>\n",
       "      <th>0</th>\n",
       "      <td>2018_1</td>\n",
       "      <td>Aguascalientes</td>\n",
       "      <td>3.69</td>\n",
       "    </tr>\n",
       "    <tr>\n",
       "      <th>1</th>\n",
       "      <td>2018_2</td>\n",
       "      <td>Aguascalientes</td>\n",
       "      <td>3.32</td>\n",
       "    </tr>\n",
       "    <tr>\n",
       "      <th>2</th>\n",
       "      <td>2018_3</td>\n",
       "      <td>Aguascalientes</td>\n",
       "      <td>3.63</td>\n",
       "    </tr>\n",
       "    <tr>\n",
       "      <th>3</th>\n",
       "      <td>2018_4</td>\n",
       "      <td>Aguascalientes</td>\n",
       "      <td>3.17</td>\n",
       "    </tr>\n",
       "    <tr>\n",
       "      <th>4</th>\n",
       "      <td>2019_1</td>\n",
       "      <td>Aguascalientes</td>\n",
       "      <td>3.29</td>\n",
       "    </tr>\n",
       "  </tbody>\n",
       "</table>\n",
       "</div>"
      ],
      "text/plain": [
       "  Periodo          Estado  Desocupacion\n",
       "0  2018_1  Aguascalientes          3.69\n",
       "1  2018_2  Aguascalientes          3.32\n",
       "2  2018_3  Aguascalientes          3.63\n",
       "3  2018_4  Aguascalientes          3.17\n",
       "4  2019_1  Aguascalientes          3.29"
      ]
     },
     "execution_count": 61,
     "metadata": {},
     "output_type": "execute_result"
    }
   ],
   "source": [
    "df_desocupacion.head()"
   ]
  },
  {
   "cell_type": "code",
   "execution_count": 62,
   "metadata": {
    "id": "L1hni56dXOqV"
   },
   "outputs": [],
   "source": [
    "conditions = [\n",
    "              ((df_2018['Mes'] == 'Enero') | (df_2018['Mes'] == 'Febrero') | (df_2018['Mes'] == 'Marzo')),\n",
    "              ((df_2018['Mes'] == 'Abril') | (df_2018['Mes'] == 'Mayo') | (df_2018['Mes'] == 'Junio')),\n",
    "              ((df_2018['Mes'] == 'Julio') | (df_2018['Mes'] == 'Agosto') | (df_2018['Mes'] == 'Septiembre')),\n",
    "              ((df_2018['Mes'] == 'Octubre') | (df_2018['Mes'] == 'Noviembre') | (df_2018['Mes'] == 'Diciembre'))\n",
    "]\n",
    "# no se debe asumir las posiciones\n",
    "values = [df_desocupacion['Desocupacion'].iloc[0], df_desocupacion['Desocupacion'].iloc[1], df_desocupacion['Desocupacion'].iloc[2], df_desocupacion['Desocupacion'].iloc[3]]"
   ]
  },
  {
   "cell_type": "code",
   "execution_count": 63,
   "metadata": {
    "id": "cqt0PWWmbCtJ"
   },
   "outputs": [],
   "source": [
    "df_2018['Desocupacion'] = np.select(conditions, values)"
   ]
  },
  {
   "cell_type": "code",
   "execution_count": 64,
   "metadata": {
    "colab": {
     "base_uri": "https://localhost:8080/",
     "height": 0
    },
    "id": "8_pEb4kgeyhg",
    "outputId": "5117d5d4-3bdc-4f67-9fb9-e5fd84bdf364"
   },
   "outputs": [
    {
     "data": {
      "text/html": [
       "<div>\n",
       "<style scoped>\n",
       "    .dataframe tbody tr th:only-of-type {\n",
       "        vertical-align: middle;\n",
       "    }\n",
       "\n",
       "    .dataframe tbody tr th {\n",
       "        vertical-align: top;\n",
       "    }\n",
       "\n",
       "    .dataframe thead th {\n",
       "        text-align: right;\n",
       "    }\n",
       "</style>\n",
       "<table border=\"1\" class=\"dataframe\">\n",
       "  <thead>\n",
       "    <tr style=\"text-align: right;\">\n",
       "      <th></th>\n",
       "      <th>Anno</th>\n",
       "      <th>Clave_Ent</th>\n",
       "      <th>Entidad</th>\n",
       "      <th>Bien_juridico_afectado</th>\n",
       "      <th>Delito</th>\n",
       "      <th>Subtipo_delito</th>\n",
       "      <th>Modalidad</th>\n",
       "      <th>Mes</th>\n",
       "      <th>Num_Incidencias</th>\n",
       "      <th>lat</th>\n",
       "      <th>lng</th>\n",
       "      <th>population</th>\n",
       "      <th>Inflacion</th>\n",
       "      <th>Desocupacion</th>\n",
       "    </tr>\n",
       "  </thead>\n",
       "  <tbody>\n",
       "    <tr>\n",
       "      <th>9408</th>\n",
       "      <td>2018</td>\n",
       "      <td>1</td>\n",
       "      <td>Aguascalientes</td>\n",
       "      <td>La vida y la Integridad corporal</td>\n",
       "      <td>Homicidio</td>\n",
       "      <td>Homicidio doloso</td>\n",
       "      <td>Con arma de fuego</td>\n",
       "      <td>Enero</td>\n",
       "      <td>5.0</td>\n",
       "      <td>21.876</td>\n",
       "      <td>-102.296</td>\n",
       "      <td>934424</td>\n",
       "      <td>0.53</td>\n",
       "      <td>3.69</td>\n",
       "    </tr>\n",
       "    <tr>\n",
       "      <th>9409</th>\n",
       "      <td>2018</td>\n",
       "      <td>1</td>\n",
       "      <td>Aguascalientes</td>\n",
       "      <td>La vida y la Integridad corporal</td>\n",
       "      <td>Homicidio</td>\n",
       "      <td>Homicidio doloso</td>\n",
       "      <td>Con arma blanca</td>\n",
       "      <td>Enero</td>\n",
       "      <td>1.0</td>\n",
       "      <td>21.876</td>\n",
       "      <td>-102.296</td>\n",
       "      <td>934424</td>\n",
       "      <td>0.53</td>\n",
       "      <td>3.69</td>\n",
       "    </tr>\n",
       "    <tr>\n",
       "      <th>9410</th>\n",
       "      <td>2018</td>\n",
       "      <td>1</td>\n",
       "      <td>Aguascalientes</td>\n",
       "      <td>La vida y la Integridad corporal</td>\n",
       "      <td>Homicidio</td>\n",
       "      <td>Homicidio doloso</td>\n",
       "      <td>Con otro elemento</td>\n",
       "      <td>Enero</td>\n",
       "      <td>3.0</td>\n",
       "      <td>21.876</td>\n",
       "      <td>-102.296</td>\n",
       "      <td>934424</td>\n",
       "      <td>0.53</td>\n",
       "      <td>3.69</td>\n",
       "    </tr>\n",
       "  </tbody>\n",
       "</table>\n",
       "</div>"
      ],
      "text/plain": [
       "      Anno  Clave_Ent         Entidad            Bien_juridico_afectado  \\\n",
       "9408  2018          1  Aguascalientes  La vida y la Integridad corporal   \n",
       "9409  2018          1  Aguascalientes  La vida y la Integridad corporal   \n",
       "9410  2018          1  Aguascalientes  La vida y la Integridad corporal   \n",
       "\n",
       "         Delito    Subtipo_delito          Modalidad    Mes  Num_Incidencias  \\\n",
       "9408  Homicidio  Homicidio doloso  Con arma de fuego  Enero              5.0   \n",
       "9409  Homicidio  Homicidio doloso    Con arma blanca  Enero              1.0   \n",
       "9410  Homicidio  Homicidio doloso  Con otro elemento  Enero              3.0   \n",
       "\n",
       "         lat      lng population  Inflacion  Desocupacion  \n",
       "9408  21.876 -102.296     934424       0.53          3.69  \n",
       "9409  21.876 -102.296     934424       0.53          3.69  \n",
       "9410  21.876 -102.296     934424       0.53          3.69  "
      ]
     },
     "execution_count": 64,
     "metadata": {},
     "output_type": "execute_result"
    }
   ],
   "source": [
    "df_2018.head(3)"
   ]
  },
  {
   "cell_type": "markdown",
   "metadata": {
    "id": "-54F9HBx_751"
   },
   "source": [
    "# Vista rápida al conjunto"
   ]
  },
  {
   "cell_type": "code",
   "execution_count": 65,
   "metadata": {
    "id": "HkjhTE_2_PET",
    "scrolled": true
   },
   "outputs": [
    {
     "ename": "ModuleNotFoundError",
     "evalue": "No module named 'plotnine'",
     "output_type": "error",
     "traceback": [
      "\u001b[1;31m---------------------------------------------------------------------------\u001b[0m",
      "\u001b[1;31mModuleNotFoundError\u001b[0m                       Traceback (most recent call last)",
      "Input \u001b[1;32mIn [65]\u001b[0m, in \u001b[0;36m<cell line: 1>\u001b[1;34m()\u001b[0m\n\u001b[1;32m----> 1\u001b[0m \u001b[38;5;28;01mfrom\u001b[39;00m \u001b[38;5;21;01mplotnine\u001b[39;00m \u001b[38;5;28;01mimport\u001b[39;00m ggplot, aes, geom_histogram, facet_grid, facet_wrap, geom_bar, geom_point\n\u001b[0;32m      2\u001b[0m \u001b[38;5;28;01mimport\u001b[39;00m \u001b[38;5;21;01mmatplotlib\u001b[39;00m\u001b[38;5;21;01m.\u001b[39;00m\u001b[38;5;21;01mpyplot\u001b[39;00m \u001b[38;5;28;01mas\u001b[39;00m \u001b[38;5;21;01mplt\u001b[39;00m\n\u001b[0;32m      3\u001b[0m \u001b[38;5;28;01mimport\u001b[39;00m \u001b[38;5;21;01mseaborn\u001b[39;00m \u001b[38;5;28;01mas\u001b[39;00m \u001b[38;5;21;01msns\u001b[39;00m\n",
      "\u001b[1;31mModuleNotFoundError\u001b[0m: No module named 'plotnine'"
     ]
    }
   ],
   "source": [
    "from plotnine import ggplot, aes, geom_histogram, facet_grid, facet_wrap, geom_bar, geom_point\n",
    "import matplotlib.pyplot as plt\n",
    "import seaborn as sns\n",
    "from pandas.plotting import scatter_matrix\n",
    "\n",
    "from sklearn.model_selection import train_test_split, StratifiedShuffleSplit"
   ]
  },
  {
   "cell_type": "code",
   "execution_count": 66,
   "metadata": {
    "colab": {
     "base_uri": "https://localhost:8080/",
     "height": 300
    },
    "id": "WIjnXqmrIVlT",
    "outputId": "5d7cde22-f07a-4e7d-a827-e4234827ceb8"
   },
   "outputs": [
    {
     "data": {
      "text/html": [
       "<div>\n",
       "<style scoped>\n",
       "    .dataframe tbody tr th:only-of-type {\n",
       "        vertical-align: middle;\n",
       "    }\n",
       "\n",
       "    .dataframe tbody tr th {\n",
       "        vertical-align: top;\n",
       "    }\n",
       "\n",
       "    .dataframe thead th {\n",
       "        text-align: right;\n",
       "    }\n",
       "</style>\n",
       "<table border=\"1\" class=\"dataframe\">\n",
       "  <thead>\n",
       "    <tr style=\"text-align: right;\">\n",
       "      <th></th>\n",
       "      <th>Anno</th>\n",
       "      <th>Clave_Ent</th>\n",
       "      <th>Num_Incidencias</th>\n",
       "      <th>lat</th>\n",
       "      <th>lng</th>\n",
       "      <th>Inflacion</th>\n",
       "      <th>Desocupacion</th>\n",
       "    </tr>\n",
       "  </thead>\n",
       "  <tbody>\n",
       "    <tr>\n",
       "      <th>count</th>\n",
       "      <td>37632.0</td>\n",
       "      <td>37632.000000</td>\n",
       "      <td>37632.000000</td>\n",
       "      <td>37632.000000</td>\n",
       "      <td>37632.000000</td>\n",
       "      <td>34496.000000</td>\n",
       "      <td>37632.000000</td>\n",
       "    </tr>\n",
       "    <tr>\n",
       "      <th>mean</th>\n",
       "      <td>2018.0</td>\n",
       "      <td>16.500000</td>\n",
       "      <td>52.878694</td>\n",
       "      <td>21.629216</td>\n",
       "      <td>-100.525038</td>\n",
       "      <td>0.395455</td>\n",
       "      <td>3.452500</td>\n",
       "    </tr>\n",
       "    <tr>\n",
       "      <th>std</th>\n",
       "      <td>0.0</td>\n",
       "      <td>9.233215</td>\n",
       "      <td>197.222947</td>\n",
       "      <td>3.628223</td>\n",
       "      <td>5.859107</td>\n",
       "      <td>0.336251</td>\n",
       "      <td>0.215221</td>\n",
       "    </tr>\n",
       "    <tr>\n",
       "      <th>min</th>\n",
       "      <td>2018.0</td>\n",
       "      <td>1.000000</td>\n",
       "      <td>0.000000</td>\n",
       "      <td>16.752800</td>\n",
       "      <td>-115.467800</td>\n",
       "      <td>-0.340000</td>\n",
       "      <td>3.170000</td>\n",
       "    </tr>\n",
       "    <tr>\n",
       "      <th>25%</th>\n",
       "      <td>2018.0</td>\n",
       "      <td>8.750000</td>\n",
       "      <td>0.000000</td>\n",
       "      <td>19.280200</td>\n",
       "      <td>-103.441800</td>\n",
       "      <td>0.320000</td>\n",
       "      <td>3.282500</td>\n",
       "    </tr>\n",
       "    <tr>\n",
       "      <th>50%</th>\n",
       "      <td>2018.0</td>\n",
       "      <td>16.500000</td>\n",
       "      <td>2.000000</td>\n",
       "      <td>20.632100</td>\n",
       "      <td>-100.346400</td>\n",
       "      <td>0.520000</td>\n",
       "      <td>3.475000</td>\n",
       "    </tr>\n",
       "    <tr>\n",
       "      <th>75%</th>\n",
       "      <td>2018.0</td>\n",
       "      <td>24.250000</td>\n",
       "      <td>26.000000</td>\n",
       "      <td>23.804150</td>\n",
       "      <td>-98.195675</td>\n",
       "      <td>0.580000</td>\n",
       "      <td>3.645000</td>\n",
       "    </tr>\n",
       "    <tr>\n",
       "      <th>max</th>\n",
       "      <td>2018.0</td>\n",
       "      <td>32.000000</td>\n",
       "      <td>5855.000000</td>\n",
       "      <td>32.663300</td>\n",
       "      <td>-88.305300</td>\n",
       "      <td>0.850000</td>\n",
       "      <td>3.690000</td>\n",
       "    </tr>\n",
       "  </tbody>\n",
       "</table>\n",
       "</div>"
      ],
      "text/plain": [
       "          Anno     Clave_Ent  Num_Incidencias           lat           lng  \\\n",
       "count  37632.0  37632.000000     37632.000000  37632.000000  37632.000000   \n",
       "mean    2018.0     16.500000        52.878694     21.629216   -100.525038   \n",
       "std        0.0      9.233215       197.222947      3.628223      5.859107   \n",
       "min     2018.0      1.000000         0.000000     16.752800   -115.467800   \n",
       "25%     2018.0      8.750000         0.000000     19.280200   -103.441800   \n",
       "50%     2018.0     16.500000         2.000000     20.632100   -100.346400   \n",
       "75%     2018.0     24.250000        26.000000     23.804150    -98.195675   \n",
       "max     2018.0     32.000000      5855.000000     32.663300    -88.305300   \n",
       "\n",
       "          Inflacion  Desocupacion  \n",
       "count  34496.000000  37632.000000  \n",
       "mean       0.395455      3.452500  \n",
       "std        0.336251      0.215221  \n",
       "min       -0.340000      3.170000  \n",
       "25%        0.320000      3.282500  \n",
       "50%        0.520000      3.475000  \n",
       "75%        0.580000      3.645000  \n",
       "max        0.850000      3.690000  "
      ]
     },
     "execution_count": 66,
     "metadata": {},
     "output_type": "execute_result"
    }
   ],
   "source": [
    "df_2018.describe()"
   ]
  },
  {
   "cell_type": "code",
   "execution_count": 67,
   "metadata": {
    "colab": {
     "base_uri": "https://localhost:8080/",
     "height": 945
    },
    "id": "LHH-PV-FDr8u",
    "outputId": "3242719a-84c8-4743-b48f-0a099c01469a"
   },
   "outputs": [
    {
     "data": {
      "text/plain": [
       "array([[<AxesSubplot:title={'center':'Anno'}>,\n",
       "        <AxesSubplot:title={'center':'Clave_Ent'}>,\n",
       "        <AxesSubplot:title={'center':'Num_Incidencias'}>],\n",
       "       [<AxesSubplot:title={'center':'lat'}>,\n",
       "        <AxesSubplot:title={'center':'lng'}>,\n",
       "        <AxesSubplot:title={'center':'Inflacion'}>],\n",
       "       [<AxesSubplot:title={'center':'Desocupacion'}>, <AxesSubplot:>,\n",
       "        <AxesSubplot:>]], dtype=object)"
      ]
     },
     "execution_count": 67,
     "metadata": {},
     "output_type": "execute_result"
    },
    {
     "data": {
      "image/png": "[encoded data removed]",
      "text/plain": [
       "<Figure size 1080x936 with 9 Axes>"
      ]
     },
     "metadata": {
      "needs_background": "light"
     },
     "output_type": "display_data"
    }
   ],
   "source": [
    "df_2018.hist(bins=50, figsize=(15,13))"
   ]
  },
  {
   "cell_type": "code",
   "execution_count": 68,
   "metadata": {
    "id": "kzSrHArXDbn3"
   },
   "outputs": [],
   "source": [
    "corr_matrix = df_2018.corr()"
   ]
  },
  {
   "cell_type": "code",
   "execution_count": 69,
   "metadata": {
    "colab": {
     "base_uri": "https://localhost:8080/",
     "height": 361
    },
    "id": "oCaf-xLMDPVz",
    "outputId": "b68d2f95-cdf1-4646-8610-66d54e372c79"
   },
   "outputs": [
    {
     "ename": "NameError",
     "evalue": "name 'sns' is not defined",
     "output_type": "error",
     "traceback": [
      "\u001b[1;31m---------------------------------------------------------------------------\u001b[0m",
      "\u001b[1;31mNameError\u001b[0m                                 Traceback (most recent call last)",
      "Input \u001b[1;32mIn [69]\u001b[0m, in \u001b[0;36m<cell line: 1>\u001b[1;34m()\u001b[0m\n\u001b[1;32m----> 1\u001b[0m \u001b[43msns\u001b[49m\u001b[38;5;241m.\u001b[39mheatmap(corr_matrix, square\u001b[38;5;241m=\u001b[39m\u001b[38;5;28;01mTrue\u001b[39;00m, linewidths\u001b[38;5;241m=\u001b[39m\u001b[38;5;241m0.5\u001b[39m)\n",
      "\u001b[1;31mNameError\u001b[0m: name 'sns' is not defined"
     ]
    }
   ],
   "source": [
    "sns.heatmap(corr_matrix, square=True, linewidths=0.5)"
   ]
  },
  {
   "cell_type": "code",
   "execution_count": 70,
   "metadata": {
    "colab": {
     "base_uri": "https://localhost:8080/",
     "height": 810
    },
    "id": "k3CShebndYRA",
    "outputId": "a20fbf8d-62c2-42c9-e0b5-d552290c15e7"
   },
   "outputs": [
    {
     "ename": "NameError",
     "evalue": "name 'scatter_matrix' is not defined",
     "output_type": "error",
     "traceback": [
      "\u001b[1;31m---------------------------------------------------------------------------\u001b[0m",
      "\u001b[1;31mNameError\u001b[0m                                 Traceback (most recent call last)",
      "Input \u001b[1;32mIn [70]\u001b[0m, in \u001b[0;36m<cell line: 2>\u001b[1;34m()\u001b[0m\n\u001b[0;32m      1\u001b[0m \u001b[38;5;28mvars\u001b[39m \u001b[38;5;241m=\u001b[39m [\u001b[38;5;124m\"\u001b[39m\u001b[38;5;124mNum_Incidencias\u001b[39m\u001b[38;5;124m\"\u001b[39m, \u001b[38;5;124m\"\u001b[39m\u001b[38;5;124mpopulation\u001b[39m\u001b[38;5;124m\"\u001b[39m, \u001b[38;5;124m\"\u001b[39m\u001b[38;5;124mClave_Ent\u001b[39m\u001b[38;5;124m\"\u001b[39m, \u001b[38;5;124m\"\u001b[39m\u001b[38;5;124mInflacion\u001b[39m\u001b[38;5;124m\"\u001b[39m, \u001b[38;5;124m\"\u001b[39m\u001b[38;5;124mDesocupacion\u001b[39m\u001b[38;5;124m\"\u001b[39m]\n\u001b[1;32m----> 2\u001b[0m \u001b[43mscatter_matrix\u001b[49m(df_2018[\u001b[38;5;28mvars\u001b[39m], figsize\u001b[38;5;241m=\u001b[39m(\u001b[38;5;241m12\u001b[39m, \u001b[38;5;241m8\u001b[39m))\n",
      "\u001b[1;31mNameError\u001b[0m: name 'scatter_matrix' is not defined"
     ]
    }
   ],
   "source": [
    "vars = [\"Num_Incidencias\", \"population\", \"Clave_Ent\", \"Inflacion\", \"Desocupacion\"]\n",
    "scatter_matrix(df_2018[vars], figsize=(12, 8))"
   ]
  },
  {
   "cell_type": "markdown",
   "metadata": {
    "id": "CRRSln-J__oO"
   },
   "source": [
    "# Visualización"
   ]
  },
  {
   "cell_type": "code",
   "execution_count": 71,
   "metadata": {
    "id": "t3-kxXTfqU-A"
   },
   "outputs": [
    {
     "ename": "ModuleNotFoundError",
     "evalue": "No module named 'plotnine'",
     "output_type": "error",
     "traceback": [
      "\u001b[1;31m---------------------------------------------------------------------------\u001b[0m",
      "\u001b[1;31mModuleNotFoundError\u001b[0m                       Traceback (most recent call last)",
      "Input \u001b[1;32mIn [71]\u001b[0m, in \u001b[0;36m<cell line: 1>\u001b[1;34m()\u001b[0m\n\u001b[1;32m----> 1\u001b[0m \u001b[38;5;28;01mfrom\u001b[39;00m \u001b[38;5;21;01mplotnine\u001b[39;00m \u001b[38;5;28;01mimport\u001b[39;00m \u001b[38;5;241m*\u001b[39m\n\u001b[0;32m      2\u001b[0m \u001b[38;5;28;01mfrom\u001b[39;00m \u001b[38;5;21;01mplotnine\u001b[39;00m \u001b[38;5;28;01mimport\u001b[39;00m ggplot, aes, geom_point, geom_col, stat_density, geom_bar, geom_density\n\u001b[0;32m      3\u001b[0m \u001b[38;5;28;01mfrom\u001b[39;00m \u001b[38;5;21;01mplotnine\u001b[39;00m \u001b[38;5;28;01mimport\u001b[39;00m theme_classic, theme\n",
      "\u001b[1;31mModuleNotFoundError\u001b[0m: No module named 'plotnine'"
     ]
    }
   ],
   "source": [
    "from plotnine import *\n",
    "from plotnine import ggplot, aes, geom_point, geom_col, stat_density, geom_bar, geom_density\n",
    "from plotnine import theme_classic, theme\n",
    "from plotnine import geom_text, position_stack, coord_flip, element_text, scale_x_discrete, labs, element_blank"
   ]
  },
  {
   "cell_type": "markdown",
   "metadata": {
    "id": "F30C8P1_nKvt"
   },
   "source": [
    "#### Número de incidencias totales del año 2018 por entidad"
   ]
  },
  {
   "cell_type": "code",
   "execution_count": 72,
   "metadata": {
    "colab": {
     "base_uri": "https://localhost:8080/"
    },
    "id": "mTONwstJoo66",
    "outputId": "3f0eec2a-af3c-404d-f983-2a5574326c29"
   },
   "outputs": [
    {
     "data": {
      "text/html": [
       "<div>\n",
       "<style scoped>\n",
       "    .dataframe tbody tr th:only-of-type {\n",
       "        vertical-align: middle;\n",
       "    }\n",
       "\n",
       "    .dataframe tbody tr th {\n",
       "        vertical-align: top;\n",
       "    }\n",
       "\n",
       "    .dataframe thead th {\n",
       "        text-align: right;\n",
       "    }\n",
       "</style>\n",
       "<table border=\"1\" class=\"dataframe\">\n",
       "  <thead>\n",
       "    <tr style=\"text-align: right;\">\n",
       "      <th></th>\n",
       "      <th>Num_Incidencias</th>\n",
       "    </tr>\n",
       "    <tr>\n",
       "      <th>Entidad</th>\n",
       "      <th></th>\n",
       "    </tr>\n",
       "  </thead>\n",
       "  <tbody>\n",
       "    <tr>\n",
       "      <th>Aguascalientes</th>\n",
       "      <td>38834.0</td>\n",
       "    </tr>\n",
       "    <tr>\n",
       "      <th>Baja California</th>\n",
       "      <td>103028.0</td>\n",
       "    </tr>\n",
       "    <tr>\n",
       "      <th>Baja California Sur</th>\n",
       "      <td>23438.0</td>\n",
       "    </tr>\n",
       "  </tbody>\n",
       "</table>\n",
       "</div>"
      ],
      "text/plain": [
       "                     Num_Incidencias\n",
       "Entidad                             \n",
       "Aguascalientes               38834.0\n",
       "Baja California             103028.0\n",
       "Baja California Sur          23438.0"
      ]
     },
     "execution_count": 72,
     "metadata": {},
     "output_type": "execute_result"
    }
   ],
   "source": [
    "df_2018Sum_total = pd.DataFrame(df_2018.groupby('Entidad')['Num_Incidencias'].agg('sum'))\n",
    "# dfSum_total['Entidad'] = dfSum_total.index\n",
    "df_2018Sum_total.head(3)"
   ]
  },
  {
   "cell_type": "code",
   "execution_count": 73,
   "metadata": {
    "colab": {
     "base_uri": "https://localhost:8080/"
    },
    "id": "YMdub5XmAcX-",
    "outputId": "ea6d5500-c6e3-4a83-f05f-da66e0f4db19"
   },
   "outputs": [
    {
     "data": {
      "text/html": [
       "<div>\n",
       "<style scoped>\n",
       "    .dataframe tbody tr th:only-of-type {\n",
       "        vertical-align: middle;\n",
       "    }\n",
       "\n",
       "    .dataframe tbody tr th {\n",
       "        vertical-align: top;\n",
       "    }\n",
       "\n",
       "    .dataframe thead th {\n",
       "        text-align: right;\n",
       "    }\n",
       "</style>\n",
       "<table border=\"1\" class=\"dataframe\">\n",
       "  <thead>\n",
       "    <tr style=\"text-align: right;\">\n",
       "      <th></th>\n",
       "      <th>Entidad</th>\n",
       "      <th>Num_Incidencias</th>\n",
       "    </tr>\n",
       "  </thead>\n",
       "  <tbody>\n",
       "    <tr>\n",
       "      <th>0</th>\n",
       "      <td>Aguascalientes</td>\n",
       "      <td>38834.0</td>\n",
       "    </tr>\n",
       "    <tr>\n",
       "      <th>1</th>\n",
       "      <td>Baja California</td>\n",
       "      <td>103028.0</td>\n",
       "    </tr>\n",
       "    <tr>\n",
       "      <th>2</th>\n",
       "      <td>Baja California Sur</td>\n",
       "      <td>23438.0</td>\n",
       "    </tr>\n",
       "  </tbody>\n",
       "</table>\n",
       "</div>"
      ],
      "text/plain": [
       "               Entidad  Num_Incidencias\n",
       "0       Aguascalientes          38834.0\n",
       "1      Baja California         103028.0\n",
       "2  Baja California Sur          23438.0"
      ]
     },
     "execution_count": 73,
     "metadata": {},
     "output_type": "execute_result"
    }
   ],
   "source": [
    "# quitamos a Entidad como index\n",
    "df_2018Sum_total.reset_index(inplace=True)\n",
    "df_2018Sum_total.head(3)"
   ]
  },
  {
   "cell_type": "code",
   "execution_count": 74,
   "metadata": {
    "colab": {
     "base_uri": "https://localhost:8080/"
    },
    "id": "UkNYLOzshdf5",
    "outputId": "352fd3f6-4041-4d83-80de-34aef5176bf7"
   },
   "outputs": [
    {
     "data": {
      "text/html": [
       "<div>\n",
       "<style scoped>\n",
       "    .dataframe tbody tr th:only-of-type {\n",
       "        vertical-align: middle;\n",
       "    }\n",
       "\n",
       "    .dataframe tbody tr th {\n",
       "        vertical-align: top;\n",
       "    }\n",
       "\n",
       "    .dataframe thead th {\n",
       "        text-align: right;\n",
       "    }\n",
       "</style>\n",
       "<table border=\"1\" class=\"dataframe\">\n",
       "  <thead>\n",
       "    <tr style=\"text-align: right;\">\n",
       "      <th></th>\n",
       "      <th>Entidad</th>\n",
       "      <th>Num_Incidencias</th>\n",
       "    </tr>\n",
       "  </thead>\n",
       "  <tbody>\n",
       "    <tr>\n",
       "      <th>3</th>\n",
       "      <td>Campeche</td>\n",
       "      <td>2157.0</td>\n",
       "    </tr>\n",
       "    <tr>\n",
       "      <th>17</th>\n",
       "      <td>Nayarit</td>\n",
       "      <td>4545.0</td>\n",
       "    </tr>\n",
       "    <tr>\n",
       "      <th>28</th>\n",
       "      <td>Tlaxcala</td>\n",
       "      <td>6369.0</td>\n",
       "    </tr>\n",
       "  </tbody>\n",
       "</table>\n",
       "</div>"
      ],
      "text/plain": [
       "     Entidad  Num_Incidencias\n",
       "3   Campeche           2157.0\n",
       "17   Nayarit           4545.0\n",
       "28  Tlaxcala           6369.0"
      ]
     },
     "execution_count": 74,
     "metadata": {},
     "output_type": "execute_result"
    }
   ],
   "source": [
    "df_2018Sum_total.sort_values(by=['Num_Incidencias']).head(3)"
   ]
  },
  {
   "cell_type": "code",
   "execution_count": 75,
   "metadata": {
    "colab": {
     "base_uri": "https://localhost:8080/"
    },
    "id": "P8ehyiLZefRX",
    "outputId": "05f88bf0-49f7-4d96-af23-bc0ed9c22e2e"
   },
   "outputs": [
    {
     "data": {
      "text/plain": [
       "['Aguascalientes', 'Baja California', 'Baja California Sur', 'Campeche', 'Chiapas', ..., 'Tamaulipas', 'Tlaxcala', 'Veracruz de Ignacio de la Llave', 'Yucatan', 'Zacatecas']\n",
       "Length: 32\n",
       "Categories (32, object): ['Mexico', 'Ciudad de Mexico', 'Jalisco', 'Guanajuato', ..., 'Yucatan', 'Tlaxcala', 'Nayarit', 'Campeche']"
      ]
     },
     "execution_count": 75,
     "metadata": {},
     "output_type": "execute_result"
    }
   ],
   "source": [
    "entidad_list = df_2018Sum_total.sort_values(by=['Num_Incidencias'])['Entidad'].tolist()[::-1]\n",
    "entidad_cat = pd.Categorical(df_2018Sum_total['Entidad'], categories=entidad_list)\n",
    "entidad_cat"
   ]
  },
  {
   "cell_type": "code",
   "execution_count": 76,
   "metadata": {
    "colab": {
     "base_uri": "https://localhost:8080/"
    },
    "id": "eHvRSkP_r_qn",
    "outputId": "ec2fcd59-49be-40ef-e5ea-5907d22f32fb"
   },
   "outputs": [
    {
     "ename": "NameError",
     "evalue": "name 'ggplot' is not defined",
     "output_type": "error",
     "traceback": [
      "\u001b[1;31m---------------------------------------------------------------------------\u001b[0m",
      "\u001b[1;31mNameError\u001b[0m                                 Traceback (most recent call last)",
      "Input \u001b[1;32mIn [76]\u001b[0m, in \u001b[0;36m<cell line: 2>\u001b[1;34m()\u001b[0m\n\u001b[0;32m      1\u001b[0m \u001b[38;5;66;03m# graficamos la suma por estado de los delitos en 2017\u001b[39;00m\n\u001b[1;32m----> 2\u001b[0m (\u001b[43mggplot\u001b[49m(df_2018Sum_total) \u001b[38;5;241m+\u001b[39m \n\u001b[0;32m      3\u001b[0m   aes(x\u001b[38;5;241m=\u001b[39m\u001b[38;5;124m\"\u001b[39m\u001b[38;5;124mentidad_cat\u001b[39m\u001b[38;5;124m\"\u001b[39m, y\u001b[38;5;241m=\u001b[39m\u001b[38;5;124m\"\u001b[39m\u001b[38;5;124mNum_Incidencias\u001b[39m\u001b[38;5;124m\"\u001b[39m) \u001b[38;5;241m+\u001b[39m \n\u001b[0;32m      4\u001b[0m   geom_col(size\u001b[38;5;241m=\u001b[39m\u001b[38;5;241m20\u001b[39m) \u001b[38;5;241m+\u001b[39m \n\u001b[0;32m      5\u001b[0m   scale_x_discrete(limits\u001b[38;5;241m=\u001b[39mentidad_list) \u001b[38;5;241m+\u001b[39m\n\u001b[0;32m      6\u001b[0m   coord_flip() \u001b[38;5;241m+\u001b[39m \n\u001b[0;32m      7\u001b[0m   theme_classic()\n\u001b[0;32m      8\u001b[0m  )\n",
      "\u001b[1;31mNameError\u001b[0m: name 'ggplot' is not defined"
     ]
    }
   ],
   "source": [
    "# graficamos la suma por estado de los delitos en 2017\n",
    "(ggplot(df_2018Sum_total) + \n",
    "  aes(x=\"entidad_cat\", y=\"Num_Incidencias\") + \n",
    "  geom_col(size=20) + \n",
    "  scale_x_discrete(limits=entidad_list) +\n",
    "  coord_flip() + \n",
    "  theme_classic()\n",
    " )"
   ]
  },
  {
   "cell_type": "markdown",
   "metadata": {
    "id": "BPlpRvfHnkN4"
   },
   "source": [
    "#### Número de incidencias totales del año 2018 por delito"
   ]
  },
  {
   "cell_type": "code",
   "execution_count": 77,
   "metadata": {
    "colab": {
     "base_uri": "https://localhost:8080/"
    },
    "id": "yzhXBhW3JWfX",
    "outputId": "4d72892f-523c-4e6a-9c7b-665c74aab51a"
   },
   "outputs": [
    {
     "data": {
      "text/html": [
       "<div>\n",
       "<style scoped>\n",
       "    .dataframe tbody tr th:only-of-type {\n",
       "        vertical-align: middle;\n",
       "    }\n",
       "\n",
       "    .dataframe tbody tr th {\n",
       "        vertical-align: top;\n",
       "    }\n",
       "\n",
       "    .dataframe thead th {\n",
       "        text-align: right;\n",
       "    }\n",
       "</style>\n",
       "<table border=\"1\" class=\"dataframe\">\n",
       "  <thead>\n",
       "    <tr style=\"text-align: right;\">\n",
       "      <th></th>\n",
       "      <th>Subtipo_delito</th>\n",
       "      <th>Num_Incidencias</th>\n",
       "    </tr>\n",
       "  </thead>\n",
       "  <tbody>\n",
       "    <tr>\n",
       "      <th>0</th>\n",
       "      <td>Aborto</td>\n",
       "      <td>604.0</td>\n",
       "    </tr>\n",
       "    <tr>\n",
       "      <th>1</th>\n",
       "      <td>Abuso de confianza</td>\n",
       "      <td>24741.0</td>\n",
       "    </tr>\n",
       "    <tr>\n",
       "      <th>2</th>\n",
       "      <td>Abuso sexual</td>\n",
       "      <td>18875.0</td>\n",
       "    </tr>\n",
       "  </tbody>\n",
       "</table>\n",
       "</div>"
      ],
      "text/plain": [
       "       Subtipo_delito  Num_Incidencias\n",
       "0              Aborto            604.0\n",
       "1  Abuso de confianza          24741.0\n",
       "2        Abuso sexual          18875.0"
      ]
     },
     "execution_count": 77,
     "metadata": {},
     "output_type": "execute_result"
    }
   ],
   "source": [
    "df_2018SubDelito_total = pd.DataFrame(df_2018.groupby('Subtipo_delito')['Num_Incidencias'].agg('sum'))\n",
    "# Quitamos a Subtipo_delito como index\n",
    "df_2018SubDelito_total.reset_index(inplace=True)\n",
    "df_2018SubDelito_total.head(3)"
   ]
  },
  {
   "cell_type": "code",
   "execution_count": 78,
   "metadata": {
    "colab": {
     "base_uri": "https://localhost:8080/"
    },
    "id": "v0hmrEQxrIHJ",
    "outputId": "601aab1f-5097-455e-ffa3-20a93b466362"
   },
   "outputs": [
    {
     "data": {
      "text/html": [
       "<div>\n",
       "<style scoped>\n",
       "    .dataframe tbody tr th:only-of-type {\n",
       "        vertical-align: middle;\n",
       "    }\n",
       "\n",
       "    .dataframe tbody tr th {\n",
       "        vertical-align: top;\n",
       "    }\n",
       "\n",
       "    .dataframe thead th {\n",
       "        text-align: right;\n",
       "    }\n",
       "</style>\n",
       "<table border=\"1\" class=\"dataframe\">\n",
       "  <thead>\n",
       "    <tr style=\"text-align: right;\">\n",
       "      <th></th>\n",
       "      <th>Subtipo_delito</th>\n",
       "      <th>Num_Incidencias</th>\n",
       "    </tr>\n",
       "  </thead>\n",
       "  <tbody>\n",
       "    <tr>\n",
       "      <th>21</th>\n",
       "      <td>Incesto</td>\n",
       "      <td>10.0</td>\n",
       "    </tr>\n",
       "    <tr>\n",
       "      <th>49</th>\n",
       "      <td>Trafico de menores</td>\n",
       "      <td>40.0</td>\n",
       "    </tr>\n",
       "    <tr>\n",
       "      <th>34</th>\n",
       "      <td>Rapto</td>\n",
       "      <td>119.0</td>\n",
       "    </tr>\n",
       "  </tbody>\n",
       "</table>\n",
       "</div>"
      ],
      "text/plain": [
       "        Subtipo_delito  Num_Incidencias\n",
       "21             Incesto             10.0\n",
       "49  Trafico de menores             40.0\n",
       "34               Rapto            119.0"
      ]
     },
     "execution_count": 78,
     "metadata": {},
     "output_type": "execute_result"
    }
   ],
   "source": [
    "df_2018SubDelito_total.sort_values(by=['Num_Incidencias']).head(3)"
   ]
  },
  {
   "cell_type": "code",
   "execution_count": 79,
   "metadata": {
    "colab": {
     "base_uri": "https://localhost:8080/"
    },
    "id": "GeshB-Fam92R",
    "outputId": "257aa92c-4488-4630-f097-22ef18316268"
   },
   "outputs": [
    {
     "data": {
      "text/plain": [
       "['Aborto', 'Abuso de confianza', 'Abuso sexual', 'Acoso sexual', 'Allanamiento de morada', ..., 'Trata de personas', 'Violacion equiparada', 'Violacion simple', 'Violencia de genero en todas sus modalidades ..., 'Violencia familiar']\n",
       "Length: 55\n",
       "Categories (55, object): ['Otros robos', 'Robo de vehiculo automotor', 'Violencia familiar', 'Otros delitos del Fuero Comun', ..., 'Evasion de presos', 'Rapto', 'Trafico de menores', 'Incesto']"
      ]
     },
     "execution_count": 79,
     "metadata": {},
     "output_type": "execute_result"
    }
   ],
   "source": [
    "subdelito_list = df_2018SubDelito_total.sort_values(by=['Num_Incidencias'])['Subtipo_delito'].tolist()[::-1]\n",
    "subdelito_cat = pd.Categorical(df_2018SubDelito_total['Subtipo_delito'], categories=subdelito_list)\n",
    "subdelito_cat"
   ]
  },
  {
   "cell_type": "code",
   "execution_count": 80,
   "metadata": {
    "colab": {
     "base_uri": "https://localhost:8080/"
    },
    "id": "jun7Tz3MJ3xE",
    "outputId": "3a8015c9-a969-4eae-b435-8f86b894e5d7"
   },
   "outputs": [
    {
     "ename": "NameError",
     "evalue": "name 'ggplot' is not defined",
     "output_type": "error",
     "traceback": [
      "\u001b[1;31m---------------------------------------------------------------------------\u001b[0m",
      "\u001b[1;31mNameError\u001b[0m                                 Traceback (most recent call last)",
      "Input \u001b[1;32mIn [80]\u001b[0m, in \u001b[0;36m<cell line: 1>\u001b[1;34m()\u001b[0m\n\u001b[1;32m----> 1\u001b[0m (\u001b[43mggplot\u001b[49m(df_2018SubDelito_total) \u001b[38;5;241m+\u001b[39m \n\u001b[0;32m      2\u001b[0m   aes(x\u001b[38;5;241m=\u001b[39m\u001b[38;5;124m\"\u001b[39m\u001b[38;5;124msubdelito_cat\u001b[39m\u001b[38;5;124m\"\u001b[39m, y\u001b[38;5;241m=\u001b[39m\u001b[38;5;124m\"\u001b[39m\u001b[38;5;124mNum_Incidencias\u001b[39m\u001b[38;5;124m\"\u001b[39m) \u001b[38;5;241m+\u001b[39m \n\u001b[0;32m      3\u001b[0m   geom_col(size\u001b[38;5;241m=\u001b[39m\u001b[38;5;241m20\u001b[39m) \u001b[38;5;241m+\u001b[39m \n\u001b[0;32m      4\u001b[0m   scale_x_discrete(limits\u001b[38;5;241m=\u001b[39msubdelito_list) \u001b[38;5;241m+\u001b[39m\n\u001b[0;32m      5\u001b[0m   coord_flip() \u001b[38;5;241m+\u001b[39m \n\u001b[0;32m      6\u001b[0m   theme_classic() \u001b[38;5;241m+\u001b[39m \n\u001b[0;32m      7\u001b[0m   theme(figure_size\u001b[38;5;241m=\u001b[39m(\u001b[38;5;241m8\u001b[39m, \u001b[38;5;241m7\u001b[39m))\n\u001b[0;32m      8\u001b[0m  )\n",
      "\u001b[1;31mNameError\u001b[0m: name 'ggplot' is not defined"
     ]
    }
   ],
   "source": [
    "(ggplot(df_2018SubDelito_total) + \n",
    "  aes(x=\"subdelito_cat\", y=\"Num_Incidencias\") + \n",
    "  geom_col(size=20) + \n",
    "  scale_x_discrete(limits=subdelito_list) +\n",
    "  coord_flip() + \n",
    "  theme_classic() + \n",
    "  theme(figure_size=(8, 7))\n",
    " )"
   ]
  },
  {
   "cell_type": "code",
   "execution_count": 81,
   "metadata": {
    "id": "U_ef62pLDIHt"
   },
   "outputs": [],
   "source": [
    "# para guardar graficas\n",
    "# p.save(\"./myplot.svg\")"
   ]
  },
  {
   "cell_type": "markdown",
   "metadata": {
    "id": "GqQWcc_nnwkS"
   },
   "source": [
    "#### Mapa de la México con número total de incidencias totales del año 2018"
   ]
  },
  {
   "cell_type": "code",
   "execution_count": 82,
   "metadata": {
    "colab": {
     "base_uri": "https://localhost:8080/"
    },
    "id": "67D7V1rqEhxp",
    "outputId": "cee430b8-610b-4adb-83eb-35a01669af00"
   },
   "outputs": [
    {
     "ename": "NameError",
     "evalue": "name 'ggplot' is not defined",
     "output_type": "error",
     "traceback": [
      "\u001b[1;31m---------------------------------------------------------------------------\u001b[0m",
      "\u001b[1;31mNameError\u001b[0m                                 Traceback (most recent call last)",
      "Input \u001b[1;32mIn [82]\u001b[0m, in \u001b[0;36m<cell line: 1>\u001b[1;34m()\u001b[0m\n\u001b[1;32m----> 1\u001b[0m \u001b[43mggplot\u001b[49m(df_2018) \u001b[38;5;241m+\u001b[39m aes(x\u001b[38;5;241m=\u001b[39m\u001b[38;5;124m\"\u001b[39m\u001b[38;5;124mlng\u001b[39m\u001b[38;5;124m\"\u001b[39m, y\u001b[38;5;241m=\u001b[39m\u001b[38;5;124m\"\u001b[39m\u001b[38;5;124mlat\u001b[39m\u001b[38;5;124m\"\u001b[39m, size\u001b[38;5;241m=\u001b[39m\u001b[38;5;124m\"\u001b[39m\u001b[38;5;124mNum_Incidencias\u001b[39m\u001b[38;5;124m\"\u001b[39m) \u001b[38;5;241m+\u001b[39m geom_point()\n",
      "\u001b[1;31mNameError\u001b[0m: name 'ggplot' is not defined"
     ]
    }
   ],
   "source": [
    "ggplot(df_2018) + aes(x=\"lng\", y=\"lat\", size=\"Num_Incidencias\") + geom_point()\n",
    "# podríamos agregar que pinte los puntos por estado color=\"Entidad\""
   ]
  },
  {
   "cell_type": "markdown",
   "metadata": {
    "id": "7mN4JaHvoDuf"
   },
   "source": [
    "#### Qué estados cometen qué delitos y en qué cantidad en el año 2018"
   ]
  },
  {
   "cell_type": "code",
   "execution_count": 83,
   "metadata": {
    "colab": {
     "base_uri": "https://localhost:8080/"
    },
    "id": "_xBhKEBrFWmy",
    "outputId": "8763c118-a0bf-40c5-fd1c-e7031db0e6d9"
   },
   "outputs": [
    {
     "ename": "NameError",
     "evalue": "name 'ggplot' is not defined",
     "output_type": "error",
     "traceback": [
      "\u001b[1;31m---------------------------------------------------------------------------\u001b[0m",
      "\u001b[1;31mNameError\u001b[0m                                 Traceback (most recent call last)",
      "Input \u001b[1;32mIn [83]\u001b[0m, in \u001b[0;36m<cell line: 3>\u001b[1;34m()\u001b[0m\n\u001b[0;32m      1\u001b[0m \u001b[38;5;66;03m# podemos ver en que estados se comenten que delitos\u001b[39;00m\n\u001b[0;32m      2\u001b[0m \u001b[38;5;66;03m# que delitos son los más \"populares\"\u001b[39;00m\n\u001b[1;32m----> 3\u001b[0m \u001b[43mggplot\u001b[49m(df_2018) \u001b[38;5;241m+\u001b[39m aes(x\u001b[38;5;241m=\u001b[39m\u001b[38;5;124m\"\u001b[39m\u001b[38;5;124mSubtipo_delito\u001b[39m\u001b[38;5;124m\"\u001b[39m, y\u001b[38;5;241m=\u001b[39m\u001b[38;5;124m\"\u001b[39m\u001b[38;5;124mEntidad\u001b[39m\u001b[38;5;124m\"\u001b[39m, size\u001b[38;5;241m=\u001b[39m\u001b[38;5;124m\"\u001b[39m\u001b[38;5;124mNum_Incidencias\u001b[39m\u001b[38;5;124m\"\u001b[39m) \u001b[38;5;241m+\u001b[39m theme(axis_text_x\u001b[38;5;241m=\u001b[39melement_text(angle\u001b[38;5;241m=\u001b[39m\u001b[38;5;241m90\u001b[39m)) \u001b[38;5;241m+\u001b[39m geom_point()\n",
      "\u001b[1;31mNameError\u001b[0m: name 'ggplot' is not defined"
     ]
    }
   ],
   "source": [
    "# podemos ver en que estados se comenten que delitos\n",
    "# que delitos son los más \"populares\"\n",
    "ggplot(df_2018) + aes(x=\"Subtipo_delito\", y=\"Entidad\", size=\"Num_Incidencias\") + theme(axis_text_x=element_text(angle=90)) + geom_point()"
   ]
  },
  {
   "cell_type": "markdown",
   "metadata": {
    "id": "xl_IN6zyElOh"
   },
   "source": [
    "#### TODO: Cambio en el número de incidencias totales por mes del año 2018\n"
   ]
  },
  {
   "cell_type": "code",
   "execution_count": 84,
   "metadata": {
    "colab": {
     "base_uri": "https://localhost:8080/"
    },
    "id": "xqV84cOBLXGR",
    "outputId": "6d251f86-5a13-4aa4-ee11-2e4ccdde1318"
   },
   "outputs": [
    {
     "data": {
      "text/html": [
       "<div>\n",
       "<style scoped>\n",
       "    .dataframe tbody tr th:only-of-type {\n",
       "        vertical-align: middle;\n",
       "    }\n",
       "\n",
       "    .dataframe tbody tr th {\n",
       "        vertical-align: top;\n",
       "    }\n",
       "\n",
       "    .dataframe thead th {\n",
       "        text-align: right;\n",
       "    }\n",
       "</style>\n",
       "<table border=\"1\" class=\"dataframe\">\n",
       "  <thead>\n",
       "    <tr style=\"text-align: right;\">\n",
       "      <th></th>\n",
       "      <th>Mes</th>\n",
       "      <th>Num_Incidencias</th>\n",
       "    </tr>\n",
       "  </thead>\n",
       "  <tbody>\n",
       "    <tr>\n",
       "      <th>0</th>\n",
       "      <td>Abril</td>\n",
       "      <td>1076807.0</td>\n",
       "    </tr>\n",
       "    <tr>\n",
       "      <th>1</th>\n",
       "      <td>Agosto</td>\n",
       "      <td>1145110.0</td>\n",
       "    </tr>\n",
       "    <tr>\n",
       "      <th>2</th>\n",
       "      <td>Diciembre</td>\n",
       "      <td>1065680.0</td>\n",
       "    </tr>\n",
       "  </tbody>\n",
       "</table>\n",
       "</div>"
      ],
      "text/plain": [
       "         Mes  Num_Incidencias\n",
       "0      Abril        1076807.0\n",
       "1     Agosto        1145110.0\n",
       "2  Diciembre        1065680.0"
      ]
     },
     "execution_count": 84,
     "metadata": {},
     "output_type": "execute_result"
    }
   ],
   "source": [
    "dfMes_total = pd.DataFrame(df.groupby('Mes')['Num_Incidencias'].agg('sum'))\n",
    "# Quitamos a Subtipo_delito como index\n",
    "dfMes_total.reset_index(inplace=True)\n",
    "dfMes_total.head(3)"
   ]
  },
  {
   "cell_type": "code",
   "execution_count": 85,
   "metadata": {
    "colab": {
     "base_uri": "https://localhost:8080/"
    },
    "id": "AHV6VCYMNoYe",
    "outputId": "3b08f963-9e28-4b10-d297-b41b7b3fd49e"
   },
   "outputs": [
    {
     "data": {
      "text/plain": [
       "['Abril', 'Agosto', 'Diciembre', 'Enero', 'Febrero', ..., 'Marzo', 'Mayo', 'Noviembre', 'Octubre', 'Septiembre']\n",
       "Length: 12\n",
       "Categories (12, object): ['Enero', 'Febrero', 'Marzo', 'Abril', ..., 'Septiembre', 'Octubre', 'Noviembre', 'Diciembre']"
      ]
     },
     "execution_count": 85,
     "metadata": {},
     "output_type": "execute_result"
    }
   ],
   "source": [
    "meses_list = [\"Enero\", \"Febrero\", \"Marzo\", \"Abril\",\n",
    "              \"Mayo\", \"Junio\", \"Julio\", \"Agosto\",\n",
    "              \"Septiembre\", \"Octubre\", \"Noviembre\", \"Diciembre\"]\n",
    "meses_cat = pd.Categorical(dfMes_total['Mes'], categories=meses_list)\n",
    "meses_cat"
   ]
  },
  {
   "cell_type": "code",
   "execution_count": 86,
   "metadata": {
    "colab": {
     "base_uri": "https://localhost:8080/"
    },
    "id": "1U9cfgnxMAt1",
    "outputId": "c450c70a-922c-4bfa-f4bb-0e89da23c733"
   },
   "outputs": [
    {
     "ename": "NameError",
     "evalue": "name 'ggplot' is not defined",
     "output_type": "error",
     "traceback": [
      "\u001b[1;31m---------------------------------------------------------------------------\u001b[0m",
      "\u001b[1;31mNameError\u001b[0m                                 Traceback (most recent call last)",
      "Input \u001b[1;32mIn [86]\u001b[0m, in \u001b[0;36m<cell line: 1>\u001b[1;34m()\u001b[0m\n\u001b[1;32m----> 1\u001b[0m (\u001b[43mggplot\u001b[49m(dfMes_total)\n\u001b[0;32m      2\u001b[0m   \u001b[38;5;241m+\u001b[39m aes(x\u001b[38;5;241m=\u001b[39m\u001b[38;5;124m\"\u001b[39m\u001b[38;5;124mMes\u001b[39m\u001b[38;5;124m\"\u001b[39m, y\u001b[38;5;241m=\u001b[39m\u001b[38;5;124m\"\u001b[39m\u001b[38;5;124mNum_Incidencias\u001b[39m\u001b[38;5;124m\"\u001b[39m) \u001b[38;5;66;03m# https://stackoverflow.com/questions/62507299/plotting-in-sorted-order-using-plotnine\u001b[39;00m\n\u001b[0;32m      3\u001b[0m   \u001b[38;5;241m+\u001b[39m geom_density(color\u001b[38;5;241m=\u001b[39m\u001b[38;5;124m\"\u001b[39m\u001b[38;5;124m#668cff\u001b[39m\u001b[38;5;124m\"\u001b[39m, fill\u001b[38;5;241m=\u001b[39m\u001b[38;5;124m\"\u001b[39m\u001b[38;5;124m#668cff\u001b[39m\u001b[38;5;124m\"\u001b[39m)\n\u001b[0;32m      4\u001b[0m   \u001b[38;5;241m+\u001b[39m scale_x_discrete(limits\u001b[38;5;241m=\u001b[39mmeses_list) \n\u001b[0;32m      5\u001b[0m   \u001b[38;5;241m+\u001b[39m theme_classic() \n\u001b[0;32m      6\u001b[0m   \u001b[38;5;241m+\u001b[39m theme(axis_text_x\u001b[38;5;241m=\u001b[39melement_blank(), axis_ticks_direction_x\u001b[38;5;241m=\u001b[39m\u001b[38;5;124m'\u001b[39m\u001b[38;5;124min\u001b[39m\u001b[38;5;124m'\u001b[39m)\n\u001b[0;32m      7\u001b[0m )\n",
      "\u001b[1;31mNameError\u001b[0m: name 'ggplot' is not defined"
     ]
    }
   ],
   "source": [
    "(ggplot(dfMes_total)\n",
    "  + aes(x=\"Mes\", y=\"Num_Incidencias\") # https://stackoverflow.com/questions/62507299/plotting-in-sorted-order-using-plotnine\n",
    "  + geom_density(color=\"#668cff\", fill=\"#668cff\")\n",
    "  + scale_x_discrete(limits=meses_list) \n",
    "  + theme_classic() \n",
    "  + theme(axis_text_x=element_blank(), axis_ticks_direction_x='in')\n",
    ")"
   ]
  },
  {
   "cell_type": "markdown",
   "metadata": {
    "id": "I0U1vD0kzGQn"
   },
   "source": [
    "# Creación del conjunto de datos de entrenamiento "
   ]
  },
  {
   "cell_type": "code",
   "execution_count": 87,
   "metadata": {
    "id": "TD84RqUEz2xL"
   },
   "outputs": [],
   "source": [
    "from sklearn.model_selection import train_test_split, StratifiedShuffleSplit\n",
    "from sklearn.impute import SimpleImputer\n",
    "from sklearn.preprocessing import OrdinalEncoder, OneHotEncoder"
   ]
  },
  {
   "cell_type": "code",
   "execution_count": 88,
   "metadata": {
    "colab": {
     "base_uri": "https://localhost:8080/"
    },
    "id": "1qYe_O3Fzo3s",
    "outputId": "e77a4bc3-eb16-4efa-f061-9d3eb9925fcb"
   },
   "outputs": [
    {
     "data": {
      "text/plain": [
       "((30105, 14), (7527, 14))"
      ]
     },
     "execution_count": 88,
     "metadata": {},
     "output_type": "execute_result"
    }
   ],
   "source": [
    "train_set, test_set = train_test_split(df_2018, test_size=0.2, random_state=42)\n",
    "train_set.shape, test_set.shape"
   ]
  },
  {
   "cell_type": "markdown",
   "metadata": {
    "id": "d31t5i4oeNIi"
   },
   "source": [
    "# Transformaciones"
   ]
  },
  {
   "cell_type": "code",
   "execution_count": 89,
   "metadata": {
    "id": "qtd7fEv-Vp4g"
   },
   "outputs": [],
   "source": [
    "from sklearn.model_selection import train_test_split, StratifiedShuffleSplit\n",
    "from sklearn.impute import SimpleImputer\n",
    "from sklearn.preprocessing import OrdinalEncoder, OneHotEncoder"
   ]
  },
  {
   "cell_type": "markdown",
   "metadata": {
    "id": "gTKwBVeYpC6Z"
   },
   "source": [
    "#### Quitar columnas sin valor"
   ]
  },
  {
   "cell_type": "markdown",
   "metadata": {
    "id": "Jkq_VxNMlQ1y"
   },
   "source": [
    "Primero quitamos columnas que no aportan al modelo o que solo eran para la visualización"
   ]
  },
  {
   "cell_type": "code",
   "execution_count": 90,
   "metadata": {
    "colab": {
     "base_uri": "https://localhost:8080/",
     "height": 0
    },
    "id": "4iJgqo4AlP5y",
    "outputId": "06f6b8d0-5ee3-40a8-f0b0-7b1803ace603"
   },
   "outputs": [
    {
     "data": {
      "text/html": [
       "<div>\n",
       "<style scoped>\n",
       "    .dataframe tbody tr th:only-of-type {\n",
       "        vertical-align: middle;\n",
       "    }\n",
       "\n",
       "    .dataframe tbody tr th {\n",
       "        vertical-align: top;\n",
       "    }\n",
       "\n",
       "    .dataframe thead th {\n",
       "        text-align: right;\n",
       "    }\n",
       "</style>\n",
       "<table border=\"1\" class=\"dataframe\">\n",
       "  <thead>\n",
       "    <tr style=\"text-align: right;\">\n",
       "      <th></th>\n",
       "      <th>Entidad</th>\n",
       "      <th>Bien_juridico_afectado</th>\n",
       "      <th>Delito</th>\n",
       "      <th>Subtipo_delito</th>\n",
       "      <th>Modalidad</th>\n",
       "      <th>Mes</th>\n",
       "      <th>Num_Incidencias</th>\n",
       "      <th>population</th>\n",
       "      <th>Inflacion</th>\n",
       "      <th>Desocupacion</th>\n",
       "    </tr>\n",
       "  </thead>\n",
       "  <tbody>\n",
       "    <tr>\n",
       "      <th>160108</th>\n",
       "      <td>Baja California</td>\n",
       "      <td>El patrimonio</td>\n",
       "      <td>Robo</td>\n",
       "      <td>Otros robos</td>\n",
       "      <td>Sin violencia</td>\n",
       "      <td>Julio</td>\n",
       "      <td>505.0</td>\n",
       "      <td>1102342</td>\n",
       "      <td>0.54</td>\n",
       "      <td>3.63</td>\n",
       "    </tr>\n",
       "  </tbody>\n",
       "</table>\n",
       "</div>"
      ],
      "text/plain": [
       "                Entidad Bien_juridico_afectado Delito Subtipo_delito  \\\n",
       "160108  Baja California          El patrimonio   Robo    Otros robos   \n",
       "\n",
       "            Modalidad    Mes  Num_Incidencias population  Inflacion  \\\n",
       "160108  Sin violencia  Julio            505.0    1102342       0.54   \n",
       "\n",
       "        Desocupacion  \n",
       "160108          3.63  "
      ]
     },
     "execution_count": 90,
     "metadata": {},
     "output_type": "execute_result"
    }
   ],
   "source": [
    "train_set = train_set.drop(columns=['Clave_Ent', 'Anno', 'lat', 'lng'])\n",
    "train_set.head(1)"
   ]
  },
  {
   "cell_type": "markdown",
   "metadata": {
    "id": "FWSvjMRUpH4P"
   },
   "source": [
    "#### Normalizar número de incidencias"
   ]
  },
  {
   "cell_type": "code",
   "execution_count": 91,
   "metadata": {
    "colab": {
     "base_uri": "https://localhost:8080/"
    },
    "id": "fdBvgv31hdMO",
    "outputId": "5c0916cc-21c7-4a32-fcc0-49646fb4520e"
   },
   "outputs": [
    {
     "name": "stdout",
     "output_type": "stream",
     "text": [
      "<class 'pandas.core.frame.DataFrame'>\n",
      "Int64Index: 30105 entries, 160108 to 134963\n",
      "Data columns (total 10 columns):\n",
      " #   Column                  Non-Null Count  Dtype  \n",
      "---  ------                  --------------  -----  \n",
      " 0   Entidad                 30105 non-null  object \n",
      " 1   Bien_juridico_afectado  30105 non-null  object \n",
      " 2   Delito                  30105 non-null  object \n",
      " 3   Subtipo_delito          30105 non-null  object \n",
      " 4   Modalidad               30105 non-null  object \n",
      " 5   Mes                     30105 non-null  object \n",
      " 6   Num_Incidencias         30105 non-null  float64\n",
      " 7   population              30105 non-null  object \n",
      " 8   Inflacion               27595 non-null  float64\n",
      " 9   Desocupacion            30105 non-null  float64\n",
      "dtypes: float64(3), object(7)\n",
      "memory usage: 2.5+ MB\n"
     ]
    }
   ],
   "source": [
    "train_set.info()"
   ]
  },
  {
   "cell_type": "code",
   "execution_count": 92,
   "metadata": {
    "id": "M7JZLiF-hu1b"
   },
   "outputs": [],
   "source": [
    "train_set['population'] = train_set['population'].astype(float)"
   ]
  },
  {
   "cell_type": "code",
   "execution_count": 93,
   "metadata": {
    "colab": {
     "base_uri": "https://localhost:8080/",
     "height": 0
    },
    "id": "sxOFS64epPXC",
    "outputId": "cdfdadf6-92e9-4935-f6dc-25838276dd8c"
   },
   "outputs": [
    {
     "data": {
      "text/html": [
       "<div>\n",
       "<style scoped>\n",
       "    .dataframe tbody tr th:only-of-type {\n",
       "        vertical-align: middle;\n",
       "    }\n",
       "\n",
       "    .dataframe tbody tr th {\n",
       "        vertical-align: top;\n",
       "    }\n",
       "\n",
       "    .dataframe thead th {\n",
       "        text-align: right;\n",
       "    }\n",
       "</style>\n",
       "<table border=\"1\" class=\"dataframe\">\n",
       "  <thead>\n",
       "    <tr style=\"text-align: right;\">\n",
       "      <th></th>\n",
       "      <th>Entidad</th>\n",
       "      <th>Bien_juridico_afectado</th>\n",
       "      <th>Delito</th>\n",
       "      <th>Subtipo_delito</th>\n",
       "      <th>Modalidad</th>\n",
       "      <th>Mes</th>\n",
       "      <th>Num_Incidencias</th>\n",
       "      <th>population</th>\n",
       "      <th>Inflacion</th>\n",
       "      <th>Desocupacion</th>\n",
       "      <th>Incidencias_Norm</th>\n",
       "    </tr>\n",
       "  </thead>\n",
       "  <tbody>\n",
       "    <tr>\n",
       "      <th>160108</th>\n",
       "      <td>Baja California</td>\n",
       "      <td>El patrimonio</td>\n",
       "      <td>Robo</td>\n",
       "      <td>Otros robos</td>\n",
       "      <td>Sin violencia</td>\n",
       "      <td>Julio</td>\n",
       "      <td>505.0</td>\n",
       "      <td>1102342.0</td>\n",
       "      <td>0.54</td>\n",
       "      <td>3.63</td>\n",
       "      <td>4.581155</td>\n",
       "    </tr>\n",
       "    <tr>\n",
       "      <th>287893</th>\n",
       "      <td>Sonora</td>\n",
       "      <td>El patrimonio</td>\n",
       "      <td>Robo</td>\n",
       "      <td>Robo de maquinaria</td>\n",
       "      <td>Robo de herramienta industrial o agricola Con ...</td>\n",
       "      <td>Diciembre</td>\n",
       "      <td>1.0</td>\n",
       "      <td>812229.0</td>\n",
       "      <td>0.70</td>\n",
       "      <td>3.17</td>\n",
       "      <td>0.012312</td>\n",
       "    </tr>\n",
       "    <tr>\n",
       "      <th>286477</th>\n",
       "      <td>Guerrero</td>\n",
       "      <td>La vida y la Integridad corporal</td>\n",
       "      <td>Otros delitos que atentan contra la vida y la ...</td>\n",
       "      <td>Otros delitos que atentan contra la vida y la ...</td>\n",
       "      <td>Otros delitos que atentan contra la vida y la ...</td>\n",
       "      <td>Diciembre</td>\n",
       "      <td>1.0</td>\n",
       "      <td>187251.0</td>\n",
       "      <td>0.70</td>\n",
       "      <td>3.17</td>\n",
       "      <td>0.053404</td>\n",
       "    </tr>\n",
       "    <tr>\n",
       "      <th>162200</th>\n",
       "      <td>San Luis Potosi</td>\n",
       "      <td>La vida y la Integridad corporal</td>\n",
       "      <td>Lesiones</td>\n",
       "      <td>Lesiones dolosas</td>\n",
       "      <td>Con arma blanca</td>\n",
       "      <td>Julio</td>\n",
       "      <td>21.0</td>\n",
       "      <td>824229.0</td>\n",
       "      <td>0.54</td>\n",
       "      <td>3.63</td>\n",
       "      <td>0.254784</td>\n",
       "    </tr>\n",
       "    <tr>\n",
       "      <th>286318</th>\n",
       "      <td>Durango</td>\n",
       "      <td>El patrimonio</td>\n",
       "      <td>Robo</td>\n",
       "      <td>Robo en transporte individual</td>\n",
       "      <td>Sin violencia</td>\n",
       "      <td>Diciembre</td>\n",
       "      <td>0.0</td>\n",
       "      <td>654876.0</td>\n",
       "      <td>0.70</td>\n",
       "      <td>3.17</td>\n",
       "      <td>0.000000</td>\n",
       "    </tr>\n",
       "  </tbody>\n",
       "</table>\n",
       "</div>"
      ],
      "text/plain": [
       "                Entidad            Bien_juridico_afectado  \\\n",
       "160108  Baja California                     El patrimonio   \n",
       "287893           Sonora                     El patrimonio   \n",
       "286477         Guerrero  La vida y la Integridad corporal   \n",
       "162200  San Luis Potosi  La vida y la Integridad corporal   \n",
       "286318          Durango                     El patrimonio   \n",
       "\n",
       "                                                   Delito  \\\n",
       "160108                                               Robo   \n",
       "287893                                               Robo   \n",
       "286477  Otros delitos que atentan contra la vida y la ...   \n",
       "162200                                           Lesiones   \n",
       "286318                                               Robo   \n",
       "\n",
       "                                           Subtipo_delito  \\\n",
       "160108                                        Otros robos   \n",
       "287893                                 Robo de maquinaria   \n",
       "286477  Otros delitos que atentan contra la vida y la ...   \n",
       "162200                                   Lesiones dolosas   \n",
       "286318                      Robo en transporte individual   \n",
       "\n",
       "                                                Modalidad        Mes  \\\n",
       "160108                                      Sin violencia      Julio   \n",
       "287893  Robo de herramienta industrial o agricola Con ...  Diciembre   \n",
       "286477  Otros delitos que atentan contra la vida y la ...  Diciembre   \n",
       "162200                                    Con arma blanca      Julio   \n",
       "286318                                      Sin violencia  Diciembre   \n",
       "\n",
       "        Num_Incidencias  population  Inflacion  Desocupacion  Incidencias_Norm  \n",
       "160108            505.0   1102342.0       0.54          3.63          4.581155  \n",
       "287893              1.0    812229.0       0.70          3.17          0.012312  \n",
       "286477              1.0    187251.0       0.70          3.17          0.053404  \n",
       "162200             21.0    824229.0       0.54          3.63          0.254784  \n",
       "286318              0.0    654876.0       0.70          3.17          0.000000  "
      ]
     },
     "execution_count": 93,
     "metadata": {},
     "output_type": "execute_result"
    }
   ],
   "source": [
    "train_set['Incidencias_Norm'] = train_set['Num_Incidencias'] * 10000 / train_set['population']\n",
    "train_set.head()"
   ]
  },
  {
   "cell_type": "markdown",
   "metadata": {
    "id": "ZFQ4MAFIVoGU"
   },
   "source": [
    "#### Menejo de variables categóricas"
   ]
  },
  {
   "cell_type": "markdown",
   "metadata": {
    "id": "3dNMB1zFeipR"
   },
   "source": [
    "Los modelos de Machine Learning trabajan con números, es necesario convertir las categorías de texto a números.\n",
    "Un problema con esta codificación es que los modelos de Machine Learning supondrán que dos valores cercanos son más similares que dos valores distantes.\n"
   ]
  },
  {
   "cell_type": "markdown",
   "metadata": {
    "id": "iZnPTBwse8Qn"
   },
   "source": [
    "Para solucionar este problema, una solución común es crear una variable binaria por categoría. "
   ]
  },
  {
   "cell_type": "code",
   "execution_count": 94,
   "metadata": {
    "colab": {
     "base_uri": "https://localhost:8080/",
     "height": 0
    },
    "id": "ZVNcKLkPfdGx",
    "outputId": "7a799465-22b6-43cd-edf2-33c990835d93"
   },
   "outputs": [
    {
     "data": {
      "text/html": [
       "<div>\n",
       "<style scoped>\n",
       "    .dataframe tbody tr th:only-of-type {\n",
       "        vertical-align: middle;\n",
       "    }\n",
       "\n",
       "    .dataframe tbody tr th {\n",
       "        vertical-align: top;\n",
       "    }\n",
       "\n",
       "    .dataframe thead th {\n",
       "        text-align: right;\n",
       "    }\n",
       "</style>\n",
       "<table border=\"1\" class=\"dataframe\">\n",
       "  <thead>\n",
       "    <tr style=\"text-align: right;\">\n",
       "      <th></th>\n",
       "      <th>Entidad</th>\n",
       "      <th>Bien_juridico_afectado</th>\n",
       "      <th>Delito</th>\n",
       "      <th>Subtipo_delito</th>\n",
       "      <th>Modalidad</th>\n",
       "      <th>Mes</th>\n",
       "      <th>Num_Incidencias</th>\n",
       "      <th>population</th>\n",
       "      <th>Inflacion</th>\n",
       "      <th>Desocupacion</th>\n",
       "      <th>Incidencias_Norm</th>\n",
       "    </tr>\n",
       "  </thead>\n",
       "  <tbody>\n",
       "    <tr>\n",
       "      <th>160108</th>\n",
       "      <td>Baja California</td>\n",
       "      <td>El patrimonio</td>\n",
       "      <td>Robo</td>\n",
       "      <td>Otros robos</td>\n",
       "      <td>Sin violencia</td>\n",
       "      <td>Julio</td>\n",
       "      <td>505.0</td>\n",
       "      <td>1102342.0</td>\n",
       "      <td>0.54</td>\n",
       "      <td>3.63</td>\n",
       "      <td>4.581155</td>\n",
       "    </tr>\n",
       "  </tbody>\n",
       "</table>\n",
       "</div>"
      ],
      "text/plain": [
       "                Entidad Bien_juridico_afectado Delito Subtipo_delito  \\\n",
       "160108  Baja California          El patrimonio   Robo    Otros robos   \n",
       "\n",
       "            Modalidad    Mes  Num_Incidencias  population  Inflacion  \\\n",
       "160108  Sin violencia  Julio            505.0   1102342.0       0.54   \n",
       "\n",
       "        Desocupacion  Incidencias_Norm  \n",
       "160108          3.63          4.581155  "
      ]
     },
     "execution_count": 94,
     "metadata": {},
     "output_type": "execute_result"
    }
   ],
   "source": [
    "# tomamos las columnas categoricas de nuestro conjunto de datos\n",
    "train_set.head(1)"
   ]
  },
  {
   "cell_type": "code",
   "execution_count": 95,
   "metadata": {
    "colab": {
     "base_uri": "https://localhost:8080/",
     "height": 0
    },
    "id": "sD7W01lJkDPi",
    "outputId": "07dc6c9f-a9b3-4dc8-80b7-937689864d87"
   },
   "outputs": [
    {
     "data": {
      "text/html": [
       "<div>\n",
       "<style scoped>\n",
       "    .dataframe tbody tr th:only-of-type {\n",
       "        vertical-align: middle;\n",
       "    }\n",
       "\n",
       "    .dataframe tbody tr th {\n",
       "        vertical-align: top;\n",
       "    }\n",
       "\n",
       "    .dataframe thead th {\n",
       "        text-align: right;\n",
       "    }\n",
       "</style>\n",
       "<table border=\"1\" class=\"dataframe\">\n",
       "  <thead>\n",
       "    <tr style=\"text-align: right;\">\n",
       "      <th></th>\n",
       "      <th>Entidad</th>\n",
       "      <th>Bien_juridico_afectado</th>\n",
       "      <th>Delito</th>\n",
       "      <th>Subtipo_delito</th>\n",
       "      <th>Modalidad</th>\n",
       "      <th>Mes</th>\n",
       "    </tr>\n",
       "  </thead>\n",
       "  <tbody>\n",
       "    <tr>\n",
       "      <th>160108</th>\n",
       "      <td>Baja California</td>\n",
       "      <td>El patrimonio</td>\n",
       "      <td>Robo</td>\n",
       "      <td>Otros robos</td>\n",
       "      <td>Sin violencia</td>\n",
       "      <td>Julio</td>\n",
       "    </tr>\n",
       "    <tr>\n",
       "      <th>287893</th>\n",
       "      <td>Sonora</td>\n",
       "      <td>El patrimonio</td>\n",
       "      <td>Robo</td>\n",
       "      <td>Robo de maquinaria</td>\n",
       "      <td>Robo de herramienta industrial o agricola Con ...</td>\n",
       "      <td>Diciembre</td>\n",
       "    </tr>\n",
       "    <tr>\n",
       "      <th>286477</th>\n",
       "      <td>Guerrero</td>\n",
       "      <td>La vida y la Integridad corporal</td>\n",
       "      <td>Otros delitos que atentan contra la vida y la ...</td>\n",
       "      <td>Otros delitos que atentan contra la vida y la ...</td>\n",
       "      <td>Otros delitos que atentan contra la vida y la ...</td>\n",
       "      <td>Diciembre</td>\n",
       "    </tr>\n",
       "  </tbody>\n",
       "</table>\n",
       "</div>"
      ],
      "text/plain": [
       "                Entidad            Bien_juridico_afectado  \\\n",
       "160108  Baja California                     El patrimonio   \n",
       "287893           Sonora                     El patrimonio   \n",
       "286477         Guerrero  La vida y la Integridad corporal   \n",
       "\n",
       "                                                   Delito  \\\n",
       "160108                                               Robo   \n",
       "287893                                               Robo   \n",
       "286477  Otros delitos que atentan contra la vida y la ...   \n",
       "\n",
       "                                           Subtipo_delito  \\\n",
       "160108                                        Otros robos   \n",
       "287893                                 Robo de maquinaria   \n",
       "286477  Otros delitos que atentan contra la vida y la ...   \n",
       "\n",
       "                                                Modalidad        Mes  \n",
       "160108                                      Sin violencia      Julio  \n",
       "287893  Robo de herramienta industrial o agricola Con ...  Diciembre  \n",
       "286477  Otros delitos que atentan contra la vida y la ...  Diciembre  "
      ]
     },
     "execution_count": 95,
     "metadata": {},
     "output_type": "execute_result"
    }
   ],
   "source": [
    "train_set_cat = train_set[['Entidad', 'Bien_juridico_afectado', 'Delito', 'Subtipo_delito', 'Modalidad', 'Mes']]\n",
    "train_set_cat.head(3)"
   ]
  },
  {
   "cell_type": "code",
   "execution_count": 96,
   "metadata": {
    "id": "xya02y_Id0YF"
   },
   "outputs": [],
   "source": [
    "# Crea objeto codificador\n",
    "# hace n columnas, siendo n el número de valores distintos que tengamos\n",
    "# y en cada registro va a colocar solamente un 1 en la columna donde corresponda la etiqueta\n",
    "cat_encoder = OneHotEncoder()"
   ]
  },
  {
   "cell_type": "code",
   "execution_count": 97,
   "metadata": {
    "colab": {
     "base_uri": "https://localhost:8080/"
    },
    "id": "lq2EwaE5fLTd",
    "outputId": "01a22665-d4c9-4115-cdaa-40758f21fb7f"
   },
   "outputs": [
    {
     "data": {
      "text/plain": [
       "<30105x205 sparse matrix of type '<class 'numpy.float64'>'\n",
       "\twith 180630 stored elements in Compressed Sparse Row format>"
      ]
     },
     "execution_count": 97,
     "metadata": {},
     "output_type": "execute_result"
    }
   ],
   "source": [
    "incidencias_cat_1hot = cat_encoder.fit_transform(train_set_cat)\n",
    "incidencias_cat_1hot"
   ]
  },
  {
   "cell_type": "code",
   "execution_count": 98,
   "metadata": {
    "colab": {
     "base_uri": "https://localhost:8080/"
    },
    "id": "HpkqQuYpqoOT",
    "outputId": "1732c3fc-f940-4fc6-f242-165898750270"
   },
   "outputs": [
    {
     "data": {
      "text/plain": [
       "(30105, 205)"
      ]
     },
     "execution_count": 98,
     "metadata": {},
     "output_type": "execute_result"
    }
   ],
   "source": [
    "incidencias_cat_1hot.shape"
   ]
  },
  {
   "cell_type": "code",
   "execution_count": 99,
   "metadata": {
    "colab": {
     "base_uri": "https://localhost:8080/"
    },
    "id": "hM0NYUqrnvjV",
    "outputId": "491d0283-803d-487c-dabc-083721cd3eae"
   },
   "outputs": [
    {
     "data": {
      "text/plain": [
       "array([[0., 1., 0., ..., 0., 0., 0.],\n",
       "       [0., 0., 0., ..., 0., 0., 0.],\n",
       "       [0., 0., 0., ..., 0., 0., 0.],\n",
       "       ...,\n",
       "       [0., 0., 0., ..., 0., 0., 0.],\n",
       "       [0., 0., 0., ..., 0., 0., 0.],\n",
       "       [0., 1., 0., ..., 0., 0., 0.]])"
      ]
     },
     "execution_count": 99,
     "metadata": {},
     "output_type": "execute_result"
    }
   ],
   "source": [
    "incidencias_cat_1hot.toarray()"
   ]
  },
  {
   "cell_type": "code",
   "execution_count": 100,
   "metadata": {
    "id": "viPD8P7xt63H"
   },
   "outputs": [],
   "source": [
    "import scipy.sparse\n",
    "incidencias_cat_1hot = pd.DataFrame.sparse.from_spmatrix(incidencias_cat_1hot)"
   ]
  },
  {
   "cell_type": "code",
   "execution_count": 101,
   "metadata": {
    "colab": {
     "base_uri": "https://localhost:8080/",
     "height": 0
    },
    "id": "8wdwFh64vapV",
    "outputId": "f6f882d4-fb90-470d-eb5b-7b05812ceab5"
   },
   "outputs": [
    {
     "data": {
      "text/html": [
       "<div>\n",
       "<style scoped>\n",
       "    .dataframe tbody tr th:only-of-type {\n",
       "        vertical-align: middle;\n",
       "    }\n",
       "\n",
       "    .dataframe tbody tr th {\n",
       "        vertical-align: top;\n",
       "    }\n",
       "\n",
       "    .dataframe thead th {\n",
       "        text-align: right;\n",
       "    }\n",
       "</style>\n",
       "<table border=\"1\" class=\"dataframe\">\n",
       "  <thead>\n",
       "    <tr style=\"text-align: right;\">\n",
       "      <th></th>\n",
       "      <th>0</th>\n",
       "      <th>1</th>\n",
       "      <th>2</th>\n",
       "      <th>3</th>\n",
       "      <th>4</th>\n",
       "      <th>5</th>\n",
       "      <th>6</th>\n",
       "      <th>7</th>\n",
       "      <th>8</th>\n",
       "      <th>9</th>\n",
       "      <th>...</th>\n",
       "      <th>196</th>\n",
       "      <th>197</th>\n",
       "      <th>198</th>\n",
       "      <th>199</th>\n",
       "      <th>200</th>\n",
       "      <th>201</th>\n",
       "      <th>202</th>\n",
       "      <th>203</th>\n",
       "      <th>204</th>\n",
       "      <th>index</th>\n",
       "    </tr>\n",
       "  </thead>\n",
       "  <tbody>\n",
       "    <tr>\n",
       "      <th>0</th>\n",
       "      <td>0.0</td>\n",
       "      <td>1.0</td>\n",
       "      <td>0.0</td>\n",
       "      <td>0.0</td>\n",
       "      <td>0.0</td>\n",
       "      <td>0.0</td>\n",
       "      <td>0.0</td>\n",
       "      <td>0.0</td>\n",
       "      <td>0.0</td>\n",
       "      <td>0.0</td>\n",
       "      <td>...</td>\n",
       "      <td>0.0</td>\n",
       "      <td>0.0</td>\n",
       "      <td>1.0</td>\n",
       "      <td>0.0</td>\n",
       "      <td>0.0</td>\n",
       "      <td>0.0</td>\n",
       "      <td>0.0</td>\n",
       "      <td>0.0</td>\n",
       "      <td>0.0</td>\n",
       "      <td>0</td>\n",
       "    </tr>\n",
       "    <tr>\n",
       "      <th>1</th>\n",
       "      <td>0.0</td>\n",
       "      <td>0.0</td>\n",
       "      <td>0.0</td>\n",
       "      <td>0.0</td>\n",
       "      <td>0.0</td>\n",
       "      <td>0.0</td>\n",
       "      <td>0.0</td>\n",
       "      <td>0.0</td>\n",
       "      <td>0.0</td>\n",
       "      <td>0.0</td>\n",
       "      <td>...</td>\n",
       "      <td>0.0</td>\n",
       "      <td>0.0</td>\n",
       "      <td>0.0</td>\n",
       "      <td>0.0</td>\n",
       "      <td>0.0</td>\n",
       "      <td>0.0</td>\n",
       "      <td>0.0</td>\n",
       "      <td>0.0</td>\n",
       "      <td>0.0</td>\n",
       "      <td>1</td>\n",
       "    </tr>\n",
       "    <tr>\n",
       "      <th>2</th>\n",
       "      <td>0.0</td>\n",
       "      <td>0.0</td>\n",
       "      <td>0.0</td>\n",
       "      <td>0.0</td>\n",
       "      <td>0.0</td>\n",
       "      <td>0.0</td>\n",
       "      <td>0.0</td>\n",
       "      <td>0.0</td>\n",
       "      <td>0.0</td>\n",
       "      <td>0.0</td>\n",
       "      <td>...</td>\n",
       "      <td>0.0</td>\n",
       "      <td>0.0</td>\n",
       "      <td>0.0</td>\n",
       "      <td>0.0</td>\n",
       "      <td>0.0</td>\n",
       "      <td>0.0</td>\n",
       "      <td>0.0</td>\n",
       "      <td>0.0</td>\n",
       "      <td>0.0</td>\n",
       "      <td>2</td>\n",
       "    </tr>\n",
       "    <tr>\n",
       "      <th>3</th>\n",
       "      <td>0.0</td>\n",
       "      <td>0.0</td>\n",
       "      <td>0.0</td>\n",
       "      <td>0.0</td>\n",
       "      <td>0.0</td>\n",
       "      <td>0.0</td>\n",
       "      <td>0.0</td>\n",
       "      <td>0.0</td>\n",
       "      <td>0.0</td>\n",
       "      <td>0.0</td>\n",
       "      <td>...</td>\n",
       "      <td>0.0</td>\n",
       "      <td>0.0</td>\n",
       "      <td>1.0</td>\n",
       "      <td>0.0</td>\n",
       "      <td>0.0</td>\n",
       "      <td>0.0</td>\n",
       "      <td>0.0</td>\n",
       "      <td>0.0</td>\n",
       "      <td>0.0</td>\n",
       "      <td>3</td>\n",
       "    </tr>\n",
       "    <tr>\n",
       "      <th>4</th>\n",
       "      <td>0.0</td>\n",
       "      <td>0.0</td>\n",
       "      <td>0.0</td>\n",
       "      <td>0.0</td>\n",
       "      <td>0.0</td>\n",
       "      <td>0.0</td>\n",
       "      <td>0.0</td>\n",
       "      <td>0.0</td>\n",
       "      <td>0.0</td>\n",
       "      <td>1.0</td>\n",
       "      <td>...</td>\n",
       "      <td>0.0</td>\n",
       "      <td>0.0</td>\n",
       "      <td>0.0</td>\n",
       "      <td>0.0</td>\n",
       "      <td>0.0</td>\n",
       "      <td>0.0</td>\n",
       "      <td>0.0</td>\n",
       "      <td>0.0</td>\n",
       "      <td>0.0</td>\n",
       "      <td>4</td>\n",
       "    </tr>\n",
       "  </tbody>\n",
       "</table>\n",
       "<p>5 rows × 206 columns</p>\n",
       "</div>"
      ],
      "text/plain": [
       "     0    1    2    3    4    5    6    7    8    9  ...  196  197  198  199  \\\n",
       "0  0.0  1.0  0.0  0.0  0.0  0.0  0.0  0.0  0.0  0.0  ...  0.0  0.0  1.0  0.0   \n",
       "1  0.0  0.0  0.0  0.0  0.0  0.0  0.0  0.0  0.0  0.0  ...  0.0  0.0  0.0  0.0   \n",
       "2  0.0  0.0  0.0  0.0  0.0  0.0  0.0  0.0  0.0  0.0  ...  0.0  0.0  0.0  0.0   \n",
       "3  0.0  0.0  0.0  0.0  0.0  0.0  0.0  0.0  0.0  0.0  ...  0.0  0.0  1.0  0.0   \n",
       "4  0.0  0.0  0.0  0.0  0.0  0.0  0.0  0.0  0.0  1.0  ...  0.0  0.0  0.0  0.0   \n",
       "\n",
       "   200  201  202  203  204  index  \n",
       "0  0.0  0.0  0.0  0.0  0.0      0  \n",
       "1  0.0  0.0  0.0  0.0  0.0      1  \n",
       "2  0.0  0.0  0.0  0.0  0.0      2  \n",
       "3  0.0  0.0  0.0  0.0  0.0      3  \n",
       "4  0.0  0.0  0.0  0.0  0.0      4  \n",
       "\n",
       "[5 rows x 206 columns]"
      ]
     },
     "execution_count": 101,
     "metadata": {},
     "output_type": "execute_result"
    }
   ],
   "source": [
    "incidencias_cat_1hot['index'] = incidencias_cat_1hot.index\n",
    "incidencias_cat_1hot.head(5)"
   ]
  },
  {
   "cell_type": "markdown",
   "metadata": {
    "id": "9s0C9DCPjfAE"
   },
   "source": [
    "#### Juntar con variables numéricas"
   ]
  },
  {
   "cell_type": "code",
   "execution_count": 102,
   "metadata": {
    "colab": {
     "base_uri": "https://localhost:8080/",
     "height": 0
    },
    "id": "n8HAcSzojiqp",
    "outputId": "09357129-0f96-4a5e-b2f3-8f6cc0fa5188"
   },
   "outputs": [
    {
     "data": {
      "text/html": [
       "<div>\n",
       "<style scoped>\n",
       "    .dataframe tbody tr th:only-of-type {\n",
       "        vertical-align: middle;\n",
       "    }\n",
       "\n",
       "    .dataframe tbody tr th {\n",
       "        vertical-align: top;\n",
       "    }\n",
       "\n",
       "    .dataframe thead th {\n",
       "        text-align: right;\n",
       "    }\n",
       "</style>\n",
       "<table border=\"1\" class=\"dataframe\">\n",
       "  <thead>\n",
       "    <tr style=\"text-align: right;\">\n",
       "      <th></th>\n",
       "      <th>population</th>\n",
       "      <th>Inflacion</th>\n",
       "      <th>Desocupacion</th>\n",
       "      <th>Incidencias_Norm</th>\n",
       "    </tr>\n",
       "  </thead>\n",
       "  <tbody>\n",
       "    <tr>\n",
       "      <th>0</th>\n",
       "      <td>1102342.0</td>\n",
       "      <td>0.54</td>\n",
       "      <td>3.63</td>\n",
       "      <td>4.581155</td>\n",
       "    </tr>\n",
       "    <tr>\n",
       "      <th>1</th>\n",
       "      <td>812229.0</td>\n",
       "      <td>0.70</td>\n",
       "      <td>3.17</td>\n",
       "      <td>0.012312</td>\n",
       "    </tr>\n",
       "    <tr>\n",
       "      <th>2</th>\n",
       "      <td>187251.0</td>\n",
       "      <td>0.70</td>\n",
       "      <td>3.17</td>\n",
       "      <td>0.053404</td>\n",
       "    </tr>\n",
       "    <tr>\n",
       "      <th>3</th>\n",
       "      <td>824229.0</td>\n",
       "      <td>0.54</td>\n",
       "      <td>3.63</td>\n",
       "      <td>0.254784</td>\n",
       "    </tr>\n",
       "    <tr>\n",
       "      <th>4</th>\n",
       "      <td>654876.0</td>\n",
       "      <td>0.70</td>\n",
       "      <td>3.17</td>\n",
       "      <td>0.000000</td>\n",
       "    </tr>\n",
       "  </tbody>\n",
       "</table>\n",
       "</div>"
      ],
      "text/plain": [
       "   population  Inflacion  Desocupacion  Incidencias_Norm\n",
       "0   1102342.0       0.54          3.63          4.581155\n",
       "1    812229.0       0.70          3.17          0.012312\n",
       "2    187251.0       0.70          3.17          0.053404\n",
       "3    824229.0       0.54          3.63          0.254784\n",
       "4    654876.0       0.70          3.17          0.000000"
      ]
     },
     "execution_count": 102,
     "metadata": {},
     "output_type": "execute_result"
    }
   ],
   "source": [
    "train_set_num = train_set[['population', 'Inflacion', 'Desocupacion', 'Incidencias_Norm']]\n",
    "train_set_num = train_set_num.reset_index(drop=True)\n",
    "train_set_num.head(5)"
   ]
  },
  {
   "cell_type": "code",
   "execution_count": 103,
   "metadata": {
    "colab": {
     "base_uri": "https://localhost:8080/",
     "height": 0
    },
    "id": "HHjDi0uQj4Fr",
    "outputId": "e7b59af6-b52a-4255-9c2c-6a4fd203a164"
   },
   "outputs": [
    {
     "data": {
      "text/html": [
       "<div>\n",
       "<style scoped>\n",
       "    .dataframe tbody tr th:only-of-type {\n",
       "        vertical-align: middle;\n",
       "    }\n",
       "\n",
       "    .dataframe tbody tr th {\n",
       "        vertical-align: top;\n",
       "    }\n",
       "\n",
       "    .dataframe thead th {\n",
       "        text-align: right;\n",
       "    }\n",
       "</style>\n",
       "<table border=\"1\" class=\"dataframe\">\n",
       "  <thead>\n",
       "    <tr style=\"text-align: right;\">\n",
       "      <th></th>\n",
       "      <th>population</th>\n",
       "      <th>Inflacion</th>\n",
       "      <th>Desocupacion</th>\n",
       "      <th>Incidencias_Norm</th>\n",
       "      <th>index</th>\n",
       "    </tr>\n",
       "  </thead>\n",
       "  <tbody>\n",
       "    <tr>\n",
       "      <th>0</th>\n",
       "      <td>1102342.0</td>\n",
       "      <td>0.54</td>\n",
       "      <td>3.63</td>\n",
       "      <td>4.581155</td>\n",
       "      <td>0</td>\n",
       "    </tr>\n",
       "    <tr>\n",
       "      <th>1</th>\n",
       "      <td>812229.0</td>\n",
       "      <td>0.70</td>\n",
       "      <td>3.17</td>\n",
       "      <td>0.012312</td>\n",
       "      <td>1</td>\n",
       "    </tr>\n",
       "    <tr>\n",
       "      <th>2</th>\n",
       "      <td>187251.0</td>\n",
       "      <td>0.70</td>\n",
       "      <td>3.17</td>\n",
       "      <td>0.053404</td>\n",
       "      <td>2</td>\n",
       "    </tr>\n",
       "    <tr>\n",
       "      <th>3</th>\n",
       "      <td>824229.0</td>\n",
       "      <td>0.54</td>\n",
       "      <td>3.63</td>\n",
       "      <td>0.254784</td>\n",
       "      <td>3</td>\n",
       "    </tr>\n",
       "    <tr>\n",
       "      <th>4</th>\n",
       "      <td>654876.0</td>\n",
       "      <td>0.70</td>\n",
       "      <td>3.17</td>\n",
       "      <td>0.000000</td>\n",
       "      <td>4</td>\n",
       "    </tr>\n",
       "  </tbody>\n",
       "</table>\n",
       "</div>"
      ],
      "text/plain": [
       "   population  Inflacion  Desocupacion  Incidencias_Norm  index\n",
       "0   1102342.0       0.54          3.63          4.581155      0\n",
       "1    812229.0       0.70          3.17          0.012312      1\n",
       "2    187251.0       0.70          3.17          0.053404      2\n",
       "3    824229.0       0.54          3.63          0.254784      3\n",
       "4    654876.0       0.70          3.17          0.000000      4"
      ]
     },
     "execution_count": 103,
     "metadata": {},
     "output_type": "execute_result"
    }
   ],
   "source": [
    "train_set_num['index'] = train_set_num.index\n",
    "train_set_num.head(5)"
   ]
  },
  {
   "cell_type": "code",
   "execution_count": 104,
   "metadata": {
    "colab": {
     "base_uri": "https://localhost:8080/"
    },
    "id": "CKVcYbiIlpiO",
    "outputId": "538ad97e-cebd-41bd-ebc0-f16f18196cf7"
   },
   "outputs": [
    {
     "data": {
      "text/plain": [
       "((30105, 5), (30105, 206))"
      ]
     },
     "execution_count": 104,
     "metadata": {},
     "output_type": "execute_result"
    }
   ],
   "source": [
    "train_set_num.shape, incidencias_cat_1hot.shape"
   ]
  },
  {
   "cell_type": "code",
   "execution_count": 105,
   "metadata": {
    "colab": {
     "base_uri": "https://localhost:8080/",
     "height": 0
    },
    "id": "vLplP5EywqgD",
    "outputId": "ea81d7f6-a81a-4168-8795-9d62e21ff9a8"
   },
   "outputs": [
    {
     "data": {
      "text/html": [
       "<div>\n",
       "<style scoped>\n",
       "    .dataframe tbody tr th:only-of-type {\n",
       "        vertical-align: middle;\n",
       "    }\n",
       "\n",
       "    .dataframe tbody tr th {\n",
       "        vertical-align: top;\n",
       "    }\n",
       "\n",
       "    .dataframe thead th {\n",
       "        text-align: right;\n",
       "    }\n",
       "</style>\n",
       "<table border=\"1\" class=\"dataframe\">\n",
       "  <thead>\n",
       "    <tr style=\"text-align: right;\">\n",
       "      <th></th>\n",
       "      <th>0</th>\n",
       "      <th>1</th>\n",
       "      <th>2</th>\n",
       "      <th>3</th>\n",
       "      <th>4</th>\n",
       "      <th>5</th>\n",
       "      <th>6</th>\n",
       "      <th>7</th>\n",
       "      <th>8</th>\n",
       "      <th>9</th>\n",
       "      <th>...</th>\n",
       "      <th>200</th>\n",
       "      <th>201</th>\n",
       "      <th>202</th>\n",
       "      <th>203</th>\n",
       "      <th>204</th>\n",
       "      <th>index</th>\n",
       "      <th>population</th>\n",
       "      <th>Inflacion</th>\n",
       "      <th>Desocupacion</th>\n",
       "      <th>Incidencias_Norm</th>\n",
       "    </tr>\n",
       "  </thead>\n",
       "  <tbody>\n",
       "    <tr>\n",
       "      <th>0</th>\n",
       "      <td>0.0</td>\n",
       "      <td>1.0</td>\n",
       "      <td>0.0</td>\n",
       "      <td>0.0</td>\n",
       "      <td>0.0</td>\n",
       "      <td>0.0</td>\n",
       "      <td>0.0</td>\n",
       "      <td>0.0</td>\n",
       "      <td>0.0</td>\n",
       "      <td>0.0</td>\n",
       "      <td>...</td>\n",
       "      <td>0.0</td>\n",
       "      <td>0.0</td>\n",
       "      <td>0.0</td>\n",
       "      <td>0.0</td>\n",
       "      <td>0.0</td>\n",
       "      <td>0</td>\n",
       "      <td>1102342.0</td>\n",
       "      <td>0.54</td>\n",
       "      <td>3.63</td>\n",
       "      <td>4.581155</td>\n",
       "    </tr>\n",
       "    <tr>\n",
       "      <th>1</th>\n",
       "      <td>0.0</td>\n",
       "      <td>0.0</td>\n",
       "      <td>0.0</td>\n",
       "      <td>0.0</td>\n",
       "      <td>0.0</td>\n",
       "      <td>0.0</td>\n",
       "      <td>0.0</td>\n",
       "      <td>0.0</td>\n",
       "      <td>0.0</td>\n",
       "      <td>0.0</td>\n",
       "      <td>...</td>\n",
       "      <td>0.0</td>\n",
       "      <td>0.0</td>\n",
       "      <td>0.0</td>\n",
       "      <td>0.0</td>\n",
       "      <td>0.0</td>\n",
       "      <td>1</td>\n",
       "      <td>812229.0</td>\n",
       "      <td>0.70</td>\n",
       "      <td>3.17</td>\n",
       "      <td>0.012312</td>\n",
       "    </tr>\n",
       "    <tr>\n",
       "      <th>2</th>\n",
       "      <td>0.0</td>\n",
       "      <td>0.0</td>\n",
       "      <td>0.0</td>\n",
       "      <td>0.0</td>\n",
       "      <td>0.0</td>\n",
       "      <td>0.0</td>\n",
       "      <td>0.0</td>\n",
       "      <td>0.0</td>\n",
       "      <td>0.0</td>\n",
       "      <td>0.0</td>\n",
       "      <td>...</td>\n",
       "      <td>0.0</td>\n",
       "      <td>0.0</td>\n",
       "      <td>0.0</td>\n",
       "      <td>0.0</td>\n",
       "      <td>0.0</td>\n",
       "      <td>2</td>\n",
       "      <td>187251.0</td>\n",
       "      <td>0.70</td>\n",
       "      <td>3.17</td>\n",
       "      <td>0.053404</td>\n",
       "    </tr>\n",
       "    <tr>\n",
       "      <th>3</th>\n",
       "      <td>0.0</td>\n",
       "      <td>0.0</td>\n",
       "      <td>0.0</td>\n",
       "      <td>0.0</td>\n",
       "      <td>0.0</td>\n",
       "      <td>0.0</td>\n",
       "      <td>0.0</td>\n",
       "      <td>0.0</td>\n",
       "      <td>0.0</td>\n",
       "      <td>0.0</td>\n",
       "      <td>...</td>\n",
       "      <td>0.0</td>\n",
       "      <td>0.0</td>\n",
       "      <td>0.0</td>\n",
       "      <td>0.0</td>\n",
       "      <td>0.0</td>\n",
       "      <td>3</td>\n",
       "      <td>824229.0</td>\n",
       "      <td>0.54</td>\n",
       "      <td>3.63</td>\n",
       "      <td>0.254784</td>\n",
       "    </tr>\n",
       "    <tr>\n",
       "      <th>4</th>\n",
       "      <td>0.0</td>\n",
       "      <td>0.0</td>\n",
       "      <td>0.0</td>\n",
       "      <td>0.0</td>\n",
       "      <td>0.0</td>\n",
       "      <td>0.0</td>\n",
       "      <td>0.0</td>\n",
       "      <td>0.0</td>\n",
       "      <td>0.0</td>\n",
       "      <td>1.0</td>\n",
       "      <td>...</td>\n",
       "      <td>0.0</td>\n",
       "      <td>0.0</td>\n",
       "      <td>0.0</td>\n",
       "      <td>0.0</td>\n",
       "      <td>0.0</td>\n",
       "      <td>4</td>\n",
       "      <td>654876.0</td>\n",
       "      <td>0.70</td>\n",
       "      <td>3.17</td>\n",
       "      <td>0.000000</td>\n",
       "    </tr>\n",
       "    <tr>\n",
       "      <th>...</th>\n",
       "      <td>...</td>\n",
       "      <td>...</td>\n",
       "      <td>...</td>\n",
       "      <td>...</td>\n",
       "      <td>...</td>\n",
       "      <td>...</td>\n",
       "      <td>...</td>\n",
       "      <td>...</td>\n",
       "      <td>...</td>\n",
       "      <td>...</td>\n",
       "      <td>...</td>\n",
       "      <td>...</td>\n",
       "      <td>...</td>\n",
       "      <td>...</td>\n",
       "      <td>...</td>\n",
       "      <td>...</td>\n",
       "      <td>...</td>\n",
       "      <td>...</td>\n",
       "      <td>...</td>\n",
       "      <td>...</td>\n",
       "      <td>...</td>\n",
       "    </tr>\n",
       "    <tr>\n",
       "      <th>30100</th>\n",
       "      <td>0.0</td>\n",
       "      <td>0.0</td>\n",
       "      <td>0.0</td>\n",
       "      <td>0.0</td>\n",
       "      <td>0.0</td>\n",
       "      <td>0.0</td>\n",
       "      <td>0.0</td>\n",
       "      <td>0.0</td>\n",
       "      <td>0.0</td>\n",
       "      <td>0.0</td>\n",
       "      <td>...</td>\n",
       "      <td>0.0</td>\n",
       "      <td>0.0</td>\n",
       "      <td>0.0</td>\n",
       "      <td>0.0</td>\n",
       "      <td>0.0</td>\n",
       "      <td>30100</td>\n",
       "      <td>187251.0</td>\n",
       "      <td>0.39</td>\n",
       "      <td>3.32</td>\n",
       "      <td>0.427234</td>\n",
       "    </tr>\n",
       "    <tr>\n",
       "      <th>30101</th>\n",
       "      <td>0.0</td>\n",
       "      <td>0.0</td>\n",
       "      <td>0.0</td>\n",
       "      <td>0.0</td>\n",
       "      <td>0.0</td>\n",
       "      <td>0.0</td>\n",
       "      <td>0.0</td>\n",
       "      <td>0.0</td>\n",
       "      <td>0.0</td>\n",
       "      <td>0.0</td>\n",
       "      <td>...</td>\n",
       "      <td>0.0</td>\n",
       "      <td>0.0</td>\n",
       "      <td>0.0</td>\n",
       "      <td>0.0</td>\n",
       "      <td>0.0</td>\n",
       "      <td>30101</td>\n",
       "      <td>138152.0</td>\n",
       "      <td>NaN</td>\n",
       "      <td>3.69</td>\n",
       "      <td>0.000000</td>\n",
       "    </tr>\n",
       "    <tr>\n",
       "      <th>30102</th>\n",
       "      <td>0.0</td>\n",
       "      <td>0.0</td>\n",
       "      <td>0.0</td>\n",
       "      <td>0.0</td>\n",
       "      <td>0.0</td>\n",
       "      <td>0.0</td>\n",
       "      <td>0.0</td>\n",
       "      <td>0.0</td>\n",
       "      <td>0.0</td>\n",
       "      <td>0.0</td>\n",
       "      <td>...</td>\n",
       "      <td>0.0</td>\n",
       "      <td>0.0</td>\n",
       "      <td>0.0</td>\n",
       "      <td>0.0</td>\n",
       "      <td>0.0</td>\n",
       "      <td>30102</td>\n",
       "      <td>300050.0</td>\n",
       "      <td>-0.34</td>\n",
       "      <td>3.32</td>\n",
       "      <td>0.000000</td>\n",
       "    </tr>\n",
       "    <tr>\n",
       "      <th>30103</th>\n",
       "      <td>0.0</td>\n",
       "      <td>0.0</td>\n",
       "      <td>0.0</td>\n",
       "      <td>0.0</td>\n",
       "      <td>0.0</td>\n",
       "      <td>0.0</td>\n",
       "      <td>1.0</td>\n",
       "      <td>0.0</td>\n",
       "      <td>0.0</td>\n",
       "      <td>0.0</td>\n",
       "      <td>...</td>\n",
       "      <td>0.0</td>\n",
       "      <td>0.0</td>\n",
       "      <td>0.0</td>\n",
       "      <td>0.0</td>\n",
       "      <td>0.0</td>\n",
       "      <td>30103</td>\n",
       "      <td>20996000.0</td>\n",
       "      <td>0.53</td>\n",
       "      <td>3.69</td>\n",
       "      <td>0.161936</td>\n",
       "    </tr>\n",
       "    <tr>\n",
       "      <th>30104</th>\n",
       "      <td>0.0</td>\n",
       "      <td>1.0</td>\n",
       "      <td>0.0</td>\n",
       "      <td>0.0</td>\n",
       "      <td>0.0</td>\n",
       "      <td>0.0</td>\n",
       "      <td>0.0</td>\n",
       "      <td>0.0</td>\n",
       "      <td>0.0</td>\n",
       "      <td>0.0</td>\n",
       "      <td>...</td>\n",
       "      <td>0.0</td>\n",
       "      <td>0.0</td>\n",
       "      <td>0.0</td>\n",
       "      <td>0.0</td>\n",
       "      <td>0.0</td>\n",
       "      <td>30104</td>\n",
       "      <td>1102342.0</td>\n",
       "      <td>0.39</td>\n",
       "      <td>3.32</td>\n",
       "      <td>1.215594</td>\n",
       "    </tr>\n",
       "  </tbody>\n",
       "</table>\n",
       "<p>30105 rows × 210 columns</p>\n",
       "</div>"
      ],
      "text/plain": [
       "         0    1    2    3    4    5    6    7    8    9  ...  200  201  202  \\\n",
       "0      0.0  1.0  0.0  0.0  0.0  0.0  0.0  0.0  0.0  0.0  ...  0.0  0.0  0.0   \n",
       "1      0.0  0.0  0.0  0.0  0.0  0.0  0.0  0.0  0.0  0.0  ...  0.0  0.0  0.0   \n",
       "2      0.0  0.0  0.0  0.0  0.0  0.0  0.0  0.0  0.0  0.0  ...  0.0  0.0  0.0   \n",
       "3      0.0  0.0  0.0  0.0  0.0  0.0  0.0  0.0  0.0  0.0  ...  0.0  0.0  0.0   \n",
       "4      0.0  0.0  0.0  0.0  0.0  0.0  0.0  0.0  0.0  1.0  ...  0.0  0.0  0.0   \n",
       "...    ...  ...  ...  ...  ...  ...  ...  ...  ...  ...  ...  ...  ...  ...   \n",
       "30100  0.0  0.0  0.0  0.0  0.0  0.0  0.0  0.0  0.0  0.0  ...  0.0  0.0  0.0   \n",
       "30101  0.0  0.0  0.0  0.0  0.0  0.0  0.0  0.0  0.0  0.0  ...  0.0  0.0  0.0   \n",
       "30102  0.0  0.0  0.0  0.0  0.0  0.0  0.0  0.0  0.0  0.0  ...  0.0  0.0  0.0   \n",
       "30103  0.0  0.0  0.0  0.0  0.0  0.0  1.0  0.0  0.0  0.0  ...  0.0  0.0  0.0   \n",
       "30104  0.0  1.0  0.0  0.0  0.0  0.0  0.0  0.0  0.0  0.0  ...  0.0  0.0  0.0   \n",
       "\n",
       "       203  204  index  population  Inflacion  Desocupacion  Incidencias_Norm  \n",
       "0      0.0  0.0      0   1102342.0       0.54          3.63          4.581155  \n",
       "1      0.0  0.0      1    812229.0       0.70          3.17          0.012312  \n",
       "2      0.0  0.0      2    187251.0       0.70          3.17          0.053404  \n",
       "3      0.0  0.0      3    824229.0       0.54          3.63          0.254784  \n",
       "4      0.0  0.0      4    654876.0       0.70          3.17          0.000000  \n",
       "...    ...  ...    ...         ...        ...           ...               ...  \n",
       "30100  0.0  0.0  30100    187251.0       0.39          3.32          0.427234  \n",
       "30101  0.0  0.0  30101    138152.0        NaN          3.69          0.000000  \n",
       "30102  0.0  0.0  30102    300050.0      -0.34          3.32          0.000000  \n",
       "30103  0.0  0.0  30103  20996000.0       0.53          3.69          0.161936  \n",
       "30104  0.0  0.0  30104   1102342.0       0.39          3.32          1.215594  \n",
       "\n",
       "[30105 rows x 210 columns]"
      ]
     },
     "execution_count": 105,
     "metadata": {},
     "output_type": "execute_result"
    }
   ],
   "source": [
    "train_set = incidencias_cat_1hot.merge(train_set_num, left_on='index', right_on='index')\n",
    "train_set"
   ]
  },
  {
   "cell_type": "code",
   "execution_count": 106,
   "metadata": {
    "colab": {
     "base_uri": "https://localhost:8080/",
     "height": 0
    },
    "id": "X4ciUi_A3wpR",
    "outputId": "a8aa3dab-173b-498d-f10f-9ee755e5ac1b"
   },
   "outputs": [
    {
     "data": {
      "text/html": [
       "<div>\n",
       "<style scoped>\n",
       "    .dataframe tbody tr th:only-of-type {\n",
       "        vertical-align: middle;\n",
       "    }\n",
       "\n",
       "    .dataframe tbody tr th {\n",
       "        vertical-align: top;\n",
       "    }\n",
       "\n",
       "    .dataframe thead th {\n",
       "        text-align: right;\n",
       "    }\n",
       "</style>\n",
       "<table border=\"1\" class=\"dataframe\">\n",
       "  <thead>\n",
       "    <tr style=\"text-align: right;\">\n",
       "      <th></th>\n",
       "      <th>0</th>\n",
       "      <th>1</th>\n",
       "      <th>2</th>\n",
       "      <th>3</th>\n",
       "      <th>4</th>\n",
       "      <th>5</th>\n",
       "      <th>6</th>\n",
       "      <th>7</th>\n",
       "      <th>8</th>\n",
       "      <th>9</th>\n",
       "      <th>...</th>\n",
       "      <th>199</th>\n",
       "      <th>200</th>\n",
       "      <th>201</th>\n",
       "      <th>202</th>\n",
       "      <th>203</th>\n",
       "      <th>204</th>\n",
       "      <th>population</th>\n",
       "      <th>Inflacion</th>\n",
       "      <th>Desocupacion</th>\n",
       "      <th>Incidencias_Norm</th>\n",
       "    </tr>\n",
       "  </thead>\n",
       "  <tbody>\n",
       "    <tr>\n",
       "      <th>0</th>\n",
       "      <td>0.0</td>\n",
       "      <td>1.0</td>\n",
       "      <td>0.0</td>\n",
       "      <td>0.0</td>\n",
       "      <td>0.0</td>\n",
       "      <td>0.0</td>\n",
       "      <td>0.0</td>\n",
       "      <td>0.0</td>\n",
       "      <td>0.0</td>\n",
       "      <td>0.0</td>\n",
       "      <td>...</td>\n",
       "      <td>0.0</td>\n",
       "      <td>0.0</td>\n",
       "      <td>0.0</td>\n",
       "      <td>0.0</td>\n",
       "      <td>0.0</td>\n",
       "      <td>0.0</td>\n",
       "      <td>1102342.0</td>\n",
       "      <td>0.54</td>\n",
       "      <td>3.63</td>\n",
       "      <td>4.581155</td>\n",
       "    </tr>\n",
       "    <tr>\n",
       "      <th>1</th>\n",
       "      <td>0.0</td>\n",
       "      <td>0.0</td>\n",
       "      <td>0.0</td>\n",
       "      <td>0.0</td>\n",
       "      <td>0.0</td>\n",
       "      <td>0.0</td>\n",
       "      <td>0.0</td>\n",
       "      <td>0.0</td>\n",
       "      <td>0.0</td>\n",
       "      <td>0.0</td>\n",
       "      <td>...</td>\n",
       "      <td>0.0</td>\n",
       "      <td>0.0</td>\n",
       "      <td>0.0</td>\n",
       "      <td>0.0</td>\n",
       "      <td>0.0</td>\n",
       "      <td>0.0</td>\n",
       "      <td>812229.0</td>\n",
       "      <td>0.70</td>\n",
       "      <td>3.17</td>\n",
       "      <td>0.012312</td>\n",
       "    </tr>\n",
       "    <tr>\n",
       "      <th>2</th>\n",
       "      <td>0.0</td>\n",
       "      <td>0.0</td>\n",
       "      <td>0.0</td>\n",
       "      <td>0.0</td>\n",
       "      <td>0.0</td>\n",
       "      <td>0.0</td>\n",
       "      <td>0.0</td>\n",
       "      <td>0.0</td>\n",
       "      <td>0.0</td>\n",
       "      <td>0.0</td>\n",
       "      <td>...</td>\n",
       "      <td>0.0</td>\n",
       "      <td>0.0</td>\n",
       "      <td>0.0</td>\n",
       "      <td>0.0</td>\n",
       "      <td>0.0</td>\n",
       "      <td>0.0</td>\n",
       "      <td>187251.0</td>\n",
       "      <td>0.70</td>\n",
       "      <td>3.17</td>\n",
       "      <td>0.053404</td>\n",
       "    </tr>\n",
       "    <tr>\n",
       "      <th>3</th>\n",
       "      <td>0.0</td>\n",
       "      <td>0.0</td>\n",
       "      <td>0.0</td>\n",
       "      <td>0.0</td>\n",
       "      <td>0.0</td>\n",
       "      <td>0.0</td>\n",
       "      <td>0.0</td>\n",
       "      <td>0.0</td>\n",
       "      <td>0.0</td>\n",
       "      <td>0.0</td>\n",
       "      <td>...</td>\n",
       "      <td>0.0</td>\n",
       "      <td>0.0</td>\n",
       "      <td>0.0</td>\n",
       "      <td>0.0</td>\n",
       "      <td>0.0</td>\n",
       "      <td>0.0</td>\n",
       "      <td>824229.0</td>\n",
       "      <td>0.54</td>\n",
       "      <td>3.63</td>\n",
       "      <td>0.254784</td>\n",
       "    </tr>\n",
       "    <tr>\n",
       "      <th>4</th>\n",
       "      <td>0.0</td>\n",
       "      <td>0.0</td>\n",
       "      <td>0.0</td>\n",
       "      <td>0.0</td>\n",
       "      <td>0.0</td>\n",
       "      <td>0.0</td>\n",
       "      <td>0.0</td>\n",
       "      <td>0.0</td>\n",
       "      <td>0.0</td>\n",
       "      <td>1.0</td>\n",
       "      <td>...</td>\n",
       "      <td>0.0</td>\n",
       "      <td>0.0</td>\n",
       "      <td>0.0</td>\n",
       "      <td>0.0</td>\n",
       "      <td>0.0</td>\n",
       "      <td>0.0</td>\n",
       "      <td>654876.0</td>\n",
       "      <td>0.70</td>\n",
       "      <td>3.17</td>\n",
       "      <td>0.000000</td>\n",
       "    </tr>\n",
       "    <tr>\n",
       "      <th>...</th>\n",
       "      <td>...</td>\n",
       "      <td>...</td>\n",
       "      <td>...</td>\n",
       "      <td>...</td>\n",
       "      <td>...</td>\n",
       "      <td>...</td>\n",
       "      <td>...</td>\n",
       "      <td>...</td>\n",
       "      <td>...</td>\n",
       "      <td>...</td>\n",
       "      <td>...</td>\n",
       "      <td>...</td>\n",
       "      <td>...</td>\n",
       "      <td>...</td>\n",
       "      <td>...</td>\n",
       "      <td>...</td>\n",
       "      <td>...</td>\n",
       "      <td>...</td>\n",
       "      <td>...</td>\n",
       "      <td>...</td>\n",
       "      <td>...</td>\n",
       "    </tr>\n",
       "    <tr>\n",
       "      <th>30100</th>\n",
       "      <td>0.0</td>\n",
       "      <td>0.0</td>\n",
       "      <td>0.0</td>\n",
       "      <td>0.0</td>\n",
       "      <td>0.0</td>\n",
       "      <td>0.0</td>\n",
       "      <td>0.0</td>\n",
       "      <td>0.0</td>\n",
       "      <td>0.0</td>\n",
       "      <td>0.0</td>\n",
       "      <td>...</td>\n",
       "      <td>1.0</td>\n",
       "      <td>0.0</td>\n",
       "      <td>0.0</td>\n",
       "      <td>0.0</td>\n",
       "      <td>0.0</td>\n",
       "      <td>0.0</td>\n",
       "      <td>187251.0</td>\n",
       "      <td>0.39</td>\n",
       "      <td>3.32</td>\n",
       "      <td>0.427234</td>\n",
       "    </tr>\n",
       "    <tr>\n",
       "      <th>30101</th>\n",
       "      <td>0.0</td>\n",
       "      <td>0.0</td>\n",
       "      <td>0.0</td>\n",
       "      <td>0.0</td>\n",
       "      <td>0.0</td>\n",
       "      <td>0.0</td>\n",
       "      <td>0.0</td>\n",
       "      <td>0.0</td>\n",
       "      <td>0.0</td>\n",
       "      <td>0.0</td>\n",
       "      <td>...</td>\n",
       "      <td>0.0</td>\n",
       "      <td>0.0</td>\n",
       "      <td>0.0</td>\n",
       "      <td>0.0</td>\n",
       "      <td>0.0</td>\n",
       "      <td>0.0</td>\n",
       "      <td>138152.0</td>\n",
       "      <td>NaN</td>\n",
       "      <td>3.69</td>\n",
       "      <td>0.000000</td>\n",
       "    </tr>\n",
       "    <tr>\n",
       "      <th>30102</th>\n",
       "      <td>0.0</td>\n",
       "      <td>0.0</td>\n",
       "      <td>0.0</td>\n",
       "      <td>0.0</td>\n",
       "      <td>0.0</td>\n",
       "      <td>0.0</td>\n",
       "      <td>0.0</td>\n",
       "      <td>0.0</td>\n",
       "      <td>0.0</td>\n",
       "      <td>0.0</td>\n",
       "      <td>...</td>\n",
       "      <td>0.0</td>\n",
       "      <td>0.0</td>\n",
       "      <td>0.0</td>\n",
       "      <td>0.0</td>\n",
       "      <td>0.0</td>\n",
       "      <td>0.0</td>\n",
       "      <td>300050.0</td>\n",
       "      <td>-0.34</td>\n",
       "      <td>3.32</td>\n",
       "      <td>0.000000</td>\n",
       "    </tr>\n",
       "    <tr>\n",
       "      <th>30103</th>\n",
       "      <td>0.0</td>\n",
       "      <td>0.0</td>\n",
       "      <td>0.0</td>\n",
       "      <td>0.0</td>\n",
       "      <td>0.0</td>\n",
       "      <td>0.0</td>\n",
       "      <td>1.0</td>\n",
       "      <td>0.0</td>\n",
       "      <td>0.0</td>\n",
       "      <td>0.0</td>\n",
       "      <td>...</td>\n",
       "      <td>0.0</td>\n",
       "      <td>0.0</td>\n",
       "      <td>0.0</td>\n",
       "      <td>0.0</td>\n",
       "      <td>0.0</td>\n",
       "      <td>0.0</td>\n",
       "      <td>20996000.0</td>\n",
       "      <td>0.53</td>\n",
       "      <td>3.69</td>\n",
       "      <td>0.161936</td>\n",
       "    </tr>\n",
       "    <tr>\n",
       "      <th>30104</th>\n",
       "      <td>0.0</td>\n",
       "      <td>1.0</td>\n",
       "      <td>0.0</td>\n",
       "      <td>0.0</td>\n",
       "      <td>0.0</td>\n",
       "      <td>0.0</td>\n",
       "      <td>0.0</td>\n",
       "      <td>0.0</td>\n",
       "      <td>0.0</td>\n",
       "      <td>0.0</td>\n",
       "      <td>...</td>\n",
       "      <td>1.0</td>\n",
       "      <td>0.0</td>\n",
       "      <td>0.0</td>\n",
       "      <td>0.0</td>\n",
       "      <td>0.0</td>\n",
       "      <td>0.0</td>\n",
       "      <td>1102342.0</td>\n",
       "      <td>0.39</td>\n",
       "      <td>3.32</td>\n",
       "      <td>1.215594</td>\n",
       "    </tr>\n",
       "  </tbody>\n",
       "</table>\n",
       "<p>30105 rows × 209 columns</p>\n",
       "</div>"
      ],
      "text/plain": [
       "         0    1    2    3    4    5    6    7    8    9  ...  199  200  201  \\\n",
       "0      0.0  1.0  0.0  0.0  0.0  0.0  0.0  0.0  0.0  0.0  ...  0.0  0.0  0.0   \n",
       "1      0.0  0.0  0.0  0.0  0.0  0.0  0.0  0.0  0.0  0.0  ...  0.0  0.0  0.0   \n",
       "2      0.0  0.0  0.0  0.0  0.0  0.0  0.0  0.0  0.0  0.0  ...  0.0  0.0  0.0   \n",
       "3      0.0  0.0  0.0  0.0  0.0  0.0  0.0  0.0  0.0  0.0  ...  0.0  0.0  0.0   \n",
       "4      0.0  0.0  0.0  0.0  0.0  0.0  0.0  0.0  0.0  1.0  ...  0.0  0.0  0.0   \n",
       "...    ...  ...  ...  ...  ...  ...  ...  ...  ...  ...  ...  ...  ...  ...   \n",
       "30100  0.0  0.0  0.0  0.0  0.0  0.0  0.0  0.0  0.0  0.0  ...  1.0  0.0  0.0   \n",
       "30101  0.0  0.0  0.0  0.0  0.0  0.0  0.0  0.0  0.0  0.0  ...  0.0  0.0  0.0   \n",
       "30102  0.0  0.0  0.0  0.0  0.0  0.0  0.0  0.0  0.0  0.0  ...  0.0  0.0  0.0   \n",
       "30103  0.0  0.0  0.0  0.0  0.0  0.0  1.0  0.0  0.0  0.0  ...  0.0  0.0  0.0   \n",
       "30104  0.0  1.0  0.0  0.0  0.0  0.0  0.0  0.0  0.0  0.0  ...  1.0  0.0  0.0   \n",
       "\n",
       "       202  203  204  population  Inflacion  Desocupacion  Incidencias_Norm  \n",
       "0      0.0  0.0  0.0   1102342.0       0.54          3.63          4.581155  \n",
       "1      0.0  0.0  0.0    812229.0       0.70          3.17          0.012312  \n",
       "2      0.0  0.0  0.0    187251.0       0.70          3.17          0.053404  \n",
       "3      0.0  0.0  0.0    824229.0       0.54          3.63          0.254784  \n",
       "4      0.0  0.0  0.0    654876.0       0.70          3.17          0.000000  \n",
       "...    ...  ...  ...         ...        ...           ...               ...  \n",
       "30100  0.0  0.0  0.0    187251.0       0.39          3.32          0.427234  \n",
       "30101  0.0  0.0  0.0    138152.0        NaN          3.69          0.000000  \n",
       "30102  0.0  0.0  0.0    300050.0      -0.34          3.32          0.000000  \n",
       "30103  0.0  0.0  0.0  20996000.0       0.53          3.69          0.161936  \n",
       "30104  0.0  0.0  0.0   1102342.0       0.39          3.32          1.215594  \n",
       "\n",
       "[30105 rows x 209 columns]"
      ]
     },
     "execution_count": 106,
     "metadata": {},
     "output_type": "execute_result"
    }
   ],
   "source": [
    "train_set.drop(columns=['index'])"
   ]
  },
  {
   "cell_type": "markdown",
   "metadata": {
    "id": "Nz7-hTvOAG4c"
   },
   "source": [
    "#### Imputación"
   ]
  },
  {
   "cell_type": "code",
   "execution_count": 107,
   "metadata": {
    "id": "J5AIoeYFAGjc"
   },
   "outputs": [],
   "source": [
    "imputer = SimpleImputer(strategy=\"median\")"
   ]
  },
  {
   "cell_type": "code",
   "execution_count": 108,
   "metadata": {
    "colab": {
     "base_uri": "https://localhost:8080/"
    },
    "id": "9j7V0ZuQAkho",
    "outputId": "29fe3c93-1403-4396-bf25-7db73e1a73b3"
   },
   "outputs": [
    {
     "name": "stderr",
     "output_type": "stream",
     "text": [
      "C:\\Users\\carme\\anaconda3\\lib\\site-packages\\sklearn\\utils\\validation.py:1688: FutureWarning: Feature names only support names that are all strings. Got feature names with dtypes: ['int', 'str']. An error will be raised in 1.2.\n",
      "  warnings.warn(\n",
      "C:\\Users\\carme\\anaconda3\\lib\\site-packages\\sklearn\\utils\\validation.py:624: UserWarning: pandas.DataFrame with sparse columns found.It will be converted to a dense numpy array.\n",
      "  warnings.warn(\n"
     ]
    },
    {
     "data": {
      "text/plain": [
       "SimpleImputer(strategy='median')"
      ]
     },
     "execution_count": 108,
     "metadata": {},
     "output_type": "execute_result"
    }
   ],
   "source": [
    "imputer.fit(train_set)"
   ]
  },
  {
   "cell_type": "code",
   "execution_count": 109,
   "metadata": {
    "colab": {
     "base_uri": "https://localhost:8080/"
    },
    "id": "GUyVE4KaBCzj",
    "outputId": "fe16b627-7c8c-44a0-9ead-0adde8dca7fa"
   },
   "outputs": [
    {
     "data": {
      "text/plain": [
       "array([0.00000000e+00, 0.00000000e+00, 0.00000000e+00, 0.00000000e+00,\n",
       "       0.00000000e+00, 0.00000000e+00, 0.00000000e+00, 0.00000000e+00,\n",
       "       0.00000000e+00, 0.00000000e+00, 0.00000000e+00, 0.00000000e+00,\n",
       "       0.00000000e+00, 0.00000000e+00, 0.00000000e+00, 0.00000000e+00,\n",
       "       0.00000000e+00, 0.00000000e+00, 0.00000000e+00, 0.00000000e+00,\n",
       "       0.00000000e+00, 0.00000000e+00, 0.00000000e+00, 0.00000000e+00,\n",
       "       0.00000000e+00, 0.00000000e+00, 0.00000000e+00, 0.00000000e+00,\n",
       "       0.00000000e+00, 0.00000000e+00, 0.00000000e+00, 0.00000000e+00,\n",
       "       0.00000000e+00, 0.00000000e+00, 0.00000000e+00, 0.00000000e+00,\n",
       "       0.00000000e+00, 0.00000000e+00, 0.00000000e+00, 0.00000000e+00,\n",
       "       0.00000000e+00, 0.00000000e+00, 0.00000000e+00, 0.00000000e+00,\n",
       "       0.00000000e+00, 0.00000000e+00, 0.00000000e+00, 0.00000000e+00,\n",
       "       0.00000000e+00, 0.00000000e+00, 0.00000000e+00, 0.00000000e+00,\n",
       "       0.00000000e+00, 0.00000000e+00, 0.00000000e+00, 0.00000000e+00,\n",
       "       0.00000000e+00, 0.00000000e+00, 0.00000000e+00, 0.00000000e+00,\n",
       "       0.00000000e+00, 0.00000000e+00, 0.00000000e+00, 0.00000000e+00,\n",
       "       0.00000000e+00, 0.00000000e+00, 0.00000000e+00, 0.00000000e+00,\n",
       "       0.00000000e+00, 0.00000000e+00, 0.00000000e+00, 0.00000000e+00,\n",
       "       0.00000000e+00, 0.00000000e+00, 0.00000000e+00, 0.00000000e+00,\n",
       "       0.00000000e+00, 0.00000000e+00, 0.00000000e+00, 0.00000000e+00,\n",
       "       0.00000000e+00, 0.00000000e+00, 0.00000000e+00, 0.00000000e+00,\n",
       "       0.00000000e+00, 0.00000000e+00, 0.00000000e+00, 0.00000000e+00,\n",
       "       0.00000000e+00, 0.00000000e+00, 0.00000000e+00, 0.00000000e+00,\n",
       "       0.00000000e+00, 0.00000000e+00, 0.00000000e+00, 0.00000000e+00,\n",
       "       0.00000000e+00, 0.00000000e+00, 0.00000000e+00, 0.00000000e+00,\n",
       "       0.00000000e+00, 0.00000000e+00, 0.00000000e+00, 0.00000000e+00,\n",
       "       0.00000000e+00, 0.00000000e+00, 0.00000000e+00, 0.00000000e+00,\n",
       "       0.00000000e+00, 0.00000000e+00, 0.00000000e+00, 0.00000000e+00,\n",
       "       0.00000000e+00, 0.00000000e+00, 0.00000000e+00, 0.00000000e+00,\n",
       "       0.00000000e+00, 0.00000000e+00, 0.00000000e+00, 0.00000000e+00,\n",
       "       0.00000000e+00, 0.00000000e+00, 0.00000000e+00, 0.00000000e+00,\n",
       "       0.00000000e+00, 0.00000000e+00, 0.00000000e+00, 0.00000000e+00,\n",
       "       0.00000000e+00, 0.00000000e+00, 0.00000000e+00, 0.00000000e+00,\n",
       "       0.00000000e+00, 0.00000000e+00, 0.00000000e+00, 0.00000000e+00,\n",
       "       0.00000000e+00, 0.00000000e+00, 0.00000000e+00, 0.00000000e+00,\n",
       "       0.00000000e+00, 0.00000000e+00, 0.00000000e+00, 0.00000000e+00,\n",
       "       0.00000000e+00, 0.00000000e+00, 0.00000000e+00, 0.00000000e+00,\n",
       "       0.00000000e+00, 0.00000000e+00, 0.00000000e+00, 0.00000000e+00,\n",
       "       0.00000000e+00, 0.00000000e+00, 0.00000000e+00, 0.00000000e+00,\n",
       "       0.00000000e+00, 0.00000000e+00, 0.00000000e+00, 0.00000000e+00,\n",
       "       0.00000000e+00, 0.00000000e+00, 0.00000000e+00, 0.00000000e+00,\n",
       "       0.00000000e+00, 0.00000000e+00, 0.00000000e+00, 0.00000000e+00,\n",
       "       0.00000000e+00, 0.00000000e+00, 0.00000000e+00, 0.00000000e+00,\n",
       "       0.00000000e+00, 0.00000000e+00, 0.00000000e+00, 0.00000000e+00,\n",
       "       0.00000000e+00, 0.00000000e+00, 0.00000000e+00, 0.00000000e+00,\n",
       "       0.00000000e+00, 0.00000000e+00, 0.00000000e+00, 0.00000000e+00,\n",
       "       0.00000000e+00, 0.00000000e+00, 0.00000000e+00, 0.00000000e+00,\n",
       "       0.00000000e+00, 0.00000000e+00, 0.00000000e+00, 0.00000000e+00,\n",
       "       0.00000000e+00, 0.00000000e+00, 0.00000000e+00, 0.00000000e+00,\n",
       "       0.00000000e+00, 0.00000000e+00, 0.00000000e+00, 0.00000000e+00,\n",
       "       0.00000000e+00, 0.00000000e+00, 0.00000000e+00, 0.00000000e+00,\n",
       "       0.00000000e+00, 1.50520000e+04, 6.54876000e+05, 5.20000000e-01,\n",
       "       3.32000000e+00, 2.85551114e-02])"
      ]
     },
     "execution_count": 109,
     "metadata": {},
     "output_type": "execute_result"
    }
   ],
   "source": [
    "imputer.statistics_"
   ]
  },
  {
   "cell_type": "code",
   "execution_count": 110,
   "metadata": {
    "colab": {
     "base_uri": "https://localhost:8080/"
    },
    "id": "vP4iRg9QBMYW",
    "outputId": "49ca1cc8-eaff-486b-a596-1a8f4ab56d91"
   },
   "outputs": [
    {
     "name": "stderr",
     "output_type": "stream",
     "text": [
      "C:\\Users\\carme\\AppData\\Local\\Temp\\ipykernel_37252\\2761367158.py:1: FutureWarning: Dropping of nuisance columns in DataFrame reductions (with 'numeric_only=None') is deprecated; in a future version this will raise TypeError.  Select only valid columns before calling the reduction.\n",
      "  train_set.median().values\n"
     ]
    },
    {
     "data": {
      "text/plain": [
       "array([1.50520000e+04, 6.54876000e+05, 5.20000000e-01, 3.32000000e+00,\n",
       "       2.85551114e-02])"
      ]
     },
     "execution_count": 110,
     "metadata": {},
     "output_type": "execute_result"
    }
   ],
   "source": [
    "train_set.median().values"
   ]
  },
  {
   "cell_type": "code",
   "execution_count": 111,
   "metadata": {
    "colab": {
     "base_uri": "https://localhost:8080/"
    },
    "id": "OjxGspguBWep",
    "outputId": "d39e04b0-9425-49d2-833d-7e1ca37dedf9"
   },
   "outputs": [
    {
     "name": "stderr",
     "output_type": "stream",
     "text": [
      "C:\\Users\\carme\\anaconda3\\lib\\site-packages\\sklearn\\utils\\validation.py:1688: FutureWarning: Feature names only support names that are all strings. Got feature names with dtypes: ['int', 'str']. An error will be raised in 1.2.\n",
      "  warnings.warn(\n",
      "C:\\Users\\carme\\anaconda3\\lib\\site-packages\\sklearn\\utils\\validation.py:624: UserWarning: pandas.DataFrame with sparse columns found.It will be converted to a dense numpy array.\n",
      "  warnings.warn(\n"
     ]
    }
   ],
   "source": [
    "X = imputer.transform(train_set)\n",
    "train_set_tr = pd.DataFrame(X, columns=train_set.columns)"
   ]
  },
  {
   "cell_type": "markdown",
   "metadata": {
    "id": "2wHoKX9HamCY"
   },
   "source": [
    "#### Separar variables independientes"
   ]
  },
  {
   "cell_type": "code",
   "execution_count": 112,
   "metadata": {
    "id": "kfs3VJI-akUK"
   },
   "outputs": [],
   "source": [
    "train_ind = train_set_tr['Incidencias_Norm']\n",
    "train_ind = train_ind.to_frame().to_numpy()"
   ]
  },
  {
   "cell_type": "code",
   "execution_count": 113,
   "metadata": {
    "colab": {
     "base_uri": "https://localhost:8080/"
    },
    "id": "I-zpnmWeEyGe",
    "outputId": "6c05374d-32ca-46c9-c195-5b98be3b5e74"
   },
   "outputs": [
    {
     "data": {
      "text/plain": [
       "(30105, 1)"
      ]
     },
     "execution_count": 113,
     "metadata": {},
     "output_type": "execute_result"
    }
   ],
   "source": [
    "train_ind.shape"
   ]
  },
  {
   "cell_type": "code",
   "execution_count": 114,
   "metadata": {
    "colab": {
     "base_uri": "https://localhost:8080/",
     "height": 0
    },
    "id": "04vni5cXCdHM",
    "outputId": "ea151545-28c3-4fb4-f9c5-775520f2baa5"
   },
   "outputs": [
    {
     "data": {
      "text/html": [
       "<div>\n",
       "<style scoped>\n",
       "    .dataframe tbody tr th:only-of-type {\n",
       "        vertical-align: middle;\n",
       "    }\n",
       "\n",
       "    .dataframe tbody tr th {\n",
       "        vertical-align: top;\n",
       "    }\n",
       "\n",
       "    .dataframe thead th {\n",
       "        text-align: right;\n",
       "    }\n",
       "</style>\n",
       "<table border=\"1\" class=\"dataframe\">\n",
       "  <thead>\n",
       "    <tr style=\"text-align: right;\">\n",
       "      <th></th>\n",
       "      <th>0</th>\n",
       "      <th>1</th>\n",
       "      <th>2</th>\n",
       "      <th>3</th>\n",
       "      <th>4</th>\n",
       "      <th>5</th>\n",
       "      <th>6</th>\n",
       "      <th>7</th>\n",
       "      <th>8</th>\n",
       "      <th>9</th>\n",
       "      <th>...</th>\n",
       "      <th>199</th>\n",
       "      <th>200</th>\n",
       "      <th>201</th>\n",
       "      <th>202</th>\n",
       "      <th>203</th>\n",
       "      <th>204</th>\n",
       "      <th>index</th>\n",
       "      <th>population</th>\n",
       "      <th>Inflacion</th>\n",
       "      <th>Desocupacion</th>\n",
       "    </tr>\n",
       "  </thead>\n",
       "  <tbody>\n",
       "    <tr>\n",
       "      <th>0</th>\n",
       "      <td>0.0</td>\n",
       "      <td>1.0</td>\n",
       "      <td>0.0</td>\n",
       "      <td>0.0</td>\n",
       "      <td>0.0</td>\n",
       "      <td>0.0</td>\n",
       "      <td>0.0</td>\n",
       "      <td>0.0</td>\n",
       "      <td>0.0</td>\n",
       "      <td>0.0</td>\n",
       "      <td>...</td>\n",
       "      <td>0.0</td>\n",
       "      <td>0.0</td>\n",
       "      <td>0.0</td>\n",
       "      <td>0.0</td>\n",
       "      <td>0.0</td>\n",
       "      <td>0.0</td>\n",
       "      <td>0.0</td>\n",
       "      <td>1102342.0</td>\n",
       "      <td>0.54</td>\n",
       "      <td>3.63</td>\n",
       "    </tr>\n",
       "    <tr>\n",
       "      <th>1</th>\n",
       "      <td>0.0</td>\n",
       "      <td>0.0</td>\n",
       "      <td>0.0</td>\n",
       "      <td>0.0</td>\n",
       "      <td>0.0</td>\n",
       "      <td>0.0</td>\n",
       "      <td>0.0</td>\n",
       "      <td>0.0</td>\n",
       "      <td>0.0</td>\n",
       "      <td>0.0</td>\n",
       "      <td>...</td>\n",
       "      <td>0.0</td>\n",
       "      <td>0.0</td>\n",
       "      <td>0.0</td>\n",
       "      <td>0.0</td>\n",
       "      <td>0.0</td>\n",
       "      <td>0.0</td>\n",
       "      <td>1.0</td>\n",
       "      <td>812229.0</td>\n",
       "      <td>0.70</td>\n",
       "      <td>3.17</td>\n",
       "    </tr>\n",
       "    <tr>\n",
       "      <th>2</th>\n",
       "      <td>0.0</td>\n",
       "      <td>0.0</td>\n",
       "      <td>0.0</td>\n",
       "      <td>0.0</td>\n",
       "      <td>0.0</td>\n",
       "      <td>0.0</td>\n",
       "      <td>0.0</td>\n",
       "      <td>0.0</td>\n",
       "      <td>0.0</td>\n",
       "      <td>0.0</td>\n",
       "      <td>...</td>\n",
       "      <td>0.0</td>\n",
       "      <td>0.0</td>\n",
       "      <td>0.0</td>\n",
       "      <td>0.0</td>\n",
       "      <td>0.0</td>\n",
       "      <td>0.0</td>\n",
       "      <td>2.0</td>\n",
       "      <td>187251.0</td>\n",
       "      <td>0.70</td>\n",
       "      <td>3.17</td>\n",
       "    </tr>\n",
       "    <tr>\n",
       "      <th>3</th>\n",
       "      <td>0.0</td>\n",
       "      <td>0.0</td>\n",
       "      <td>0.0</td>\n",
       "      <td>0.0</td>\n",
       "      <td>0.0</td>\n",
       "      <td>0.0</td>\n",
       "      <td>0.0</td>\n",
       "      <td>0.0</td>\n",
       "      <td>0.0</td>\n",
       "      <td>0.0</td>\n",
       "      <td>...</td>\n",
       "      <td>0.0</td>\n",
       "      <td>0.0</td>\n",
       "      <td>0.0</td>\n",
       "      <td>0.0</td>\n",
       "      <td>0.0</td>\n",
       "      <td>0.0</td>\n",
       "      <td>3.0</td>\n",
       "      <td>824229.0</td>\n",
       "      <td>0.54</td>\n",
       "      <td>3.63</td>\n",
       "    </tr>\n",
       "    <tr>\n",
       "      <th>4</th>\n",
       "      <td>0.0</td>\n",
       "      <td>0.0</td>\n",
       "      <td>0.0</td>\n",
       "      <td>0.0</td>\n",
       "      <td>0.0</td>\n",
       "      <td>0.0</td>\n",
       "      <td>0.0</td>\n",
       "      <td>0.0</td>\n",
       "      <td>0.0</td>\n",
       "      <td>1.0</td>\n",
       "      <td>...</td>\n",
       "      <td>0.0</td>\n",
       "      <td>0.0</td>\n",
       "      <td>0.0</td>\n",
       "      <td>0.0</td>\n",
       "      <td>0.0</td>\n",
       "      <td>0.0</td>\n",
       "      <td>4.0</td>\n",
       "      <td>654876.0</td>\n",
       "      <td>0.70</td>\n",
       "      <td>3.17</td>\n",
       "    </tr>\n",
       "    <tr>\n",
       "      <th>...</th>\n",
       "      <td>...</td>\n",
       "      <td>...</td>\n",
       "      <td>...</td>\n",
       "      <td>...</td>\n",
       "      <td>...</td>\n",
       "      <td>...</td>\n",
       "      <td>...</td>\n",
       "      <td>...</td>\n",
       "      <td>...</td>\n",
       "      <td>...</td>\n",
       "      <td>...</td>\n",
       "      <td>...</td>\n",
       "      <td>...</td>\n",
       "      <td>...</td>\n",
       "      <td>...</td>\n",
       "      <td>...</td>\n",
       "      <td>...</td>\n",
       "      <td>...</td>\n",
       "      <td>...</td>\n",
       "      <td>...</td>\n",
       "      <td>...</td>\n",
       "    </tr>\n",
       "    <tr>\n",
       "      <th>30100</th>\n",
       "      <td>0.0</td>\n",
       "      <td>0.0</td>\n",
       "      <td>0.0</td>\n",
       "      <td>0.0</td>\n",
       "      <td>0.0</td>\n",
       "      <td>0.0</td>\n",
       "      <td>0.0</td>\n",
       "      <td>0.0</td>\n",
       "      <td>0.0</td>\n",
       "      <td>0.0</td>\n",
       "      <td>...</td>\n",
       "      <td>1.0</td>\n",
       "      <td>0.0</td>\n",
       "      <td>0.0</td>\n",
       "      <td>0.0</td>\n",
       "      <td>0.0</td>\n",
       "      <td>0.0</td>\n",
       "      <td>30100.0</td>\n",
       "      <td>187251.0</td>\n",
       "      <td>0.39</td>\n",
       "      <td>3.32</td>\n",
       "    </tr>\n",
       "    <tr>\n",
       "      <th>30101</th>\n",
       "      <td>0.0</td>\n",
       "      <td>0.0</td>\n",
       "      <td>0.0</td>\n",
       "      <td>0.0</td>\n",
       "      <td>0.0</td>\n",
       "      <td>0.0</td>\n",
       "      <td>0.0</td>\n",
       "      <td>0.0</td>\n",
       "      <td>0.0</td>\n",
       "      <td>0.0</td>\n",
       "      <td>...</td>\n",
       "      <td>0.0</td>\n",
       "      <td>0.0</td>\n",
       "      <td>0.0</td>\n",
       "      <td>0.0</td>\n",
       "      <td>0.0</td>\n",
       "      <td>0.0</td>\n",
       "      <td>30101.0</td>\n",
       "      <td>138152.0</td>\n",
       "      <td>0.52</td>\n",
       "      <td>3.69</td>\n",
       "    </tr>\n",
       "    <tr>\n",
       "      <th>30102</th>\n",
       "      <td>0.0</td>\n",
       "      <td>0.0</td>\n",
       "      <td>0.0</td>\n",
       "      <td>0.0</td>\n",
       "      <td>0.0</td>\n",
       "      <td>0.0</td>\n",
       "      <td>0.0</td>\n",
       "      <td>0.0</td>\n",
       "      <td>0.0</td>\n",
       "      <td>0.0</td>\n",
       "      <td>...</td>\n",
       "      <td>0.0</td>\n",
       "      <td>0.0</td>\n",
       "      <td>0.0</td>\n",
       "      <td>0.0</td>\n",
       "      <td>0.0</td>\n",
       "      <td>0.0</td>\n",
       "      <td>30102.0</td>\n",
       "      <td>300050.0</td>\n",
       "      <td>-0.34</td>\n",
       "      <td>3.32</td>\n",
       "    </tr>\n",
       "    <tr>\n",
       "      <th>30103</th>\n",
       "      <td>0.0</td>\n",
       "      <td>0.0</td>\n",
       "      <td>0.0</td>\n",
       "      <td>0.0</td>\n",
       "      <td>0.0</td>\n",
       "      <td>0.0</td>\n",
       "      <td>1.0</td>\n",
       "      <td>0.0</td>\n",
       "      <td>0.0</td>\n",
       "      <td>0.0</td>\n",
       "      <td>...</td>\n",
       "      <td>0.0</td>\n",
       "      <td>0.0</td>\n",
       "      <td>0.0</td>\n",
       "      <td>0.0</td>\n",
       "      <td>0.0</td>\n",
       "      <td>0.0</td>\n",
       "      <td>30103.0</td>\n",
       "      <td>20996000.0</td>\n",
       "      <td>0.53</td>\n",
       "      <td>3.69</td>\n",
       "    </tr>\n",
       "    <tr>\n",
       "      <th>30104</th>\n",
       "      <td>0.0</td>\n",
       "      <td>1.0</td>\n",
       "      <td>0.0</td>\n",
       "      <td>0.0</td>\n",
       "      <td>0.0</td>\n",
       "      <td>0.0</td>\n",
       "      <td>0.0</td>\n",
       "      <td>0.0</td>\n",
       "      <td>0.0</td>\n",
       "      <td>0.0</td>\n",
       "      <td>...</td>\n",
       "      <td>1.0</td>\n",
       "      <td>0.0</td>\n",
       "      <td>0.0</td>\n",
       "      <td>0.0</td>\n",
       "      <td>0.0</td>\n",
       "      <td>0.0</td>\n",
       "      <td>30104.0</td>\n",
       "      <td>1102342.0</td>\n",
       "      <td>0.39</td>\n",
       "      <td>3.32</td>\n",
       "    </tr>\n",
       "  </tbody>\n",
       "</table>\n",
       "<p>30105 rows × 209 columns</p>\n",
       "</div>"
      ],
      "text/plain": [
       "         0    1    2    3    4    5    6    7    8    9  ...  199  200  201  \\\n",
       "0      0.0  1.0  0.0  0.0  0.0  0.0  0.0  0.0  0.0  0.0  ...  0.0  0.0  0.0   \n",
       "1      0.0  0.0  0.0  0.0  0.0  0.0  0.0  0.0  0.0  0.0  ...  0.0  0.0  0.0   \n",
       "2      0.0  0.0  0.0  0.0  0.0  0.0  0.0  0.0  0.0  0.0  ...  0.0  0.0  0.0   \n",
       "3      0.0  0.0  0.0  0.0  0.0  0.0  0.0  0.0  0.0  0.0  ...  0.0  0.0  0.0   \n",
       "4      0.0  0.0  0.0  0.0  0.0  0.0  0.0  0.0  0.0  1.0  ...  0.0  0.0  0.0   \n",
       "...    ...  ...  ...  ...  ...  ...  ...  ...  ...  ...  ...  ...  ...  ...   \n",
       "30100  0.0  0.0  0.0  0.0  0.0  0.0  0.0  0.0  0.0  0.0  ...  1.0  0.0  0.0   \n",
       "30101  0.0  0.0  0.0  0.0  0.0  0.0  0.0  0.0  0.0  0.0  ...  0.0  0.0  0.0   \n",
       "30102  0.0  0.0  0.0  0.0  0.0  0.0  0.0  0.0  0.0  0.0  ...  0.0  0.0  0.0   \n",
       "30103  0.0  0.0  0.0  0.0  0.0  0.0  1.0  0.0  0.0  0.0  ...  0.0  0.0  0.0   \n",
       "30104  0.0  1.0  0.0  0.0  0.0  0.0  0.0  0.0  0.0  0.0  ...  1.0  0.0  0.0   \n",
       "\n",
       "       202  203  204    index  population  Inflacion  Desocupacion  \n",
       "0      0.0  0.0  0.0      0.0   1102342.0       0.54          3.63  \n",
       "1      0.0  0.0  0.0      1.0    812229.0       0.70          3.17  \n",
       "2      0.0  0.0  0.0      2.0    187251.0       0.70          3.17  \n",
       "3      0.0  0.0  0.0      3.0    824229.0       0.54          3.63  \n",
       "4      0.0  0.0  0.0      4.0    654876.0       0.70          3.17  \n",
       "...    ...  ...  ...      ...         ...        ...           ...  \n",
       "30100  0.0  0.0  0.0  30100.0    187251.0       0.39          3.32  \n",
       "30101  0.0  0.0  0.0  30101.0    138152.0       0.52          3.69  \n",
       "30102  0.0  0.0  0.0  30102.0    300050.0      -0.34          3.32  \n",
       "30103  0.0  0.0  0.0  30103.0  20996000.0       0.53          3.69  \n",
       "30104  0.0  0.0  0.0  30104.0   1102342.0       0.39          3.32  \n",
       "\n",
       "[30105 rows x 209 columns]"
      ]
     },
     "execution_count": 114,
     "metadata": {},
     "output_type": "execute_result"
    }
   ],
   "source": [
    "train_set_tr = train_set_tr.drop(columns=['Incidencias_Norm'])\n",
    "train_set_tr"
   ]
  },
  {
   "cell_type": "code",
   "execution_count": 115,
   "metadata": {
    "colab": {
     "base_uri": "https://localhost:8080/"
    },
    "id": "UPqfhACUUbNL",
    "outputId": "2faa48a5-f6f0-4361-e3de-6eb841a5b44a"
   },
   "outputs": [
    {
     "data": {
      "text/plain": [
       "array([[ 0.000000e+00,  1.000000e+00,  0.000000e+00, ...,  1.102342e+06,\n",
       "         5.400000e-01,  3.630000e+00],\n",
       "       [ 0.000000e+00,  0.000000e+00,  0.000000e+00, ...,  8.122290e+05,\n",
       "         7.000000e-01,  3.170000e+00],\n",
       "       [ 0.000000e+00,  0.000000e+00,  0.000000e+00, ...,  1.872510e+05,\n",
       "         7.000000e-01,  3.170000e+00],\n",
       "       ...,\n",
       "       [ 0.000000e+00,  0.000000e+00,  0.000000e+00, ...,  3.000500e+05,\n",
       "        -3.400000e-01,  3.320000e+00],\n",
       "       [ 0.000000e+00,  0.000000e+00,  0.000000e+00, ...,  2.099600e+07,\n",
       "         5.300000e-01,  3.690000e+00],\n",
       "       [ 0.000000e+00,  1.000000e+00,  0.000000e+00, ...,  1.102342e+06,\n",
       "         3.900000e-01,  3.320000e+00]])"
      ]
     },
     "execution_count": 115,
     "metadata": {},
     "output_type": "execute_result"
    }
   ],
   "source": [
    "train_set_tr.to_numpy()"
   ]
  },
  {
   "cell_type": "code",
   "execution_count": 116,
   "metadata": {
    "colab": {
     "base_uri": "https://localhost:8080/"
    },
    "id": "w2Dzh_RyYnUo",
    "outputId": "2ed2725b-9941-4a62-d20f-d1ee1454b43e"
   },
   "outputs": [
    {
     "data": {
      "text/plain": [
       "30105"
      ]
     },
     "execution_count": 116,
     "metadata": {},
     "output_type": "execute_result"
    }
   ],
   "source": [
    "rows, cols = train_set_tr.shape\n",
    "rows"
   ]
  },
  {
   "cell_type": "markdown",
   "metadata": {
    "id": "gUcP47DHa6FU"
   },
   "source": [
    "# Modelo Lineal"
   ]
  },
  {
   "cell_type": "code",
   "execution_count": 117,
   "metadata": {
    "id": "wTRoTDIYYTk_"
   },
   "outputs": [],
   "source": [
    "# Agregamos x_0 = 1 a cada observación\n",
    "X_b = np.c_[np.ones((rows, 1)), train_set_tr]\n",
    "# se le pone un uno por el intersepto? el número escalar extra\n",
    "# para cada var independiente hay un coeficiente thetas"
   ]
  },
  {
   "cell_type": "code",
   "execution_count": 132,
   "metadata": {
    "colab": {
     "base_uri": "https://localhost:8080/"
    },
    "id": "8nvdeSTuZHo7",
    "outputId": "2cef5cf4-24c7-4277-e915-a44203c1c3d0"
   },
   "outputs": [
    {
     "data": {
      "text/plain": [
       "(30105, 210)"
      ]
     },
     "execution_count": 132,
     "metadata": {},
     "output_type": "execute_result"
    }
   ],
   "source": [
    "X_b.shape"
   ]
  },
  {
   "cell_type": "code",
   "execution_count": 119,
   "metadata": {
    "colab": {
     "base_uri": "https://localhost:8080/"
    },
    "id": "8t-eIuTBceVz",
    "outputId": "906b53d2-7799-4a44-c367-5ffaf27f8413"
   },
   "outputs": [
    {
     "data": {
      "text/plain": [
       "array([[3.01050000e+04, 9.47000000e+02, 9.47000000e+02, ...,\n",
       "        4.42637279e+10, 1.21640300e+04, 1.03924400e+05],\n",
       "       [9.47000000e+02, 9.47000000e+02, 0.00000000e+00, ...,\n",
       "        8.84899528e+08, 3.83420000e+02, 3.26893000e+03],\n",
       "       [9.47000000e+02, 0.00000000e+00, 9.47000000e+02, ...,\n",
       "        1.04391787e+09, 3.81280000e+02, 3.26889000e+03],\n",
       "       ...,\n",
       "       [4.42637279e+10, 8.84899528e+08, 1.04391787e+09, ...,\n",
       "        4.72779041e+17, 1.76669609e+10, 1.52890564e+11],\n",
       "       [1.21640300e+04, 3.83420000e+02, 3.81280000e+02, ...,\n",
       "        1.76669609e+10, 8.09087310e+03, 4.20697609e+04],\n",
       "       [1.03924400e+05, 3.26893000e+03, 3.26889000e+03, ...,\n",
       "        1.52890564e+11, 4.20697609e+04, 3.60144482e+05]])"
      ]
     },
     "execution_count": 119,
     "metadata": {},
     "output_type": "execute_result"
    }
   ],
   "source": [
    "X_b.T.dot(X_b)"
   ]
  },
  {
   "cell_type": "code",
   "execution_count": 120,
   "metadata": {
    "colab": {
     "base_uri": "https://localhost:8080/"
    },
    "id": "5Lk-D-4hD0wq",
    "outputId": "ec55f2e5-2128-49a5-a292-8d5ca61141dc"
   },
   "outputs": [
    {
     "data": {
      "text/plain": [
       "((30105, 210), (30105, 1))"
      ]
     },
     "execution_count": 120,
     "metadata": {},
     "output_type": "execute_result"
    }
   ],
   "source": [
    "X_b.shape, train_ind.shape"
   ]
  },
  {
   "cell_type": "code",
   "execution_count": 121,
   "metadata": {
    "colab": {
     "base_uri": "https://localhost:8080/",
     "height": 432
    },
    "id": "Em2k3BTwY1qZ",
    "outputId": "047a3d47-9f01-4500-c05a-8d1cf195dd6a"
   },
   "outputs": [],
   "source": [
    "# Ecuación normal\n",
    "#theta_best = np.linalg.inv(X_b.T.dot(X_b)).dot(X_b.T).dot(train_ind)\n",
    "#theta_best\n",
    "\n",
    "# T para transpuesta"
   ]
  },
  {
   "cell_type": "markdown",
   "metadata": {
    "id": "V_C6Uec-HLSB"
   },
   "source": [
    "# Modelo Polinomial"
   ]
  },
  {
   "cell_type": "code",
   "execution_count": 122,
   "metadata": {
    "id": "21-x5P6WHSJZ"
   },
   "outputs": [],
   "source": [
    "from sklearn.preprocessing import PolynomialFeatures\n",
    "from sklearn.linear_model import LinearRegression\n",
    "from sklearn.metrics import r2_score, mean_squared_error"
   ]
  },
  {
   "cell_type": "code",
   "execution_count": 123,
   "metadata": {
    "colab": {
     "base_uri": "https://localhost:8080/"
    },
    "id": "nvWnBsJNHNgR",
    "outputId": "97180a41-7cc5-467e-cff5-88c87e87e602"
   },
   "outputs": [
    {
     "name": "stdout",
     "output_type": "stream",
     "text": [
      "[1.000000e+00 0.000000e+00 1.000000e+00 0.000000e+00 0.000000e+00\n",
      " 0.000000e+00 0.000000e+00 0.000000e+00 0.000000e+00 0.000000e+00\n",
      " 0.000000e+00 0.000000e+00 0.000000e+00 0.000000e+00 0.000000e+00\n",
      " 0.000000e+00 0.000000e+00 0.000000e+00 0.000000e+00 0.000000e+00\n",
      " 0.000000e+00 0.000000e+00 0.000000e+00 0.000000e+00 0.000000e+00\n",
      " 0.000000e+00 0.000000e+00 0.000000e+00 0.000000e+00 0.000000e+00\n",
      " 0.000000e+00 0.000000e+00 0.000000e+00 1.000000e+00 0.000000e+00\n",
      " 0.000000e+00 0.000000e+00 0.000000e+00 0.000000e+00 0.000000e+00\n",
      " 0.000000e+00 0.000000e+00 0.000000e+00 0.000000e+00 0.000000e+00\n",
      " 0.000000e+00 0.000000e+00 0.000000e+00 0.000000e+00 0.000000e+00\n",
      " 0.000000e+00 0.000000e+00 0.000000e+00 0.000000e+00 0.000000e+00\n",
      " 0.000000e+00 0.000000e+00 0.000000e+00 0.000000e+00 0.000000e+00\n",
      " 0.000000e+00 0.000000e+00 0.000000e+00 0.000000e+00 0.000000e+00\n",
      " 0.000000e+00 0.000000e+00 0.000000e+00 0.000000e+00 0.000000e+00\n",
      " 0.000000e+00 0.000000e+00 1.000000e+00 0.000000e+00 0.000000e+00\n",
      " 0.000000e+00 0.000000e+00 0.000000e+00 0.000000e+00 0.000000e+00\n",
      " 0.000000e+00 0.000000e+00 0.000000e+00 0.000000e+00 0.000000e+00\n",
      " 0.000000e+00 0.000000e+00 0.000000e+00 0.000000e+00 0.000000e+00\n",
      " 0.000000e+00 0.000000e+00 0.000000e+00 0.000000e+00 0.000000e+00\n",
      " 0.000000e+00 0.000000e+00 0.000000e+00 0.000000e+00 0.000000e+00\n",
      " 0.000000e+00 0.000000e+00 0.000000e+00 0.000000e+00 0.000000e+00\n",
      " 0.000000e+00 0.000000e+00 0.000000e+00 0.000000e+00 0.000000e+00\n",
      " 0.000000e+00 0.000000e+00 0.000000e+00 1.000000e+00 0.000000e+00\n",
      " 0.000000e+00 0.000000e+00 0.000000e+00 0.000000e+00 0.000000e+00\n",
      " 0.000000e+00 0.000000e+00 0.000000e+00 0.000000e+00 0.000000e+00\n",
      " 0.000000e+00 0.000000e+00 0.000000e+00 0.000000e+00 0.000000e+00\n",
      " 0.000000e+00 0.000000e+00 0.000000e+00 0.000000e+00 0.000000e+00\n",
      " 0.000000e+00 0.000000e+00 0.000000e+00 0.000000e+00 0.000000e+00\n",
      " 0.000000e+00 0.000000e+00 0.000000e+00 0.000000e+00 0.000000e+00\n",
      " 0.000000e+00 0.000000e+00 0.000000e+00 0.000000e+00 0.000000e+00\n",
      " 0.000000e+00 0.000000e+00 0.000000e+00 0.000000e+00 0.000000e+00\n",
      " 0.000000e+00 0.000000e+00 0.000000e+00 0.000000e+00 0.000000e+00\n",
      " 0.000000e+00 0.000000e+00 0.000000e+00 0.000000e+00 0.000000e+00\n",
      " 0.000000e+00 0.000000e+00 0.000000e+00 0.000000e+00 0.000000e+00\n",
      " 0.000000e+00 0.000000e+00 0.000000e+00 0.000000e+00 0.000000e+00\n",
      " 0.000000e+00 0.000000e+00 0.000000e+00 0.000000e+00 0.000000e+00\n",
      " 0.000000e+00 0.000000e+00 0.000000e+00 0.000000e+00 0.000000e+00\n",
      " 0.000000e+00 0.000000e+00 1.000000e+00 0.000000e+00 0.000000e+00\n",
      " 0.000000e+00 0.000000e+00 0.000000e+00 0.000000e+00 0.000000e+00\n",
      " 0.000000e+00 0.000000e+00 0.000000e+00 0.000000e+00 1.000000e+00\n",
      " 0.000000e+00 0.000000e+00 0.000000e+00 0.000000e+00 0.000000e+00\n",
      " 0.000000e+00 0.000000e+00 1.102342e+06 5.400000e-01 3.630000e+00]\n",
      "[ 1.      0.      1.     ...  0.2916  1.9602 13.1769]\n"
     ]
    }
   ],
   "source": [
    "# Crea objeto para transformar\n",
    "poly_features = PolynomialFeatures(degree=2, include_bias=False)\n",
    "\n",
    "# Transforma conjunto de datos con el objeto para transformar\n",
    "X_poly = poly_features.fit_transform(X_b)\n",
    "\n",
    "# Imprime comparativa entre dato original y dato tranformado\n",
    "print(X_b[0])\n",
    "print(X_poly[0])"
   ]
  },
  {
   "cell_type": "code",
   "execution_count": 133,
   "metadata": {},
   "outputs": [
    {
     "name": "stdout",
     "output_type": "stream",
     "text": [
      "(30105, 210)\n",
      "(30105, 22365)\n"
     ]
    }
   ],
   "source": [
    "print(X_b.shape)\n",
    "print(X_poly.shape)"
   ]
  },
  {
   "cell_type": "code",
   "execution_count": 124,
   "metadata": {
    "id": "zKZ8GQgGHjI2"
   },
   "outputs": [],
   "source": [
    "# Crea objeto de regresión lineal\n",
    "lin_reg = LinearRegression()"
   ]
  },
  {
   "cell_type": "code",
   "execution_count": 125,
   "metadata": {
    "id": "mP-6EYVbHwWx",
    "scrolled": true
   },
   "outputs": [
    {
     "data": {
      "text/plain": [
       "(array([1492.14366402]),\n",
       " array([[-2.26173214, -0.09090873,  0.11631169, ..., -0.0033633 ,\n",
       "         -0.01996827,  0.00929816]]))"
      ]
     },
     "execution_count": 125,
     "metadata": {},
     "output_type": "execute_result"
    }
   ],
   "source": [
    "# Ajusta modelo de regresión lineal\n",
    "lin_reg.fit(X_poly, train_ind)\n",
    "\n",
    "# Devuelve intercepto y coeficientes de modelo de regresión linea\n",
    "lin_reg.intercept_, lin_reg.coef_"
   ]
  },
  {
   "cell_type": "code",
   "execution_count": 131,
   "metadata": {},
   "outputs": [
    {
     "data": {
      "text/plain": [
       "(1, 22365)"
      ]
     },
     "execution_count": 131,
     "metadata": {},
     "output_type": "execute_result"
    }
   ],
   "source": [
    "modelo = lin_reg.coef_\n",
    "modelo.shape"
   ]
  },
  {
   "cell_type": "code",
   "execution_count": 136,
   "metadata": {},
   "outputs": [
    {
     "data": {
      "text/html": [
       "<div>\n",
       "<style scoped>\n",
       "    .dataframe tbody tr th:only-of-type {\n",
       "        vertical-align: middle;\n",
       "    }\n",
       "\n",
       "    .dataframe tbody tr th {\n",
       "        vertical-align: top;\n",
       "    }\n",
       "\n",
       "    .dataframe thead th {\n",
       "        text-align: right;\n",
       "    }\n",
       "</style>\n",
       "<table border=\"1\" class=\"dataframe\">\n",
       "  <thead>\n",
       "    <tr style=\"text-align: right;\">\n",
       "      <th></th>\n",
       "      <th>Anno</th>\n",
       "      <th>Clave_Ent</th>\n",
       "      <th>Entidad</th>\n",
       "      <th>Bien_juridico_afectado</th>\n",
       "      <th>Delito</th>\n",
       "      <th>Subtipo_delito</th>\n",
       "      <th>Modalidad</th>\n",
       "      <th>Mes</th>\n",
       "      <th>Num_Incidencias</th>\n",
       "      <th>lat</th>\n",
       "      <th>lng</th>\n",
       "      <th>population</th>\n",
       "      <th>Inflacion</th>\n",
       "      <th>Desocupacion</th>\n",
       "    </tr>\n",
       "  </thead>\n",
       "  <tbody>\n",
       "    <tr>\n",
       "      <th>161472</th>\n",
       "      <td>2018</td>\n",
       "      <td>16</td>\n",
       "      <td>Michoacan de Ocampo</td>\n",
       "      <td>El patrimonio</td>\n",
       "      <td>Robo</td>\n",
       "      <td>Robo de ganado</td>\n",
       "      <td>Sin violencia</td>\n",
       "      <td>Julio</td>\n",
       "      <td>5.0</td>\n",
       "      <td>19.7683</td>\n",
       "      <td>-101.1894</td>\n",
       "      <td>784776</td>\n",
       "      <td>0.54</td>\n",
       "      <td>3.63</td>\n",
       "    </tr>\n",
       "    <tr>\n",
       "      <th>137656</th>\n",
       "      <td>2018</td>\n",
       "      <td>29</td>\n",
       "      <td>Tlaxcala</td>\n",
       "      <td>El patrimonio</td>\n",
       "      <td>Robo</td>\n",
       "      <td>Robo a negocio</td>\n",
       "      <td>Sin violencia</td>\n",
       "      <td>Junio</td>\n",
       "      <td>7.0</td>\n",
       "      <td>19.3191</td>\n",
       "      <td>-98.1998</td>\n",
       "      <td>14692</td>\n",
       "      <td>0.39</td>\n",
       "      <td>3.32</td>\n",
       "    </tr>\n",
       "    <tr>\n",
       "      <th>135130</th>\n",
       "      <td>2018</td>\n",
       "      <td>3</td>\n",
       "      <td>Baja California Sur</td>\n",
       "      <td>La sociedad</td>\n",
       "      <td>Trata de personas</td>\n",
       "      <td>Trata de personas</td>\n",
       "      <td>Trata de personas</td>\n",
       "      <td>Junio</td>\n",
       "      <td>0.0</td>\n",
       "      <td>24.1422</td>\n",
       "      <td>-110.3108</td>\n",
       "      <td>244219</td>\n",
       "      <td>0.39</td>\n",
       "      <td>3.32</td>\n",
       "    </tr>\n",
       "    <tr>\n",
       "      <th>10304</th>\n",
       "      <td>2018</td>\n",
       "      <td>10</td>\n",
       "      <td>Durango</td>\n",
       "      <td>La vida y la Integridad corporal</td>\n",
       "      <td>Lesiones</td>\n",
       "      <td>Lesiones culposas</td>\n",
       "      <td>Con arma blanca</td>\n",
       "      <td>Enero</td>\n",
       "      <td>0.0</td>\n",
       "      <td>24.0167</td>\n",
       "      <td>-104.6667</td>\n",
       "      <td>654876</td>\n",
       "      <td>0.53</td>\n",
       "      <td>3.69</td>\n",
       "    </tr>\n",
       "    <tr>\n",
       "      <th>212013</th>\n",
       "      <td>2018</td>\n",
       "      <td>20</td>\n",
       "      <td>Oaxaca</td>\n",
       "      <td>El patrimonio</td>\n",
       "      <td>Robo</td>\n",
       "      <td>Robo a casa habitacion</td>\n",
       "      <td>Con violencia</td>\n",
       "      <td>Septiembre</td>\n",
       "      <td>14.0</td>\n",
       "      <td>17.0833</td>\n",
       "      <td>-96.7500</td>\n",
       "      <td>300050</td>\n",
       "      <td>0.42</td>\n",
       "      <td>3.63</td>\n",
       "    </tr>\n",
       "    <tr>\n",
       "      <th>...</th>\n",
       "      <td>...</td>\n",
       "      <td>...</td>\n",
       "      <td>...</td>\n",
       "      <td>...</td>\n",
       "      <td>...</td>\n",
       "      <td>...</td>\n",
       "      <td>...</td>\n",
       "      <td>...</td>\n",
       "      <td>...</td>\n",
       "      <td>...</td>\n",
       "      <td>...</td>\n",
       "      <td>...</td>\n",
       "      <td>...</td>\n",
       "      <td>...</td>\n",
       "    </tr>\n",
       "    <tr>\n",
       "      <th>162736</th>\n",
       "      <td>2018</td>\n",
       "      <td>29</td>\n",
       "      <td>Tlaxcala</td>\n",
       "      <td>El patrimonio</td>\n",
       "      <td>Robo</td>\n",
       "      <td>Robo en transporte publico individual</td>\n",
       "      <td>Sin violencia</td>\n",
       "      <td>Julio</td>\n",
       "      <td>0.0</td>\n",
       "      <td>19.3191</td>\n",
       "      <td>-98.1998</td>\n",
       "      <td>14692</td>\n",
       "      <td>0.54</td>\n",
       "      <td>3.63</td>\n",
       "    </tr>\n",
       "    <tr>\n",
       "      <th>10668</th>\n",
       "      <td>2018</td>\n",
       "      <td>13</td>\n",
       "      <td>Hidalgo</td>\n",
       "      <td>La familia</td>\n",
       "      <td>Otros delitos contra la familia</td>\n",
       "      <td>Otros delitos contra la familia</td>\n",
       "      <td>Otros delitos contra la familia</td>\n",
       "      <td>Enero</td>\n",
       "      <td>0.0</td>\n",
       "      <td>20.1000</td>\n",
       "      <td>-98.7500</td>\n",
       "      <td>277375</td>\n",
       "      <td>0.53</td>\n",
       "      <td>3.69</td>\n",
       "    </tr>\n",
       "    <tr>\n",
       "      <th>36681</th>\n",
       "      <td>2018</td>\n",
       "      <td>23</td>\n",
       "      <td>Quintana Roo</td>\n",
       "      <td>Libertad personal</td>\n",
       "      <td>Trafico de menores</td>\n",
       "      <td>Trafico de menores</td>\n",
       "      <td>Trafico de menores</td>\n",
       "      <td>Febrero</td>\n",
       "      <td>0.0</td>\n",
       "      <td>18.5036</td>\n",
       "      <td>-88.3053</td>\n",
       "      <td>151243</td>\n",
       "      <td>NaN</td>\n",
       "      <td>3.69</td>\n",
       "    </tr>\n",
       "    <tr>\n",
       "      <th>111399</th>\n",
       "      <td>2018</td>\n",
       "      <td>17</td>\n",
       "      <td>Morelos</td>\n",
       "      <td>El patrimonio</td>\n",
       "      <td>Robo</td>\n",
       "      <td>Robo de maquinaria</td>\n",
       "      <td>Robo de cables, tubos y otros objetos destinad...</td>\n",
       "      <td>Mayo</td>\n",
       "      <td>0.0</td>\n",
       "      <td>18.9186</td>\n",
       "      <td>-99.2342</td>\n",
       "      <td>366321</td>\n",
       "      <td>-0.16</td>\n",
       "      <td>3.32</td>\n",
       "    </tr>\n",
       "    <tr>\n",
       "      <th>236924</th>\n",
       "      <td>2018</td>\n",
       "      <td>18</td>\n",
       "      <td>Nayarit</td>\n",
       "      <td>El patrimonio</td>\n",
       "      <td>Robo</td>\n",
       "      <td>Robo en transporte publico colectivo</td>\n",
       "      <td>Sin violencia</td>\n",
       "      <td>Octubre</td>\n",
       "      <td>0.0</td>\n",
       "      <td>21.5083</td>\n",
       "      <td>-104.8931</td>\n",
       "      <td>332863</td>\n",
       "      <td>0.52</td>\n",
       "      <td>3.17</td>\n",
       "    </tr>\n",
       "  </tbody>\n",
       "</table>\n",
       "<p>7527 rows × 14 columns</p>\n",
       "</div>"
      ],
      "text/plain": [
       "        Anno  Clave_Ent              Entidad  \\\n",
       "161472  2018         16  Michoacan de Ocampo   \n",
       "137656  2018         29             Tlaxcala   \n",
       "135130  2018          3  Baja California Sur   \n",
       "10304   2018         10              Durango   \n",
       "212013  2018         20               Oaxaca   \n",
       "...      ...        ...                  ...   \n",
       "162736  2018         29             Tlaxcala   \n",
       "10668   2018         13              Hidalgo   \n",
       "36681   2018         23         Quintana Roo   \n",
       "111399  2018         17              Morelos   \n",
       "236924  2018         18              Nayarit   \n",
       "\n",
       "                  Bien_juridico_afectado                           Delito  \\\n",
       "161472                     El patrimonio                             Robo   \n",
       "137656                     El patrimonio                             Robo   \n",
       "135130                       La sociedad                Trata de personas   \n",
       "10304   La vida y la Integridad corporal                         Lesiones   \n",
       "212013                     El patrimonio                             Robo   \n",
       "...                                  ...                              ...   \n",
       "162736                     El patrimonio                             Robo   \n",
       "10668                         La familia  Otros delitos contra la familia   \n",
       "36681                  Libertad personal               Trafico de menores   \n",
       "111399                     El patrimonio                             Robo   \n",
       "236924                     El patrimonio                             Robo   \n",
       "\n",
       "                               Subtipo_delito  \\\n",
       "161472                         Robo de ganado   \n",
       "137656                         Robo a negocio   \n",
       "135130                      Trata de personas   \n",
       "10304                       Lesiones culposas   \n",
       "212013                 Robo a casa habitacion   \n",
       "...                                       ...   \n",
       "162736  Robo en transporte publico individual   \n",
       "10668         Otros delitos contra la familia   \n",
       "36681                      Trafico de menores   \n",
       "111399                     Robo de maquinaria   \n",
       "236924   Robo en transporte publico colectivo   \n",
       "\n",
       "                                                Modalidad         Mes  \\\n",
       "161472                                      Sin violencia       Julio   \n",
       "137656                                      Sin violencia       Junio   \n",
       "135130                                  Trata de personas       Junio   \n",
       "10304                                     Con arma blanca       Enero   \n",
       "212013                                      Con violencia  Septiembre   \n",
       "...                                                   ...         ...   \n",
       "162736                                      Sin violencia       Julio   \n",
       "10668                     Otros delitos contra la familia       Enero   \n",
       "36681                                  Trafico de menores     Febrero   \n",
       "111399  Robo de cables, tubos y otros objetos destinad...        Mayo   \n",
       "236924                                      Sin violencia     Octubre   \n",
       "\n",
       "        Num_Incidencias      lat       lng population  Inflacion  Desocupacion  \n",
       "161472              5.0  19.7683 -101.1894     784776       0.54          3.63  \n",
       "137656              7.0  19.3191  -98.1998      14692       0.39          3.32  \n",
       "135130              0.0  24.1422 -110.3108     244219       0.39          3.32  \n",
       "10304               0.0  24.0167 -104.6667     654876       0.53          3.69  \n",
       "212013             14.0  17.0833  -96.7500     300050       0.42          3.63  \n",
       "...                 ...      ...       ...        ...        ...           ...  \n",
       "162736              0.0  19.3191  -98.1998      14692       0.54          3.63  \n",
       "10668               0.0  20.1000  -98.7500     277375       0.53          3.69  \n",
       "36681               0.0  18.5036  -88.3053     151243        NaN          3.69  \n",
       "111399              0.0  18.9186  -99.2342     366321      -0.16          3.32  \n",
       "236924              0.0  21.5083 -104.8931     332863       0.52          3.17  \n",
       "\n",
       "[7527 rows x 14 columns]"
      ]
     },
     "execution_count": 136,
     "metadata": {},
     "output_type": "execute_result"
    }
   ],
   "source": [
    "test_set = test_set.drop(columns=['Clave_Ent', 'Anno', 'lat', 'lng'])\n",
    "test_set['population'] = test_set['population'].astype(float)\n",
    "test_set['Incidencias_Norm'] = test_set['Num_Incidencias'] * 10000 / test_set['population']"
   ]
  },
  {
   "cell_type": "code",
   "execution_count": 171,
   "metadata": {},
   "outputs": [
    {
     "data": {
      "text/html": [
       "<div>\n",
       "<style scoped>\n",
       "    .dataframe tbody tr th:only-of-type {\n",
       "        vertical-align: middle;\n",
       "    }\n",
       "\n",
       "    .dataframe tbody tr th {\n",
       "        vertical-align: top;\n",
       "    }\n",
       "\n",
       "    .dataframe thead th {\n",
       "        text-align: right;\n",
       "    }\n",
       "</style>\n",
       "<table border=\"1\" class=\"dataframe\">\n",
       "  <thead>\n",
       "    <tr style=\"text-align: right;\">\n",
       "      <th></th>\n",
       "      <th>0</th>\n",
       "      <th>1</th>\n",
       "      <th>2</th>\n",
       "      <th>3</th>\n",
       "      <th>4</th>\n",
       "      <th>5</th>\n",
       "      <th>6</th>\n",
       "      <th>7</th>\n",
       "      <th>8</th>\n",
       "      <th>9</th>\n",
       "      <th>...</th>\n",
       "      <th>200</th>\n",
       "      <th>201</th>\n",
       "      <th>202</th>\n",
       "      <th>203</th>\n",
       "      <th>204</th>\n",
       "      <th>index</th>\n",
       "      <th>population</th>\n",
       "      <th>Inflacion</th>\n",
       "      <th>Desocupacion</th>\n",
       "      <th>Incidencias_Norm</th>\n",
       "    </tr>\n",
       "  </thead>\n",
       "  <tbody>\n",
       "    <tr>\n",
       "      <th>0</th>\n",
       "      <td>0.0</td>\n",
       "      <td>0.0</td>\n",
       "      <td>0.0</td>\n",
       "      <td>0.0</td>\n",
       "      <td>0.0</td>\n",
       "      <td>0.0</td>\n",
       "      <td>0.0</td>\n",
       "      <td>0.0</td>\n",
       "      <td>0.0</td>\n",
       "      <td>0.0</td>\n",
       "      <td>...</td>\n",
       "      <td>0.0</td>\n",
       "      <td>0.0</td>\n",
       "      <td>0.0</td>\n",
       "      <td>0.0</td>\n",
       "      <td>0.0</td>\n",
       "      <td>0</td>\n",
       "      <td>784776.0</td>\n",
       "      <td>0.54</td>\n",
       "      <td>3.63</td>\n",
       "      <td>0.063712</td>\n",
       "    </tr>\n",
       "    <tr>\n",
       "      <th>1</th>\n",
       "      <td>0.0</td>\n",
       "      <td>0.0</td>\n",
       "      <td>0.0</td>\n",
       "      <td>0.0</td>\n",
       "      <td>0.0</td>\n",
       "      <td>0.0</td>\n",
       "      <td>0.0</td>\n",
       "      <td>0.0</td>\n",
       "      <td>0.0</td>\n",
       "      <td>0.0</td>\n",
       "      <td>...</td>\n",
       "      <td>0.0</td>\n",
       "      <td>0.0</td>\n",
       "      <td>0.0</td>\n",
       "      <td>0.0</td>\n",
       "      <td>0.0</td>\n",
       "      <td>1</td>\n",
       "      <td>14692.0</td>\n",
       "      <td>0.39</td>\n",
       "      <td>3.32</td>\n",
       "      <td>4.764498</td>\n",
       "    </tr>\n",
       "    <tr>\n",
       "      <th>2</th>\n",
       "      <td>0.0</td>\n",
       "      <td>0.0</td>\n",
       "      <td>1.0</td>\n",
       "      <td>0.0</td>\n",
       "      <td>0.0</td>\n",
       "      <td>0.0</td>\n",
       "      <td>0.0</td>\n",
       "      <td>0.0</td>\n",
       "      <td>0.0</td>\n",
       "      <td>0.0</td>\n",
       "      <td>...</td>\n",
       "      <td>0.0</td>\n",
       "      <td>0.0</td>\n",
       "      <td>0.0</td>\n",
       "      <td>0.0</td>\n",
       "      <td>0.0</td>\n",
       "      <td>2</td>\n",
       "      <td>244219.0</td>\n",
       "      <td>0.39</td>\n",
       "      <td>3.32</td>\n",
       "      <td>0.000000</td>\n",
       "    </tr>\n",
       "    <tr>\n",
       "      <th>3</th>\n",
       "      <td>0.0</td>\n",
       "      <td>0.0</td>\n",
       "      <td>0.0</td>\n",
       "      <td>0.0</td>\n",
       "      <td>0.0</td>\n",
       "      <td>0.0</td>\n",
       "      <td>0.0</td>\n",
       "      <td>0.0</td>\n",
       "      <td>0.0</td>\n",
       "      <td>1.0</td>\n",
       "      <td>...</td>\n",
       "      <td>0.0</td>\n",
       "      <td>0.0</td>\n",
       "      <td>0.0</td>\n",
       "      <td>0.0</td>\n",
       "      <td>0.0</td>\n",
       "      <td>3</td>\n",
       "      <td>654876.0</td>\n",
       "      <td>0.53</td>\n",
       "      <td>3.69</td>\n",
       "      <td>0.000000</td>\n",
       "    </tr>\n",
       "    <tr>\n",
       "      <th>4</th>\n",
       "      <td>0.0</td>\n",
       "      <td>0.0</td>\n",
       "      <td>0.0</td>\n",
       "      <td>0.0</td>\n",
       "      <td>0.0</td>\n",
       "      <td>0.0</td>\n",
       "      <td>0.0</td>\n",
       "      <td>0.0</td>\n",
       "      <td>0.0</td>\n",
       "      <td>0.0</td>\n",
       "      <td>...</td>\n",
       "      <td>0.0</td>\n",
       "      <td>0.0</td>\n",
       "      <td>0.0</td>\n",
       "      <td>0.0</td>\n",
       "      <td>1.0</td>\n",
       "      <td>4</td>\n",
       "      <td>300050.0</td>\n",
       "      <td>0.42</td>\n",
       "      <td>3.63</td>\n",
       "      <td>0.466589</td>\n",
       "    </tr>\n",
       "    <tr>\n",
       "      <th>...</th>\n",
       "      <td>...</td>\n",
       "      <td>...</td>\n",
       "      <td>...</td>\n",
       "      <td>...</td>\n",
       "      <td>...</td>\n",
       "      <td>...</td>\n",
       "      <td>...</td>\n",
       "      <td>...</td>\n",
       "      <td>...</td>\n",
       "      <td>...</td>\n",
       "      <td>...</td>\n",
       "      <td>...</td>\n",
       "      <td>...</td>\n",
       "      <td>...</td>\n",
       "      <td>...</td>\n",
       "      <td>...</td>\n",
       "      <td>...</td>\n",
       "      <td>...</td>\n",
       "      <td>...</td>\n",
       "      <td>...</td>\n",
       "      <td>...</td>\n",
       "    </tr>\n",
       "    <tr>\n",
       "      <th>7522</th>\n",
       "      <td>0.0</td>\n",
       "      <td>0.0</td>\n",
       "      <td>0.0</td>\n",
       "      <td>0.0</td>\n",
       "      <td>0.0</td>\n",
       "      <td>0.0</td>\n",
       "      <td>0.0</td>\n",
       "      <td>0.0</td>\n",
       "      <td>0.0</td>\n",
       "      <td>0.0</td>\n",
       "      <td>...</td>\n",
       "      <td>0.0</td>\n",
       "      <td>0.0</td>\n",
       "      <td>0.0</td>\n",
       "      <td>0.0</td>\n",
       "      <td>0.0</td>\n",
       "      <td>7522</td>\n",
       "      <td>14692.0</td>\n",
       "      <td>0.54</td>\n",
       "      <td>3.63</td>\n",
       "      <td>0.000000</td>\n",
       "    </tr>\n",
       "    <tr>\n",
       "      <th>7523</th>\n",
       "      <td>0.0</td>\n",
       "      <td>0.0</td>\n",
       "      <td>0.0</td>\n",
       "      <td>0.0</td>\n",
       "      <td>0.0</td>\n",
       "      <td>0.0</td>\n",
       "      <td>0.0</td>\n",
       "      <td>0.0</td>\n",
       "      <td>0.0</td>\n",
       "      <td>0.0</td>\n",
       "      <td>...</td>\n",
       "      <td>0.0</td>\n",
       "      <td>0.0</td>\n",
       "      <td>0.0</td>\n",
       "      <td>0.0</td>\n",
       "      <td>0.0</td>\n",
       "      <td>7523</td>\n",
       "      <td>277375.0</td>\n",
       "      <td>0.53</td>\n",
       "      <td>3.69</td>\n",
       "      <td>0.000000</td>\n",
       "    </tr>\n",
       "    <tr>\n",
       "      <th>7524</th>\n",
       "      <td>0.0</td>\n",
       "      <td>0.0</td>\n",
       "      <td>0.0</td>\n",
       "      <td>0.0</td>\n",
       "      <td>0.0</td>\n",
       "      <td>0.0</td>\n",
       "      <td>0.0</td>\n",
       "      <td>0.0</td>\n",
       "      <td>0.0</td>\n",
       "      <td>0.0</td>\n",
       "      <td>...</td>\n",
       "      <td>0.0</td>\n",
       "      <td>0.0</td>\n",
       "      <td>0.0</td>\n",
       "      <td>0.0</td>\n",
       "      <td>0.0</td>\n",
       "      <td>7524</td>\n",
       "      <td>151243.0</td>\n",
       "      <td>NaN</td>\n",
       "      <td>3.69</td>\n",
       "      <td>0.000000</td>\n",
       "    </tr>\n",
       "    <tr>\n",
       "      <th>7525</th>\n",
       "      <td>0.0</td>\n",
       "      <td>0.0</td>\n",
       "      <td>0.0</td>\n",
       "      <td>0.0</td>\n",
       "      <td>0.0</td>\n",
       "      <td>0.0</td>\n",
       "      <td>0.0</td>\n",
       "      <td>0.0</td>\n",
       "      <td>0.0</td>\n",
       "      <td>0.0</td>\n",
       "      <td>...</td>\n",
       "      <td>0.0</td>\n",
       "      <td>1.0</td>\n",
       "      <td>0.0</td>\n",
       "      <td>0.0</td>\n",
       "      <td>0.0</td>\n",
       "      <td>7525</td>\n",
       "      <td>366321.0</td>\n",
       "      <td>-0.16</td>\n",
       "      <td>3.32</td>\n",
       "      <td>0.000000</td>\n",
       "    </tr>\n",
       "    <tr>\n",
       "      <th>7526</th>\n",
       "      <td>0.0</td>\n",
       "      <td>0.0</td>\n",
       "      <td>0.0</td>\n",
       "      <td>0.0</td>\n",
       "      <td>0.0</td>\n",
       "      <td>0.0</td>\n",
       "      <td>0.0</td>\n",
       "      <td>0.0</td>\n",
       "      <td>0.0</td>\n",
       "      <td>0.0</td>\n",
       "      <td>...</td>\n",
       "      <td>0.0</td>\n",
       "      <td>0.0</td>\n",
       "      <td>0.0</td>\n",
       "      <td>1.0</td>\n",
       "      <td>0.0</td>\n",
       "      <td>7526</td>\n",
       "      <td>332863.0</td>\n",
       "      <td>0.52</td>\n",
       "      <td>3.17</td>\n",
       "      <td>0.000000</td>\n",
       "    </tr>\n",
       "  </tbody>\n",
       "</table>\n",
       "<p>7527 rows × 210 columns</p>\n",
       "</div>"
      ],
      "text/plain": [
       "        0    1    2    3    4    5    6    7    8    9  ...  200  201  202  \\\n",
       "0     0.0  0.0  0.0  0.0  0.0  0.0  0.0  0.0  0.0  0.0  ...  0.0  0.0  0.0   \n",
       "1     0.0  0.0  0.0  0.0  0.0  0.0  0.0  0.0  0.0  0.0  ...  0.0  0.0  0.0   \n",
       "2     0.0  0.0  1.0  0.0  0.0  0.0  0.0  0.0  0.0  0.0  ...  0.0  0.0  0.0   \n",
       "3     0.0  0.0  0.0  0.0  0.0  0.0  0.0  0.0  0.0  1.0  ...  0.0  0.0  0.0   \n",
       "4     0.0  0.0  0.0  0.0  0.0  0.0  0.0  0.0  0.0  0.0  ...  0.0  0.0  0.0   \n",
       "...   ...  ...  ...  ...  ...  ...  ...  ...  ...  ...  ...  ...  ...  ...   \n",
       "7522  0.0  0.0  0.0  0.0  0.0  0.0  0.0  0.0  0.0  0.0  ...  0.0  0.0  0.0   \n",
       "7523  0.0  0.0  0.0  0.0  0.0  0.0  0.0  0.0  0.0  0.0  ...  0.0  0.0  0.0   \n",
       "7524  0.0  0.0  0.0  0.0  0.0  0.0  0.0  0.0  0.0  0.0  ...  0.0  0.0  0.0   \n",
       "7525  0.0  0.0  0.0  0.0  0.0  0.0  0.0  0.0  0.0  0.0  ...  0.0  1.0  0.0   \n",
       "7526  0.0  0.0  0.0  0.0  0.0  0.0  0.0  0.0  0.0  0.0  ...  0.0  0.0  0.0   \n",
       "\n",
       "      203  204  index  population  Inflacion  Desocupacion  Incidencias_Norm  \n",
       "0     0.0  0.0      0    784776.0       0.54          3.63          0.063712  \n",
       "1     0.0  0.0      1     14692.0       0.39          3.32          4.764498  \n",
       "2     0.0  0.0      2    244219.0       0.39          3.32          0.000000  \n",
       "3     0.0  0.0      3    654876.0       0.53          3.69          0.000000  \n",
       "4     0.0  1.0      4    300050.0       0.42          3.63          0.466589  \n",
       "...   ...  ...    ...         ...        ...           ...               ...  \n",
       "7522  0.0  0.0   7522     14692.0       0.54          3.63          0.000000  \n",
       "7523  0.0  0.0   7523    277375.0       0.53          3.69          0.000000  \n",
       "7524  0.0  0.0   7524    151243.0        NaN          3.69          0.000000  \n",
       "7525  0.0  0.0   7525    366321.0      -0.16          3.32          0.000000  \n",
       "7526  1.0  0.0   7526    332863.0       0.52          3.17          0.000000  \n",
       "\n",
       "[7527 rows x 210 columns]"
      ]
     },
     "execution_count": 171,
     "metadata": {},
     "output_type": "execute_result"
    }
   ],
   "source": [
    "test_set"
   ]
  },
  {
   "cell_type": "code",
   "execution_count": null,
   "metadata": {},
   "outputs": [],
   "source": []
  },
  {
   "cell_type": "code",
   "execution_count": 137,
   "metadata": {},
   "outputs": [
    {
     "data": {
      "text/plain": [
       "<7527x205 sparse matrix of type '<class 'numpy.float64'>'\n",
       "\twith 45162 stored elements in Compressed Sparse Row format>"
      ]
     },
     "execution_count": 137,
     "metadata": {},
     "output_type": "execute_result"
    }
   ],
   "source": [
    "test_set_cat = test_set[['Entidad', 'Bien_juridico_afectado', 'Delito', 'Subtipo_delito', 'Modalidad', 'Mes']]\n",
    "cat_encoder = OneHotEncoder()\n",
    "incidencias_cat_1hot = cat_encoder.fit_transform(test_set_cat)\n",
    "incidencias_cat_1hot"
   ]
  },
  {
   "cell_type": "code",
   "execution_count": 138,
   "metadata": {},
   "outputs": [
    {
     "data": {
      "text/plain": [
       "array([[0., 0., 0., ..., 0., 0., 0.],\n",
       "       [0., 0., 0., ..., 0., 0., 0.],\n",
       "       [0., 0., 1., ..., 0., 0., 0.],\n",
       "       ...,\n",
       "       [0., 0., 0., ..., 0., 0., 0.],\n",
       "       [0., 0., 0., ..., 0., 0., 0.],\n",
       "       [0., 0., 0., ..., 0., 1., 0.]])"
      ]
     },
     "execution_count": 138,
     "metadata": {},
     "output_type": "execute_result"
    }
   ],
   "source": [
    "incidencias_cat_1hot.toarray()"
   ]
  },
  {
   "cell_type": "code",
   "execution_count": 139,
   "metadata": {},
   "outputs": [],
   "source": [
    "import scipy.sparse\n",
    "incidencias_cat_1hot = pd.DataFrame.sparse.from_spmatrix(incidencias_cat_1hot)"
   ]
  },
  {
   "cell_type": "code",
   "execution_count": 140,
   "metadata": {},
   "outputs": [
    {
     "data": {
      "text/html": [
       "<div>\n",
       "<style scoped>\n",
       "    .dataframe tbody tr th:only-of-type {\n",
       "        vertical-align: middle;\n",
       "    }\n",
       "\n",
       "    .dataframe tbody tr th {\n",
       "        vertical-align: top;\n",
       "    }\n",
       "\n",
       "    .dataframe thead th {\n",
       "        text-align: right;\n",
       "    }\n",
       "</style>\n",
       "<table border=\"1\" class=\"dataframe\">\n",
       "  <thead>\n",
       "    <tr style=\"text-align: right;\">\n",
       "      <th></th>\n",
       "      <th>0</th>\n",
       "      <th>1</th>\n",
       "      <th>2</th>\n",
       "      <th>3</th>\n",
       "      <th>4</th>\n",
       "      <th>5</th>\n",
       "      <th>6</th>\n",
       "      <th>7</th>\n",
       "      <th>8</th>\n",
       "      <th>9</th>\n",
       "      <th>...</th>\n",
       "      <th>196</th>\n",
       "      <th>197</th>\n",
       "      <th>198</th>\n",
       "      <th>199</th>\n",
       "      <th>200</th>\n",
       "      <th>201</th>\n",
       "      <th>202</th>\n",
       "      <th>203</th>\n",
       "      <th>204</th>\n",
       "      <th>index</th>\n",
       "    </tr>\n",
       "  </thead>\n",
       "  <tbody>\n",
       "    <tr>\n",
       "      <th>0</th>\n",
       "      <td>0.0</td>\n",
       "      <td>0.0</td>\n",
       "      <td>0.0</td>\n",
       "      <td>0.0</td>\n",
       "      <td>0.0</td>\n",
       "      <td>0.0</td>\n",
       "      <td>0.0</td>\n",
       "      <td>0.0</td>\n",
       "      <td>0.0</td>\n",
       "      <td>0.0</td>\n",
       "      <td>...</td>\n",
       "      <td>0.0</td>\n",
       "      <td>0.0</td>\n",
       "      <td>1.0</td>\n",
       "      <td>0.0</td>\n",
       "      <td>0.0</td>\n",
       "      <td>0.0</td>\n",
       "      <td>0.0</td>\n",
       "      <td>0.0</td>\n",
       "      <td>0.0</td>\n",
       "      <td>0</td>\n",
       "    </tr>\n",
       "    <tr>\n",
       "      <th>1</th>\n",
       "      <td>0.0</td>\n",
       "      <td>0.0</td>\n",
       "      <td>0.0</td>\n",
       "      <td>0.0</td>\n",
       "      <td>0.0</td>\n",
       "      <td>0.0</td>\n",
       "      <td>0.0</td>\n",
       "      <td>0.0</td>\n",
       "      <td>0.0</td>\n",
       "      <td>0.0</td>\n",
       "      <td>...</td>\n",
       "      <td>0.0</td>\n",
       "      <td>0.0</td>\n",
       "      <td>0.0</td>\n",
       "      <td>1.0</td>\n",
       "      <td>0.0</td>\n",
       "      <td>0.0</td>\n",
       "      <td>0.0</td>\n",
       "      <td>0.0</td>\n",
       "      <td>0.0</td>\n",
       "      <td>1</td>\n",
       "    </tr>\n",
       "    <tr>\n",
       "      <th>2</th>\n",
       "      <td>0.0</td>\n",
       "      <td>0.0</td>\n",
       "      <td>1.0</td>\n",
       "      <td>0.0</td>\n",
       "      <td>0.0</td>\n",
       "      <td>0.0</td>\n",
       "      <td>0.0</td>\n",
       "      <td>0.0</td>\n",
       "      <td>0.0</td>\n",
       "      <td>0.0</td>\n",
       "      <td>...</td>\n",
       "      <td>0.0</td>\n",
       "      <td>0.0</td>\n",
       "      <td>0.0</td>\n",
       "      <td>1.0</td>\n",
       "      <td>0.0</td>\n",
       "      <td>0.0</td>\n",
       "      <td>0.0</td>\n",
       "      <td>0.0</td>\n",
       "      <td>0.0</td>\n",
       "      <td>2</td>\n",
       "    </tr>\n",
       "    <tr>\n",
       "      <th>3</th>\n",
       "      <td>0.0</td>\n",
       "      <td>0.0</td>\n",
       "      <td>0.0</td>\n",
       "      <td>0.0</td>\n",
       "      <td>0.0</td>\n",
       "      <td>0.0</td>\n",
       "      <td>0.0</td>\n",
       "      <td>0.0</td>\n",
       "      <td>0.0</td>\n",
       "      <td>1.0</td>\n",
       "      <td>...</td>\n",
       "      <td>1.0</td>\n",
       "      <td>0.0</td>\n",
       "      <td>0.0</td>\n",
       "      <td>0.0</td>\n",
       "      <td>0.0</td>\n",
       "      <td>0.0</td>\n",
       "      <td>0.0</td>\n",
       "      <td>0.0</td>\n",
       "      <td>0.0</td>\n",
       "      <td>3</td>\n",
       "    </tr>\n",
       "    <tr>\n",
       "      <th>4</th>\n",
       "      <td>0.0</td>\n",
       "      <td>0.0</td>\n",
       "      <td>0.0</td>\n",
       "      <td>0.0</td>\n",
       "      <td>0.0</td>\n",
       "      <td>0.0</td>\n",
       "      <td>0.0</td>\n",
       "      <td>0.0</td>\n",
       "      <td>0.0</td>\n",
       "      <td>0.0</td>\n",
       "      <td>...</td>\n",
       "      <td>0.0</td>\n",
       "      <td>0.0</td>\n",
       "      <td>0.0</td>\n",
       "      <td>0.0</td>\n",
       "      <td>0.0</td>\n",
       "      <td>0.0</td>\n",
       "      <td>0.0</td>\n",
       "      <td>0.0</td>\n",
       "      <td>1.0</td>\n",
       "      <td>4</td>\n",
       "    </tr>\n",
       "  </tbody>\n",
       "</table>\n",
       "<p>5 rows × 206 columns</p>\n",
       "</div>"
      ],
      "text/plain": [
       "     0    1    2    3    4    5    6    7    8    9  ...  196  197  198  199  \\\n",
       "0  0.0  0.0  0.0  0.0  0.0  0.0  0.0  0.0  0.0  0.0  ...  0.0  0.0  1.0  0.0   \n",
       "1  0.0  0.0  0.0  0.0  0.0  0.0  0.0  0.0  0.0  0.0  ...  0.0  0.0  0.0  1.0   \n",
       "2  0.0  0.0  1.0  0.0  0.0  0.0  0.0  0.0  0.0  0.0  ...  0.0  0.0  0.0  1.0   \n",
       "3  0.0  0.0  0.0  0.0  0.0  0.0  0.0  0.0  0.0  1.0  ...  1.0  0.0  0.0  0.0   \n",
       "4  0.0  0.0  0.0  0.0  0.0  0.0  0.0  0.0  0.0  0.0  ...  0.0  0.0  0.0  0.0   \n",
       "\n",
       "   200  201  202  203  204  index  \n",
       "0  0.0  0.0  0.0  0.0  0.0      0  \n",
       "1  0.0  0.0  0.0  0.0  0.0      1  \n",
       "2  0.0  0.0  0.0  0.0  0.0      2  \n",
       "3  0.0  0.0  0.0  0.0  0.0      3  \n",
       "4  0.0  0.0  0.0  0.0  1.0      4  \n",
       "\n",
       "[5 rows x 206 columns]"
      ]
     },
     "execution_count": 140,
     "metadata": {},
     "output_type": "execute_result"
    }
   ],
   "source": [
    "incidencias_cat_1hot['index'] = incidencias_cat_1hot.index\n",
    "incidencias_cat_1hot.head(5)"
   ]
  },
  {
   "cell_type": "code",
   "execution_count": 149,
   "metadata": {},
   "outputs": [],
   "source": [
    "test_set['population'] = test_set['population'].astype(float)"
   ]
  },
  {
   "cell_type": "code",
   "execution_count": 150,
   "metadata": {},
   "outputs": [
    {
     "data": {
      "text/html": [
       "<div>\n",
       "<style scoped>\n",
       "    .dataframe tbody tr th:only-of-type {\n",
       "        vertical-align: middle;\n",
       "    }\n",
       "\n",
       "    .dataframe tbody tr th {\n",
       "        vertical-align: top;\n",
       "    }\n",
       "\n",
       "    .dataframe thead th {\n",
       "        text-align: right;\n",
       "    }\n",
       "</style>\n",
       "<table border=\"1\" class=\"dataframe\">\n",
       "  <thead>\n",
       "    <tr style=\"text-align: right;\">\n",
       "      <th></th>\n",
       "      <th>Anno</th>\n",
       "      <th>Clave_Ent</th>\n",
       "      <th>Entidad</th>\n",
       "      <th>Bien_juridico_afectado</th>\n",
       "      <th>Delito</th>\n",
       "      <th>Subtipo_delito</th>\n",
       "      <th>Modalidad</th>\n",
       "      <th>Mes</th>\n",
       "      <th>Num_Incidencias</th>\n",
       "      <th>lat</th>\n",
       "      <th>lng</th>\n",
       "      <th>population</th>\n",
       "      <th>Inflacion</th>\n",
       "      <th>Desocupacion</th>\n",
       "      <th>Incidencias_Norm</th>\n",
       "    </tr>\n",
       "  </thead>\n",
       "  <tbody>\n",
       "    <tr>\n",
       "      <th>161472</th>\n",
       "      <td>2018</td>\n",
       "      <td>16</td>\n",
       "      <td>Michoacan de Ocampo</td>\n",
       "      <td>El patrimonio</td>\n",
       "      <td>Robo</td>\n",
       "      <td>Robo de ganado</td>\n",
       "      <td>Sin violencia</td>\n",
       "      <td>Julio</td>\n",
       "      <td>5.0</td>\n",
       "      <td>19.7683</td>\n",
       "      <td>-101.1894</td>\n",
       "      <td>784776.0</td>\n",
       "      <td>0.54</td>\n",
       "      <td>3.63</td>\n",
       "      <td>0.063712</td>\n",
       "    </tr>\n",
       "    <tr>\n",
       "      <th>137656</th>\n",
       "      <td>2018</td>\n",
       "      <td>29</td>\n",
       "      <td>Tlaxcala</td>\n",
       "      <td>El patrimonio</td>\n",
       "      <td>Robo</td>\n",
       "      <td>Robo a negocio</td>\n",
       "      <td>Sin violencia</td>\n",
       "      <td>Junio</td>\n",
       "      <td>7.0</td>\n",
       "      <td>19.3191</td>\n",
       "      <td>-98.1998</td>\n",
       "      <td>14692.0</td>\n",
       "      <td>0.39</td>\n",
       "      <td>3.32</td>\n",
       "      <td>4.764498</td>\n",
       "    </tr>\n",
       "    <tr>\n",
       "      <th>135130</th>\n",
       "      <td>2018</td>\n",
       "      <td>3</td>\n",
       "      <td>Baja California Sur</td>\n",
       "      <td>La sociedad</td>\n",
       "      <td>Trata de personas</td>\n",
       "      <td>Trata de personas</td>\n",
       "      <td>Trata de personas</td>\n",
       "      <td>Junio</td>\n",
       "      <td>0.0</td>\n",
       "      <td>24.1422</td>\n",
       "      <td>-110.3108</td>\n",
       "      <td>244219.0</td>\n",
       "      <td>0.39</td>\n",
       "      <td>3.32</td>\n",
       "      <td>0.000000</td>\n",
       "    </tr>\n",
       "    <tr>\n",
       "      <th>10304</th>\n",
       "      <td>2018</td>\n",
       "      <td>10</td>\n",
       "      <td>Durango</td>\n",
       "      <td>La vida y la Integridad corporal</td>\n",
       "      <td>Lesiones</td>\n",
       "      <td>Lesiones culposas</td>\n",
       "      <td>Con arma blanca</td>\n",
       "      <td>Enero</td>\n",
       "      <td>0.0</td>\n",
       "      <td>24.0167</td>\n",
       "      <td>-104.6667</td>\n",
       "      <td>654876.0</td>\n",
       "      <td>0.53</td>\n",
       "      <td>3.69</td>\n",
       "      <td>0.000000</td>\n",
       "    </tr>\n",
       "    <tr>\n",
       "      <th>212013</th>\n",
       "      <td>2018</td>\n",
       "      <td>20</td>\n",
       "      <td>Oaxaca</td>\n",
       "      <td>El patrimonio</td>\n",
       "      <td>Robo</td>\n",
       "      <td>Robo a casa habitacion</td>\n",
       "      <td>Con violencia</td>\n",
       "      <td>Septiembre</td>\n",
       "      <td>14.0</td>\n",
       "      <td>17.0833</td>\n",
       "      <td>-96.7500</td>\n",
       "      <td>300050.0</td>\n",
       "      <td>0.42</td>\n",
       "      <td>3.63</td>\n",
       "      <td>0.466589</td>\n",
       "    </tr>\n",
       "  </tbody>\n",
       "</table>\n",
       "</div>"
      ],
      "text/plain": [
       "        Anno  Clave_Ent              Entidad  \\\n",
       "161472  2018         16  Michoacan de Ocampo   \n",
       "137656  2018         29             Tlaxcala   \n",
       "135130  2018          3  Baja California Sur   \n",
       "10304   2018         10              Durango   \n",
       "212013  2018         20               Oaxaca   \n",
       "\n",
       "                  Bien_juridico_afectado             Delito  \\\n",
       "161472                     El patrimonio               Robo   \n",
       "137656                     El patrimonio               Robo   \n",
       "135130                       La sociedad  Trata de personas   \n",
       "10304   La vida y la Integridad corporal           Lesiones   \n",
       "212013                     El patrimonio               Robo   \n",
       "\n",
       "                Subtipo_delito          Modalidad         Mes  \\\n",
       "161472          Robo de ganado      Sin violencia       Julio   \n",
       "137656          Robo a negocio      Sin violencia       Junio   \n",
       "135130       Trata de personas  Trata de personas       Junio   \n",
       "10304        Lesiones culposas    Con arma blanca       Enero   \n",
       "212013  Robo a casa habitacion      Con violencia  Septiembre   \n",
       "\n",
       "        Num_Incidencias      lat       lng  population  Inflacion  \\\n",
       "161472              5.0  19.7683 -101.1894    784776.0       0.54   \n",
       "137656              7.0  19.3191  -98.1998     14692.0       0.39   \n",
       "135130              0.0  24.1422 -110.3108    244219.0       0.39   \n",
       "10304               0.0  24.0167 -104.6667    654876.0       0.53   \n",
       "212013             14.0  17.0833  -96.7500    300050.0       0.42   \n",
       "\n",
       "        Desocupacion  Incidencias_Norm  \n",
       "161472          3.63          0.063712  \n",
       "137656          3.32          4.764498  \n",
       "135130          3.32          0.000000  \n",
       "10304           3.69          0.000000  \n",
       "212013          3.63          0.466589  "
      ]
     },
     "execution_count": 150,
     "metadata": {},
     "output_type": "execute_result"
    }
   ],
   "source": [
    "test_set['Incidencias_Norm'] = test_set['Num_Incidencias'] * 10000 / test_set['population']\n",
    "test_set.head()"
   ]
  },
  {
   "cell_type": "code",
   "execution_count": 151,
   "metadata": {
    "scrolled": true
   },
   "outputs": [
    {
     "data": {
      "text/html": [
       "<div>\n",
       "<style scoped>\n",
       "    .dataframe tbody tr th:only-of-type {\n",
       "        vertical-align: middle;\n",
       "    }\n",
       "\n",
       "    .dataframe tbody tr th {\n",
       "        vertical-align: top;\n",
       "    }\n",
       "\n",
       "    .dataframe thead th {\n",
       "        text-align: right;\n",
       "    }\n",
       "</style>\n",
       "<table border=\"1\" class=\"dataframe\">\n",
       "  <thead>\n",
       "    <tr style=\"text-align: right;\">\n",
       "      <th></th>\n",
       "      <th>population</th>\n",
       "      <th>Inflacion</th>\n",
       "      <th>Desocupacion</th>\n",
       "      <th>Incidencias_Norm</th>\n",
       "    </tr>\n",
       "  </thead>\n",
       "  <tbody>\n",
       "    <tr>\n",
       "      <th>0</th>\n",
       "      <td>784776.0</td>\n",
       "      <td>0.54</td>\n",
       "      <td>3.63</td>\n",
       "      <td>0.063712</td>\n",
       "    </tr>\n",
       "    <tr>\n",
       "      <th>1</th>\n",
       "      <td>14692.0</td>\n",
       "      <td>0.39</td>\n",
       "      <td>3.32</td>\n",
       "      <td>4.764498</td>\n",
       "    </tr>\n",
       "    <tr>\n",
       "      <th>2</th>\n",
       "      <td>244219.0</td>\n",
       "      <td>0.39</td>\n",
       "      <td>3.32</td>\n",
       "      <td>0.000000</td>\n",
       "    </tr>\n",
       "    <tr>\n",
       "      <th>3</th>\n",
       "      <td>654876.0</td>\n",
       "      <td>0.53</td>\n",
       "      <td>3.69</td>\n",
       "      <td>0.000000</td>\n",
       "    </tr>\n",
       "    <tr>\n",
       "      <th>4</th>\n",
       "      <td>300050.0</td>\n",
       "      <td>0.42</td>\n",
       "      <td>3.63</td>\n",
       "      <td>0.466589</td>\n",
       "    </tr>\n",
       "  </tbody>\n",
       "</table>\n",
       "</div>"
      ],
      "text/plain": [
       "   population  Inflacion  Desocupacion  Incidencias_Norm\n",
       "0    784776.0       0.54          3.63          0.063712\n",
       "1     14692.0       0.39          3.32          4.764498\n",
       "2    244219.0       0.39          3.32          0.000000\n",
       "3    654876.0       0.53          3.69          0.000000\n",
       "4    300050.0       0.42          3.63          0.466589"
      ]
     },
     "execution_count": 151,
     "metadata": {},
     "output_type": "execute_result"
    }
   ],
   "source": [
    "test_set_num = test_set[['population', 'Inflacion', 'Desocupacion', 'Incidencias_Norm']]\n",
    "test_set_num = test_set_num.reset_index(drop=True)\n",
    "test_set_num.head(5)"
   ]
  },
  {
   "cell_type": "code",
   "execution_count": 152,
   "metadata": {},
   "outputs": [
    {
     "data": {
      "text/html": [
       "<div>\n",
       "<style scoped>\n",
       "    .dataframe tbody tr th:only-of-type {\n",
       "        vertical-align: middle;\n",
       "    }\n",
       "\n",
       "    .dataframe tbody tr th {\n",
       "        vertical-align: top;\n",
       "    }\n",
       "\n",
       "    .dataframe thead th {\n",
       "        text-align: right;\n",
       "    }\n",
       "</style>\n",
       "<table border=\"1\" class=\"dataframe\">\n",
       "  <thead>\n",
       "    <tr style=\"text-align: right;\">\n",
       "      <th></th>\n",
       "      <th>0</th>\n",
       "      <th>1</th>\n",
       "      <th>2</th>\n",
       "      <th>3</th>\n",
       "      <th>4</th>\n",
       "      <th>5</th>\n",
       "      <th>6</th>\n",
       "      <th>7</th>\n",
       "      <th>8</th>\n",
       "      <th>9</th>\n",
       "      <th>...</th>\n",
       "      <th>199</th>\n",
       "      <th>200</th>\n",
       "      <th>201</th>\n",
       "      <th>202</th>\n",
       "      <th>203</th>\n",
       "      <th>204</th>\n",
       "      <th>population</th>\n",
       "      <th>Inflacion</th>\n",
       "      <th>Desocupacion</th>\n",
       "      <th>Incidencias_Norm</th>\n",
       "    </tr>\n",
       "  </thead>\n",
       "  <tbody>\n",
       "    <tr>\n",
       "      <th>0</th>\n",
       "      <td>0.0</td>\n",
       "      <td>0.0</td>\n",
       "      <td>0.0</td>\n",
       "      <td>0.0</td>\n",
       "      <td>0.0</td>\n",
       "      <td>0.0</td>\n",
       "      <td>0.0</td>\n",
       "      <td>0.0</td>\n",
       "      <td>0.0</td>\n",
       "      <td>0.0</td>\n",
       "      <td>...</td>\n",
       "      <td>0.0</td>\n",
       "      <td>0.0</td>\n",
       "      <td>0.0</td>\n",
       "      <td>0.0</td>\n",
       "      <td>0.0</td>\n",
       "      <td>0.0</td>\n",
       "      <td>784776.0</td>\n",
       "      <td>0.54</td>\n",
       "      <td>3.63</td>\n",
       "      <td>0.063712</td>\n",
       "    </tr>\n",
       "    <tr>\n",
       "      <th>1</th>\n",
       "      <td>0.0</td>\n",
       "      <td>0.0</td>\n",
       "      <td>0.0</td>\n",
       "      <td>0.0</td>\n",
       "      <td>0.0</td>\n",
       "      <td>0.0</td>\n",
       "      <td>0.0</td>\n",
       "      <td>0.0</td>\n",
       "      <td>0.0</td>\n",
       "      <td>0.0</td>\n",
       "      <td>...</td>\n",
       "      <td>1.0</td>\n",
       "      <td>0.0</td>\n",
       "      <td>0.0</td>\n",
       "      <td>0.0</td>\n",
       "      <td>0.0</td>\n",
       "      <td>0.0</td>\n",
       "      <td>14692.0</td>\n",
       "      <td>0.39</td>\n",
       "      <td>3.32</td>\n",
       "      <td>4.764498</td>\n",
       "    </tr>\n",
       "    <tr>\n",
       "      <th>2</th>\n",
       "      <td>0.0</td>\n",
       "      <td>0.0</td>\n",
       "      <td>1.0</td>\n",
       "      <td>0.0</td>\n",
       "      <td>0.0</td>\n",
       "      <td>0.0</td>\n",
       "      <td>0.0</td>\n",
       "      <td>0.0</td>\n",
       "      <td>0.0</td>\n",
       "      <td>0.0</td>\n",
       "      <td>...</td>\n",
       "      <td>1.0</td>\n",
       "      <td>0.0</td>\n",
       "      <td>0.0</td>\n",
       "      <td>0.0</td>\n",
       "      <td>0.0</td>\n",
       "      <td>0.0</td>\n",
       "      <td>244219.0</td>\n",
       "      <td>0.39</td>\n",
       "      <td>3.32</td>\n",
       "      <td>0.000000</td>\n",
       "    </tr>\n",
       "    <tr>\n",
       "      <th>3</th>\n",
       "      <td>0.0</td>\n",
       "      <td>0.0</td>\n",
       "      <td>0.0</td>\n",
       "      <td>0.0</td>\n",
       "      <td>0.0</td>\n",
       "      <td>0.0</td>\n",
       "      <td>0.0</td>\n",
       "      <td>0.0</td>\n",
       "      <td>0.0</td>\n",
       "      <td>1.0</td>\n",
       "      <td>...</td>\n",
       "      <td>0.0</td>\n",
       "      <td>0.0</td>\n",
       "      <td>0.0</td>\n",
       "      <td>0.0</td>\n",
       "      <td>0.0</td>\n",
       "      <td>0.0</td>\n",
       "      <td>654876.0</td>\n",
       "      <td>0.53</td>\n",
       "      <td>3.69</td>\n",
       "      <td>0.000000</td>\n",
       "    </tr>\n",
       "    <tr>\n",
       "      <th>4</th>\n",
       "      <td>0.0</td>\n",
       "      <td>0.0</td>\n",
       "      <td>0.0</td>\n",
       "      <td>0.0</td>\n",
       "      <td>0.0</td>\n",
       "      <td>0.0</td>\n",
       "      <td>0.0</td>\n",
       "      <td>0.0</td>\n",
       "      <td>0.0</td>\n",
       "      <td>0.0</td>\n",
       "      <td>...</td>\n",
       "      <td>0.0</td>\n",
       "      <td>0.0</td>\n",
       "      <td>0.0</td>\n",
       "      <td>0.0</td>\n",
       "      <td>0.0</td>\n",
       "      <td>1.0</td>\n",
       "      <td>300050.0</td>\n",
       "      <td>0.42</td>\n",
       "      <td>3.63</td>\n",
       "      <td>0.466589</td>\n",
       "    </tr>\n",
       "    <tr>\n",
       "      <th>...</th>\n",
       "      <td>...</td>\n",
       "      <td>...</td>\n",
       "      <td>...</td>\n",
       "      <td>...</td>\n",
       "      <td>...</td>\n",
       "      <td>...</td>\n",
       "      <td>...</td>\n",
       "      <td>...</td>\n",
       "      <td>...</td>\n",
       "      <td>...</td>\n",
       "      <td>...</td>\n",
       "      <td>...</td>\n",
       "      <td>...</td>\n",
       "      <td>...</td>\n",
       "      <td>...</td>\n",
       "      <td>...</td>\n",
       "      <td>...</td>\n",
       "      <td>...</td>\n",
       "      <td>...</td>\n",
       "      <td>...</td>\n",
       "      <td>...</td>\n",
       "    </tr>\n",
       "    <tr>\n",
       "      <th>7522</th>\n",
       "      <td>0.0</td>\n",
       "      <td>0.0</td>\n",
       "      <td>0.0</td>\n",
       "      <td>0.0</td>\n",
       "      <td>0.0</td>\n",
       "      <td>0.0</td>\n",
       "      <td>0.0</td>\n",
       "      <td>0.0</td>\n",
       "      <td>0.0</td>\n",
       "      <td>0.0</td>\n",
       "      <td>...</td>\n",
       "      <td>0.0</td>\n",
       "      <td>0.0</td>\n",
       "      <td>0.0</td>\n",
       "      <td>0.0</td>\n",
       "      <td>0.0</td>\n",
       "      <td>0.0</td>\n",
       "      <td>14692.0</td>\n",
       "      <td>0.54</td>\n",
       "      <td>3.63</td>\n",
       "      <td>0.000000</td>\n",
       "    </tr>\n",
       "    <tr>\n",
       "      <th>7523</th>\n",
       "      <td>0.0</td>\n",
       "      <td>0.0</td>\n",
       "      <td>0.0</td>\n",
       "      <td>0.0</td>\n",
       "      <td>0.0</td>\n",
       "      <td>0.0</td>\n",
       "      <td>0.0</td>\n",
       "      <td>0.0</td>\n",
       "      <td>0.0</td>\n",
       "      <td>0.0</td>\n",
       "      <td>...</td>\n",
       "      <td>0.0</td>\n",
       "      <td>0.0</td>\n",
       "      <td>0.0</td>\n",
       "      <td>0.0</td>\n",
       "      <td>0.0</td>\n",
       "      <td>0.0</td>\n",
       "      <td>277375.0</td>\n",
       "      <td>0.53</td>\n",
       "      <td>3.69</td>\n",
       "      <td>0.000000</td>\n",
       "    </tr>\n",
       "    <tr>\n",
       "      <th>7524</th>\n",
       "      <td>0.0</td>\n",
       "      <td>0.0</td>\n",
       "      <td>0.0</td>\n",
       "      <td>0.0</td>\n",
       "      <td>0.0</td>\n",
       "      <td>0.0</td>\n",
       "      <td>0.0</td>\n",
       "      <td>0.0</td>\n",
       "      <td>0.0</td>\n",
       "      <td>0.0</td>\n",
       "      <td>...</td>\n",
       "      <td>0.0</td>\n",
       "      <td>0.0</td>\n",
       "      <td>0.0</td>\n",
       "      <td>0.0</td>\n",
       "      <td>0.0</td>\n",
       "      <td>0.0</td>\n",
       "      <td>151243.0</td>\n",
       "      <td>NaN</td>\n",
       "      <td>3.69</td>\n",
       "      <td>0.000000</td>\n",
       "    </tr>\n",
       "    <tr>\n",
       "      <th>7525</th>\n",
       "      <td>0.0</td>\n",
       "      <td>0.0</td>\n",
       "      <td>0.0</td>\n",
       "      <td>0.0</td>\n",
       "      <td>0.0</td>\n",
       "      <td>0.0</td>\n",
       "      <td>0.0</td>\n",
       "      <td>0.0</td>\n",
       "      <td>0.0</td>\n",
       "      <td>0.0</td>\n",
       "      <td>...</td>\n",
       "      <td>0.0</td>\n",
       "      <td>0.0</td>\n",
       "      <td>1.0</td>\n",
       "      <td>0.0</td>\n",
       "      <td>0.0</td>\n",
       "      <td>0.0</td>\n",
       "      <td>366321.0</td>\n",
       "      <td>-0.16</td>\n",
       "      <td>3.32</td>\n",
       "      <td>0.000000</td>\n",
       "    </tr>\n",
       "    <tr>\n",
       "      <th>7526</th>\n",
       "      <td>0.0</td>\n",
       "      <td>0.0</td>\n",
       "      <td>0.0</td>\n",
       "      <td>0.0</td>\n",
       "      <td>0.0</td>\n",
       "      <td>0.0</td>\n",
       "      <td>0.0</td>\n",
       "      <td>0.0</td>\n",
       "      <td>0.0</td>\n",
       "      <td>0.0</td>\n",
       "      <td>...</td>\n",
       "      <td>0.0</td>\n",
       "      <td>0.0</td>\n",
       "      <td>0.0</td>\n",
       "      <td>0.0</td>\n",
       "      <td>1.0</td>\n",
       "      <td>0.0</td>\n",
       "      <td>332863.0</td>\n",
       "      <td>0.52</td>\n",
       "      <td>3.17</td>\n",
       "      <td>0.000000</td>\n",
       "    </tr>\n",
       "  </tbody>\n",
       "</table>\n",
       "<p>7527 rows × 209 columns</p>\n",
       "</div>"
      ],
      "text/plain": [
       "        0    1    2    3    4    5    6    7    8    9  ...  199  200  201  \\\n",
       "0     0.0  0.0  0.0  0.0  0.0  0.0  0.0  0.0  0.0  0.0  ...  0.0  0.0  0.0   \n",
       "1     0.0  0.0  0.0  0.0  0.0  0.0  0.0  0.0  0.0  0.0  ...  1.0  0.0  0.0   \n",
       "2     0.0  0.0  1.0  0.0  0.0  0.0  0.0  0.0  0.0  0.0  ...  1.0  0.0  0.0   \n",
       "3     0.0  0.0  0.0  0.0  0.0  0.0  0.0  0.0  0.0  1.0  ...  0.0  0.0  0.0   \n",
       "4     0.0  0.0  0.0  0.0  0.0  0.0  0.0  0.0  0.0  0.0  ...  0.0  0.0  0.0   \n",
       "...   ...  ...  ...  ...  ...  ...  ...  ...  ...  ...  ...  ...  ...  ...   \n",
       "7522  0.0  0.0  0.0  0.0  0.0  0.0  0.0  0.0  0.0  0.0  ...  0.0  0.0  0.0   \n",
       "7523  0.0  0.0  0.0  0.0  0.0  0.0  0.0  0.0  0.0  0.0  ...  0.0  0.0  0.0   \n",
       "7524  0.0  0.0  0.0  0.0  0.0  0.0  0.0  0.0  0.0  0.0  ...  0.0  0.0  0.0   \n",
       "7525  0.0  0.0  0.0  0.0  0.0  0.0  0.0  0.0  0.0  0.0  ...  0.0  0.0  1.0   \n",
       "7526  0.0  0.0  0.0  0.0  0.0  0.0  0.0  0.0  0.0  0.0  ...  0.0  0.0  0.0   \n",
       "\n",
       "      202  203  204  population  Inflacion  Desocupacion  Incidencias_Norm  \n",
       "0     0.0  0.0  0.0    784776.0       0.54          3.63          0.063712  \n",
       "1     0.0  0.0  0.0     14692.0       0.39          3.32          4.764498  \n",
       "2     0.0  0.0  0.0    244219.0       0.39          3.32          0.000000  \n",
       "3     0.0  0.0  0.0    654876.0       0.53          3.69          0.000000  \n",
       "4     0.0  0.0  1.0    300050.0       0.42          3.63          0.466589  \n",
       "...   ...  ...  ...         ...        ...           ...               ...  \n",
       "7522  0.0  0.0  0.0     14692.0       0.54          3.63          0.000000  \n",
       "7523  0.0  0.0  0.0    277375.0       0.53          3.69          0.000000  \n",
       "7524  0.0  0.0  0.0    151243.0        NaN          3.69          0.000000  \n",
       "7525  0.0  0.0  0.0    366321.0      -0.16          3.32          0.000000  \n",
       "7526  0.0  1.0  0.0    332863.0       0.52          3.17          0.000000  \n",
       "\n",
       "[7527 rows x 209 columns]"
      ]
     },
     "execution_count": 152,
     "metadata": {},
     "output_type": "execute_result"
    }
   ],
   "source": [
    "test_set_num['index'] = test_set_num.index\n",
    "test_set = incidencias_cat_1hot.merge(test_set_num, left_on='index', right_on='index')\n",
    "test_set.drop(columns=['index'])"
   ]
  },
  {
   "cell_type": "code",
   "execution_count": 153,
   "metadata": {},
   "outputs": [
    {
     "name": "stderr",
     "output_type": "stream",
     "text": [
      "C:\\Users\\carme\\anaconda3\\lib\\site-packages\\sklearn\\utils\\validation.py:1688: FutureWarning: Feature names only support names that are all strings. Got feature names with dtypes: ['int', 'str']. An error will be raised in 1.2.\n",
      "  warnings.warn(\n",
      "C:\\Users\\carme\\anaconda3\\lib\\site-packages\\sklearn\\utils\\validation.py:624: UserWarning: pandas.DataFrame with sparse columns found.It will be converted to a dense numpy array.\n",
      "  warnings.warn(\n"
     ]
    },
    {
     "data": {
      "text/plain": [
       "array([0.00000000e+00, 0.00000000e+00, 0.00000000e+00, 0.00000000e+00,\n",
       "       0.00000000e+00, 0.00000000e+00, 0.00000000e+00, 0.00000000e+00,\n",
       "       0.00000000e+00, 0.00000000e+00, 0.00000000e+00, 0.00000000e+00,\n",
       "       0.00000000e+00, 0.00000000e+00, 0.00000000e+00, 0.00000000e+00,\n",
       "       0.00000000e+00, 0.00000000e+00, 0.00000000e+00, 0.00000000e+00,\n",
       "       0.00000000e+00, 0.00000000e+00, 0.00000000e+00, 0.00000000e+00,\n",
       "       0.00000000e+00, 0.00000000e+00, 0.00000000e+00, 0.00000000e+00,\n",
       "       0.00000000e+00, 0.00000000e+00, 0.00000000e+00, 0.00000000e+00,\n",
       "       0.00000000e+00, 0.00000000e+00, 0.00000000e+00, 0.00000000e+00,\n",
       "       0.00000000e+00, 0.00000000e+00, 0.00000000e+00, 0.00000000e+00,\n",
       "       0.00000000e+00, 0.00000000e+00, 0.00000000e+00, 0.00000000e+00,\n",
       "       0.00000000e+00, 0.00000000e+00, 0.00000000e+00, 0.00000000e+00,\n",
       "       0.00000000e+00, 0.00000000e+00, 0.00000000e+00, 0.00000000e+00,\n",
       "       0.00000000e+00, 0.00000000e+00, 0.00000000e+00, 0.00000000e+00,\n",
       "       0.00000000e+00, 0.00000000e+00, 0.00000000e+00, 0.00000000e+00,\n",
       "       0.00000000e+00, 0.00000000e+00, 0.00000000e+00, 0.00000000e+00,\n",
       "       0.00000000e+00, 0.00000000e+00, 0.00000000e+00, 0.00000000e+00,\n",
       "       0.00000000e+00, 0.00000000e+00, 0.00000000e+00, 0.00000000e+00,\n",
       "       0.00000000e+00, 0.00000000e+00, 0.00000000e+00, 0.00000000e+00,\n",
       "       0.00000000e+00, 0.00000000e+00, 0.00000000e+00, 0.00000000e+00,\n",
       "       0.00000000e+00, 0.00000000e+00, 0.00000000e+00, 0.00000000e+00,\n",
       "       0.00000000e+00, 0.00000000e+00, 0.00000000e+00, 0.00000000e+00,\n",
       "       0.00000000e+00, 0.00000000e+00, 0.00000000e+00, 0.00000000e+00,\n",
       "       0.00000000e+00, 0.00000000e+00, 0.00000000e+00, 0.00000000e+00,\n",
       "       0.00000000e+00, 0.00000000e+00, 0.00000000e+00, 0.00000000e+00,\n",
       "       0.00000000e+00, 0.00000000e+00, 0.00000000e+00, 0.00000000e+00,\n",
       "       0.00000000e+00, 0.00000000e+00, 0.00000000e+00, 0.00000000e+00,\n",
       "       0.00000000e+00, 0.00000000e+00, 0.00000000e+00, 0.00000000e+00,\n",
       "       0.00000000e+00, 0.00000000e+00, 0.00000000e+00, 0.00000000e+00,\n",
       "       0.00000000e+00, 0.00000000e+00, 0.00000000e+00, 0.00000000e+00,\n",
       "       0.00000000e+00, 0.00000000e+00, 0.00000000e+00, 0.00000000e+00,\n",
       "       0.00000000e+00, 0.00000000e+00, 0.00000000e+00, 0.00000000e+00,\n",
       "       0.00000000e+00, 0.00000000e+00, 0.00000000e+00, 0.00000000e+00,\n",
       "       0.00000000e+00, 0.00000000e+00, 0.00000000e+00, 0.00000000e+00,\n",
       "       0.00000000e+00, 0.00000000e+00, 0.00000000e+00, 0.00000000e+00,\n",
       "       0.00000000e+00, 0.00000000e+00, 0.00000000e+00, 0.00000000e+00,\n",
       "       0.00000000e+00, 0.00000000e+00, 0.00000000e+00, 0.00000000e+00,\n",
       "       0.00000000e+00, 0.00000000e+00, 0.00000000e+00, 0.00000000e+00,\n",
       "       0.00000000e+00, 0.00000000e+00, 0.00000000e+00, 0.00000000e+00,\n",
       "       0.00000000e+00, 0.00000000e+00, 0.00000000e+00, 0.00000000e+00,\n",
       "       0.00000000e+00, 0.00000000e+00, 0.00000000e+00, 0.00000000e+00,\n",
       "       0.00000000e+00, 0.00000000e+00, 0.00000000e+00, 0.00000000e+00,\n",
       "       0.00000000e+00, 0.00000000e+00, 0.00000000e+00, 0.00000000e+00,\n",
       "       0.00000000e+00, 0.00000000e+00, 0.00000000e+00, 0.00000000e+00,\n",
       "       0.00000000e+00, 0.00000000e+00, 0.00000000e+00, 0.00000000e+00,\n",
       "       0.00000000e+00, 0.00000000e+00, 0.00000000e+00, 0.00000000e+00,\n",
       "       0.00000000e+00, 0.00000000e+00, 0.00000000e+00, 0.00000000e+00,\n",
       "       0.00000000e+00, 0.00000000e+00, 0.00000000e+00, 0.00000000e+00,\n",
       "       0.00000000e+00, 0.00000000e+00, 0.00000000e+00, 0.00000000e+00,\n",
       "       0.00000000e+00, 0.00000000e+00, 0.00000000e+00, 0.00000000e+00,\n",
       "       0.00000000e+00, 0.00000000e+00, 0.00000000e+00, 0.00000000e+00,\n",
       "       0.00000000e+00, 3.76300000e+03, 6.40359000e+05, 5.20000000e-01,\n",
       "       3.63000000e+00, 3.33396837e-02])"
      ]
     },
     "execution_count": 153,
     "metadata": {},
     "output_type": "execute_result"
    }
   ],
   "source": [
    "imputer = SimpleImputer(strategy=\"median\")\n",
    "imputer.fit(test_set)\n",
    "imputer.statistics_"
   ]
  },
  {
   "cell_type": "code",
   "execution_count": 154,
   "metadata": {},
   "outputs": [
    {
     "name": "stderr",
     "output_type": "stream",
     "text": [
      "C:\\Users\\carme\\AppData\\Local\\Temp\\ipykernel_37252\\537650763.py:1: FutureWarning: Dropping of nuisance columns in DataFrame reductions (with 'numeric_only=None') is deprecated; in a future version this will raise TypeError.  Select only valid columns before calling the reduction.\n",
      "  test_set.median().values\n"
     ]
    },
    {
     "data": {
      "text/plain": [
       "array([3.76300000e+03, 6.40359000e+05, 5.20000000e-01, 3.63000000e+00,\n",
       "       3.33396837e-02])"
      ]
     },
     "execution_count": 154,
     "metadata": {},
     "output_type": "execute_result"
    }
   ],
   "source": [
    "test_set.median().values"
   ]
  },
  {
   "cell_type": "code",
   "execution_count": 155,
   "metadata": {},
   "outputs": [
    {
     "name": "stderr",
     "output_type": "stream",
     "text": [
      "C:\\Users\\carme\\anaconda3\\lib\\site-packages\\sklearn\\utils\\validation.py:1688: FutureWarning: Feature names only support names that are all strings. Got feature names with dtypes: ['int', 'str']. An error will be raised in 1.2.\n",
      "  warnings.warn(\n",
      "C:\\Users\\carme\\anaconda3\\lib\\site-packages\\sklearn\\utils\\validation.py:624: UserWarning: pandas.DataFrame with sparse columns found.It will be converted to a dense numpy array.\n",
      "  warnings.warn(\n"
     ]
    }
   ],
   "source": [
    "X = imputer.transform(test_set)\n",
    "test_set_tr = pd.DataFrame(X, columns=test_set.columns)"
   ]
  },
  {
   "cell_type": "code",
   "execution_count": 156,
   "metadata": {},
   "outputs": [],
   "source": [
    "test_ind = test_set_tr['Incidencias_Norm']\n",
    "test_ind = test_ind.to_frame().to_numpy()"
   ]
  },
  {
   "cell_type": "code",
   "execution_count": 157,
   "metadata": {},
   "outputs": [
    {
     "data": {
      "text/plain": [
       "(7527, 1)"
      ]
     },
     "execution_count": 157,
     "metadata": {},
     "output_type": "execute_result"
    }
   ],
   "source": [
    "test_ind.shape"
   ]
  },
  {
   "cell_type": "code",
   "execution_count": 158,
   "metadata": {},
   "outputs": [
    {
     "data": {
      "text/html": [
       "<div>\n",
       "<style scoped>\n",
       "    .dataframe tbody tr th:only-of-type {\n",
       "        vertical-align: middle;\n",
       "    }\n",
       "\n",
       "    .dataframe tbody tr th {\n",
       "        vertical-align: top;\n",
       "    }\n",
       "\n",
       "    .dataframe thead th {\n",
       "        text-align: right;\n",
       "    }\n",
       "</style>\n",
       "<table border=\"1\" class=\"dataframe\">\n",
       "  <thead>\n",
       "    <tr style=\"text-align: right;\">\n",
       "      <th></th>\n",
       "      <th>0</th>\n",
       "      <th>1</th>\n",
       "      <th>2</th>\n",
       "      <th>3</th>\n",
       "      <th>4</th>\n",
       "      <th>5</th>\n",
       "      <th>6</th>\n",
       "      <th>7</th>\n",
       "      <th>8</th>\n",
       "      <th>9</th>\n",
       "      <th>...</th>\n",
       "      <th>199</th>\n",
       "      <th>200</th>\n",
       "      <th>201</th>\n",
       "      <th>202</th>\n",
       "      <th>203</th>\n",
       "      <th>204</th>\n",
       "      <th>index</th>\n",
       "      <th>population</th>\n",
       "      <th>Inflacion</th>\n",
       "      <th>Desocupacion</th>\n",
       "    </tr>\n",
       "  </thead>\n",
       "  <tbody>\n",
       "    <tr>\n",
       "      <th>0</th>\n",
       "      <td>0.0</td>\n",
       "      <td>0.0</td>\n",
       "      <td>0.0</td>\n",
       "      <td>0.0</td>\n",
       "      <td>0.0</td>\n",
       "      <td>0.0</td>\n",
       "      <td>0.0</td>\n",
       "      <td>0.0</td>\n",
       "      <td>0.0</td>\n",
       "      <td>0.0</td>\n",
       "      <td>...</td>\n",
       "      <td>0.0</td>\n",
       "      <td>0.0</td>\n",
       "      <td>0.0</td>\n",
       "      <td>0.0</td>\n",
       "      <td>0.0</td>\n",
       "      <td>0.0</td>\n",
       "      <td>0.0</td>\n",
       "      <td>784776.0</td>\n",
       "      <td>0.54</td>\n",
       "      <td>3.63</td>\n",
       "    </tr>\n",
       "    <tr>\n",
       "      <th>1</th>\n",
       "      <td>0.0</td>\n",
       "      <td>0.0</td>\n",
       "      <td>0.0</td>\n",
       "      <td>0.0</td>\n",
       "      <td>0.0</td>\n",
       "      <td>0.0</td>\n",
       "      <td>0.0</td>\n",
       "      <td>0.0</td>\n",
       "      <td>0.0</td>\n",
       "      <td>0.0</td>\n",
       "      <td>...</td>\n",
       "      <td>1.0</td>\n",
       "      <td>0.0</td>\n",
       "      <td>0.0</td>\n",
       "      <td>0.0</td>\n",
       "      <td>0.0</td>\n",
       "      <td>0.0</td>\n",
       "      <td>1.0</td>\n",
       "      <td>14692.0</td>\n",
       "      <td>0.39</td>\n",
       "      <td>3.32</td>\n",
       "    </tr>\n",
       "    <tr>\n",
       "      <th>2</th>\n",
       "      <td>0.0</td>\n",
       "      <td>0.0</td>\n",
       "      <td>1.0</td>\n",
       "      <td>0.0</td>\n",
       "      <td>0.0</td>\n",
       "      <td>0.0</td>\n",
       "      <td>0.0</td>\n",
       "      <td>0.0</td>\n",
       "      <td>0.0</td>\n",
       "      <td>0.0</td>\n",
       "      <td>...</td>\n",
       "      <td>1.0</td>\n",
       "      <td>0.0</td>\n",
       "      <td>0.0</td>\n",
       "      <td>0.0</td>\n",
       "      <td>0.0</td>\n",
       "      <td>0.0</td>\n",
       "      <td>2.0</td>\n",
       "      <td>244219.0</td>\n",
       "      <td>0.39</td>\n",
       "      <td>3.32</td>\n",
       "    </tr>\n",
       "    <tr>\n",
       "      <th>3</th>\n",
       "      <td>0.0</td>\n",
       "      <td>0.0</td>\n",
       "      <td>0.0</td>\n",
       "      <td>0.0</td>\n",
       "      <td>0.0</td>\n",
       "      <td>0.0</td>\n",
       "      <td>0.0</td>\n",
       "      <td>0.0</td>\n",
       "      <td>0.0</td>\n",
       "      <td>1.0</td>\n",
       "      <td>...</td>\n",
       "      <td>0.0</td>\n",
       "      <td>0.0</td>\n",
       "      <td>0.0</td>\n",
       "      <td>0.0</td>\n",
       "      <td>0.0</td>\n",
       "      <td>0.0</td>\n",
       "      <td>3.0</td>\n",
       "      <td>654876.0</td>\n",
       "      <td>0.53</td>\n",
       "      <td>3.69</td>\n",
       "    </tr>\n",
       "    <tr>\n",
       "      <th>4</th>\n",
       "      <td>0.0</td>\n",
       "      <td>0.0</td>\n",
       "      <td>0.0</td>\n",
       "      <td>0.0</td>\n",
       "      <td>0.0</td>\n",
       "      <td>0.0</td>\n",
       "      <td>0.0</td>\n",
       "      <td>0.0</td>\n",
       "      <td>0.0</td>\n",
       "      <td>0.0</td>\n",
       "      <td>...</td>\n",
       "      <td>0.0</td>\n",
       "      <td>0.0</td>\n",
       "      <td>0.0</td>\n",
       "      <td>0.0</td>\n",
       "      <td>0.0</td>\n",
       "      <td>1.0</td>\n",
       "      <td>4.0</td>\n",
       "      <td>300050.0</td>\n",
       "      <td>0.42</td>\n",
       "      <td>3.63</td>\n",
       "    </tr>\n",
       "    <tr>\n",
       "      <th>...</th>\n",
       "      <td>...</td>\n",
       "      <td>...</td>\n",
       "      <td>...</td>\n",
       "      <td>...</td>\n",
       "      <td>...</td>\n",
       "      <td>...</td>\n",
       "      <td>...</td>\n",
       "      <td>...</td>\n",
       "      <td>...</td>\n",
       "      <td>...</td>\n",
       "      <td>...</td>\n",
       "      <td>...</td>\n",
       "      <td>...</td>\n",
       "      <td>...</td>\n",
       "      <td>...</td>\n",
       "      <td>...</td>\n",
       "      <td>...</td>\n",
       "      <td>...</td>\n",
       "      <td>...</td>\n",
       "      <td>...</td>\n",
       "      <td>...</td>\n",
       "    </tr>\n",
       "    <tr>\n",
       "      <th>7522</th>\n",
       "      <td>0.0</td>\n",
       "      <td>0.0</td>\n",
       "      <td>0.0</td>\n",
       "      <td>0.0</td>\n",
       "      <td>0.0</td>\n",
       "      <td>0.0</td>\n",
       "      <td>0.0</td>\n",
       "      <td>0.0</td>\n",
       "      <td>0.0</td>\n",
       "      <td>0.0</td>\n",
       "      <td>...</td>\n",
       "      <td>0.0</td>\n",
       "      <td>0.0</td>\n",
       "      <td>0.0</td>\n",
       "      <td>0.0</td>\n",
       "      <td>0.0</td>\n",
       "      <td>0.0</td>\n",
       "      <td>7522.0</td>\n",
       "      <td>14692.0</td>\n",
       "      <td>0.54</td>\n",
       "      <td>3.63</td>\n",
       "    </tr>\n",
       "    <tr>\n",
       "      <th>7523</th>\n",
       "      <td>0.0</td>\n",
       "      <td>0.0</td>\n",
       "      <td>0.0</td>\n",
       "      <td>0.0</td>\n",
       "      <td>0.0</td>\n",
       "      <td>0.0</td>\n",
       "      <td>0.0</td>\n",
       "      <td>0.0</td>\n",
       "      <td>0.0</td>\n",
       "      <td>0.0</td>\n",
       "      <td>...</td>\n",
       "      <td>0.0</td>\n",
       "      <td>0.0</td>\n",
       "      <td>0.0</td>\n",
       "      <td>0.0</td>\n",
       "      <td>0.0</td>\n",
       "      <td>0.0</td>\n",
       "      <td>7523.0</td>\n",
       "      <td>277375.0</td>\n",
       "      <td>0.53</td>\n",
       "      <td>3.69</td>\n",
       "    </tr>\n",
       "    <tr>\n",
       "      <th>7524</th>\n",
       "      <td>0.0</td>\n",
       "      <td>0.0</td>\n",
       "      <td>0.0</td>\n",
       "      <td>0.0</td>\n",
       "      <td>0.0</td>\n",
       "      <td>0.0</td>\n",
       "      <td>0.0</td>\n",
       "      <td>0.0</td>\n",
       "      <td>0.0</td>\n",
       "      <td>0.0</td>\n",
       "      <td>...</td>\n",
       "      <td>0.0</td>\n",
       "      <td>0.0</td>\n",
       "      <td>0.0</td>\n",
       "      <td>0.0</td>\n",
       "      <td>0.0</td>\n",
       "      <td>0.0</td>\n",
       "      <td>7524.0</td>\n",
       "      <td>151243.0</td>\n",
       "      <td>0.52</td>\n",
       "      <td>3.69</td>\n",
       "    </tr>\n",
       "    <tr>\n",
       "      <th>7525</th>\n",
       "      <td>0.0</td>\n",
       "      <td>0.0</td>\n",
       "      <td>0.0</td>\n",
       "      <td>0.0</td>\n",
       "      <td>0.0</td>\n",
       "      <td>0.0</td>\n",
       "      <td>0.0</td>\n",
       "      <td>0.0</td>\n",
       "      <td>0.0</td>\n",
       "      <td>0.0</td>\n",
       "      <td>...</td>\n",
       "      <td>0.0</td>\n",
       "      <td>0.0</td>\n",
       "      <td>1.0</td>\n",
       "      <td>0.0</td>\n",
       "      <td>0.0</td>\n",
       "      <td>0.0</td>\n",
       "      <td>7525.0</td>\n",
       "      <td>366321.0</td>\n",
       "      <td>-0.16</td>\n",
       "      <td>3.32</td>\n",
       "    </tr>\n",
       "    <tr>\n",
       "      <th>7526</th>\n",
       "      <td>0.0</td>\n",
       "      <td>0.0</td>\n",
       "      <td>0.0</td>\n",
       "      <td>0.0</td>\n",
       "      <td>0.0</td>\n",
       "      <td>0.0</td>\n",
       "      <td>0.0</td>\n",
       "      <td>0.0</td>\n",
       "      <td>0.0</td>\n",
       "      <td>0.0</td>\n",
       "      <td>...</td>\n",
       "      <td>0.0</td>\n",
       "      <td>0.0</td>\n",
       "      <td>0.0</td>\n",
       "      <td>0.0</td>\n",
       "      <td>1.0</td>\n",
       "      <td>0.0</td>\n",
       "      <td>7526.0</td>\n",
       "      <td>332863.0</td>\n",
       "      <td>0.52</td>\n",
       "      <td>3.17</td>\n",
       "    </tr>\n",
       "  </tbody>\n",
       "</table>\n",
       "<p>7527 rows × 209 columns</p>\n",
       "</div>"
      ],
      "text/plain": [
       "        0    1    2    3    4    5    6    7    8    9  ...  199  200  201  \\\n",
       "0     0.0  0.0  0.0  0.0  0.0  0.0  0.0  0.0  0.0  0.0  ...  0.0  0.0  0.0   \n",
       "1     0.0  0.0  0.0  0.0  0.0  0.0  0.0  0.0  0.0  0.0  ...  1.0  0.0  0.0   \n",
       "2     0.0  0.0  1.0  0.0  0.0  0.0  0.0  0.0  0.0  0.0  ...  1.0  0.0  0.0   \n",
       "3     0.0  0.0  0.0  0.0  0.0  0.0  0.0  0.0  0.0  1.0  ...  0.0  0.0  0.0   \n",
       "4     0.0  0.0  0.0  0.0  0.0  0.0  0.0  0.0  0.0  0.0  ...  0.0  0.0  0.0   \n",
       "...   ...  ...  ...  ...  ...  ...  ...  ...  ...  ...  ...  ...  ...  ...   \n",
       "7522  0.0  0.0  0.0  0.0  0.0  0.0  0.0  0.0  0.0  0.0  ...  0.0  0.0  0.0   \n",
       "7523  0.0  0.0  0.0  0.0  0.0  0.0  0.0  0.0  0.0  0.0  ...  0.0  0.0  0.0   \n",
       "7524  0.0  0.0  0.0  0.0  0.0  0.0  0.0  0.0  0.0  0.0  ...  0.0  0.0  0.0   \n",
       "7525  0.0  0.0  0.0  0.0  0.0  0.0  0.0  0.0  0.0  0.0  ...  0.0  0.0  1.0   \n",
       "7526  0.0  0.0  0.0  0.0  0.0  0.0  0.0  0.0  0.0  0.0  ...  0.0  0.0  0.0   \n",
       "\n",
       "      202  203  204   index  population  Inflacion  Desocupacion  \n",
       "0     0.0  0.0  0.0     0.0    784776.0       0.54          3.63  \n",
       "1     0.0  0.0  0.0     1.0     14692.0       0.39          3.32  \n",
       "2     0.0  0.0  0.0     2.0    244219.0       0.39          3.32  \n",
       "3     0.0  0.0  0.0     3.0    654876.0       0.53          3.69  \n",
       "4     0.0  0.0  1.0     4.0    300050.0       0.42          3.63  \n",
       "...   ...  ...  ...     ...         ...        ...           ...  \n",
       "7522  0.0  0.0  0.0  7522.0     14692.0       0.54          3.63  \n",
       "7523  0.0  0.0  0.0  7523.0    277375.0       0.53          3.69  \n",
       "7524  0.0  0.0  0.0  7524.0    151243.0       0.52          3.69  \n",
       "7525  0.0  0.0  0.0  7525.0    366321.0      -0.16          3.32  \n",
       "7526  0.0  1.0  0.0  7526.0    332863.0       0.52          3.17  \n",
       "\n",
       "[7527 rows x 209 columns]"
      ]
     },
     "execution_count": 158,
     "metadata": {},
     "output_type": "execute_result"
    }
   ],
   "source": [
    "test_set_tr = test_set_tr.drop(columns=['Incidencias_Norm'])\n",
    "test_set_tr"
   ]
  },
  {
   "cell_type": "code",
   "execution_count": 159,
   "metadata": {},
   "outputs": [
    {
     "data": {
      "text/plain": [
       "array([[ 0.00000e+00,  0.00000e+00,  0.00000e+00, ...,  7.84776e+05,\n",
       "         5.40000e-01,  3.63000e+00],\n",
       "       [ 0.00000e+00,  0.00000e+00,  0.00000e+00, ...,  1.46920e+04,\n",
       "         3.90000e-01,  3.32000e+00],\n",
       "       [ 0.00000e+00,  0.00000e+00,  1.00000e+00, ...,  2.44219e+05,\n",
       "         3.90000e-01,  3.32000e+00],\n",
       "       ...,\n",
       "       [ 0.00000e+00,  0.00000e+00,  0.00000e+00, ...,  1.51243e+05,\n",
       "         5.20000e-01,  3.69000e+00],\n",
       "       [ 0.00000e+00,  0.00000e+00,  0.00000e+00, ...,  3.66321e+05,\n",
       "        -1.60000e-01,  3.32000e+00],\n",
       "       [ 0.00000e+00,  0.00000e+00,  0.00000e+00, ...,  3.32863e+05,\n",
       "         5.20000e-01,  3.17000e+00]])"
      ]
     },
     "execution_count": 159,
     "metadata": {},
     "output_type": "execute_result"
    }
   ],
   "source": [
    "test_set_tr.to_numpy()"
   ]
  },
  {
   "cell_type": "code",
   "execution_count": 164,
   "metadata": {},
   "outputs": [],
   "source": [
    "rows, cols = test_set_tr.shape\n",
    "Y_b = np.c_[np.ones((rows, 1)), test_set_tr]"
   ]
  },
  {
   "cell_type": "code",
   "execution_count": 165,
   "metadata": {},
   "outputs": [
    {
     "name": "stdout",
     "output_type": "stream",
     "text": [
      "[1.00000e+00 0.00000e+00 0.00000e+00 0.00000e+00 0.00000e+00 0.00000e+00\n",
      " 0.00000e+00 0.00000e+00 0.00000e+00 0.00000e+00 0.00000e+00 0.00000e+00\n",
      " 0.00000e+00 0.00000e+00 0.00000e+00 0.00000e+00 1.00000e+00 0.00000e+00\n",
      " 0.00000e+00 0.00000e+00 0.00000e+00 0.00000e+00 0.00000e+00 0.00000e+00\n",
      " 0.00000e+00 0.00000e+00 0.00000e+00 0.00000e+00 0.00000e+00 0.00000e+00\n",
      " 0.00000e+00 0.00000e+00 0.00000e+00 1.00000e+00 0.00000e+00 0.00000e+00\n",
      " 0.00000e+00 0.00000e+00 0.00000e+00 0.00000e+00 0.00000e+00 0.00000e+00\n",
      " 0.00000e+00 0.00000e+00 0.00000e+00 0.00000e+00 0.00000e+00 0.00000e+00\n",
      " 0.00000e+00 0.00000e+00 0.00000e+00 0.00000e+00 0.00000e+00 0.00000e+00\n",
      " 0.00000e+00 0.00000e+00 0.00000e+00 0.00000e+00 0.00000e+00 0.00000e+00\n",
      " 0.00000e+00 0.00000e+00 0.00000e+00 0.00000e+00 0.00000e+00 0.00000e+00\n",
      " 0.00000e+00 0.00000e+00 0.00000e+00 0.00000e+00 0.00000e+00 0.00000e+00\n",
      " 1.00000e+00 0.00000e+00 0.00000e+00 0.00000e+00 0.00000e+00 0.00000e+00\n",
      " 0.00000e+00 0.00000e+00 0.00000e+00 0.00000e+00 0.00000e+00 0.00000e+00\n",
      " 0.00000e+00 0.00000e+00 0.00000e+00 0.00000e+00 0.00000e+00 0.00000e+00\n",
      " 0.00000e+00 0.00000e+00 0.00000e+00 0.00000e+00 0.00000e+00 0.00000e+00\n",
      " 0.00000e+00 0.00000e+00 0.00000e+00 0.00000e+00 0.00000e+00 0.00000e+00\n",
      " 0.00000e+00 0.00000e+00 0.00000e+00 0.00000e+00 0.00000e+00 0.00000e+00\n",
      " 0.00000e+00 0.00000e+00 0.00000e+00 0.00000e+00 0.00000e+00 0.00000e+00\n",
      " 0.00000e+00 0.00000e+00 0.00000e+00 0.00000e+00 0.00000e+00 0.00000e+00\n",
      " 0.00000e+00 0.00000e+00 1.00000e+00 0.00000e+00 0.00000e+00 0.00000e+00\n",
      " 0.00000e+00 0.00000e+00 0.00000e+00 0.00000e+00 0.00000e+00 0.00000e+00\n",
      " 0.00000e+00 0.00000e+00 0.00000e+00 0.00000e+00 0.00000e+00 0.00000e+00\n",
      " 0.00000e+00 0.00000e+00 0.00000e+00 0.00000e+00 0.00000e+00 0.00000e+00\n",
      " 0.00000e+00 0.00000e+00 0.00000e+00 0.00000e+00 0.00000e+00 0.00000e+00\n",
      " 0.00000e+00 0.00000e+00 0.00000e+00 0.00000e+00 0.00000e+00 0.00000e+00\n",
      " 0.00000e+00 0.00000e+00 0.00000e+00 0.00000e+00 0.00000e+00 0.00000e+00\n",
      " 0.00000e+00 0.00000e+00 0.00000e+00 0.00000e+00 0.00000e+00 0.00000e+00\n",
      " 0.00000e+00 0.00000e+00 0.00000e+00 0.00000e+00 0.00000e+00 0.00000e+00\n",
      " 0.00000e+00 0.00000e+00 0.00000e+00 0.00000e+00 0.00000e+00 0.00000e+00\n",
      " 0.00000e+00 0.00000e+00 0.00000e+00 0.00000e+00 0.00000e+00 0.00000e+00\n",
      " 0.00000e+00 1.00000e+00 0.00000e+00 0.00000e+00 0.00000e+00 0.00000e+00\n",
      " 0.00000e+00 0.00000e+00 0.00000e+00 0.00000e+00 0.00000e+00 0.00000e+00\n",
      " 0.00000e+00 1.00000e+00 0.00000e+00 0.00000e+00 0.00000e+00 0.00000e+00\n",
      " 0.00000e+00 0.00000e+00 0.00000e+00 7.84776e+05 5.40000e-01 3.63000e+00]\n",
      "[ 1.      0.      0.     ...  0.2916  1.9602 13.1769]\n"
     ]
    }
   ],
   "source": [
    "# Crea objeto para transformar\n",
    "poly_features = PolynomialFeatures(degree=2, include_bias=False)\n",
    "\n",
    "# Transforma conjunto de datos con el objeto para transformar\n",
    "Y_poly = poly_features.fit_transform(Y_b)\n",
    "\n",
    "# Imprime comparativa entre dato original y dato tranformado\n",
    "print(Y_b[0])\n",
    "print(Y_poly[0])"
   ]
  },
  {
   "cell_type": "code",
   "execution_count": 166,
   "metadata": {},
   "outputs": [
    {
     "data": {
      "text/plain": [
       "((7527, 210), (7527, 22365))"
      ]
     },
     "execution_count": 166,
     "metadata": {},
     "output_type": "execute_result"
    }
   ],
   "source": [
    "Y_b.shape, Y_poly.shape"
   ]
  },
  {
   "cell_type": "code",
   "execution_count": 176,
   "metadata": {},
   "outputs": [
    {
     "data": {
      "text/plain": [
       "array([[-1491.8386031 ],\n",
       "       [-1487.28116175],\n",
       "       [-1492.85292918],\n",
       "       ...,\n",
       "       [-1492.47362382],\n",
       "       [-1492.18834045],\n",
       "       [-1492.94324995]])"
      ]
     },
     "execution_count": 176,
     "metadata": {},
     "output_type": "execute_result"
    }
   ],
   "source": [
    "Y_modelo = np.dot(Y_poly, lin_reg.coef_.T)\n",
    "Y_modelo"
   ]
  },
  {
   "cell_type": "code",
   "execution_count": 177,
   "metadata": {},
   "outputs": [
    {
     "data": {
      "text/plain": [
       "array([[ 0.30506092],\n",
       "       [ 4.86250227],\n",
       "       [-0.70926517],\n",
       "       ...,\n",
       "       [-0.3299598 ],\n",
       "       [-0.04467644],\n",
       "       [-0.79958593]])"
      ]
     },
     "execution_count": 177,
     "metadata": {},
     "output_type": "execute_result"
    }
   ],
   "source": [
    "Y_masIntercepto = lin_reg.intercept_ + Y_modelo\n",
    "Y_masIntercepto"
   ]
  },
  {
   "cell_type": "code",
   "execution_count": 179,
   "metadata": {},
   "outputs": [
    {
     "data": {
      "text/plain": [
       "4.408455570220087"
      ]
     },
     "execution_count": 179,
     "metadata": {},
     "output_type": "execute_result"
    }
   ],
   "source": [
    "# ECM\n",
    "ecm = ((Y_masIntercepto-test_ind)**2).mean()\n",
    "ecm"
   ]
  },
  {
   "cell_type": "code",
   "execution_count": null,
   "metadata": {},
   "outputs": [],
   "source": []
  }
 ],
 "metadata": {
  "colab": {
   "collapsed_sections": [],
   "name": "proyecto_cdd.ipynb",
   "provenance": [],
   "toc_visible": true
  },
  "kernelspec": {
   "display_name": "Python 3 (ipykernel)",
   "language": "python",
   "name": "python3"
  },
  "language_info": {
   "codemirror_mode": {
    "name": "ipython",
    "version": 3
   },
   "file_extension": ".py",
   "mimetype": "text/x-python",
   "name": "python",
   "nbconvert_exporter": "python",
   "pygments_lexer": "ipython3",
   "version": "3.9.12"
  }
 },
 "nbformat": 4,
 "nbformat_minor": 1
}
